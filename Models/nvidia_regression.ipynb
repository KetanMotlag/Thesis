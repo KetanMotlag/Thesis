{
 "cells": [
  {
   "cell_type": "code",
   "execution_count": 1,
   "id": "6c04f906",
   "metadata": {},
   "outputs": [],
   "source": [
    "from typing import Iterator, List, Union, Tuple\n",
    "from datetime import datetime\n",
    "import pandas as pd\n",
    "import matplotlib.pyplot as plt\n",
    "import seaborn as sns\n",
    "from sklearn.model_selection import train_test_split\n",
    "\n",
    "from tensorflow import keras\n",
    "from tensorflow.keras.preprocessing.image import ImageDataGenerator\n",
    "from tensorflow.keras import layers, models, Model\n",
    "from tensorflow.python.keras.callbacks import TensorBoard, EarlyStopping, ModelCheckpoint\n",
    "from tensorflow.keras.losses import MeanAbsoluteError, MeanAbsolutePercentageError, MeanSquaredError\n",
    "from tensorflow.keras.models import Sequential\n",
    "from tensorflow.keras.applications import ResNet50\n",
    "from tensorflow.keras.utils import plot_model\n",
    "from tensorflow.keras.callbacks import History\n",
    "import os\n",
    "\n"
   ]
  },
  {
   "cell_type": "code",
   "execution_count": 2,
   "id": "de9ff45e",
   "metadata": {},
   "outputs": [],
   "source": [
    "from tensorflow.keras import initializers\n"
   ]
  },
  {
   "cell_type": "code",
   "execution_count": 25,
   "id": "7d9d2324",
   "metadata": {},
   "outputs": [],
   "source": [
    "dataset = ('C:/Users/Ketan/Thesis/PilotNet/src/driving_dataset')"
   ]
  },
  {
   "cell_type": "code",
   "execution_count": 4,
   "id": "78a8c818",
   "metadata": {},
   "outputs": [],
   "source": [
    "# Read the data\n",
    "df = pd.io.parsers.read_csv(os.path.join(dataset, 'data_new.csv'))\n",
    "# Split data into training and validation sets\n",
    "df_train, df_val = train_test_split(df, test_size=.2)\n"
   ]
  },
  {
   "cell_type": "code",
   "execution_count": 5,
   "id": "916185a0",
   "metadata": {},
   "outputs": [
    {
     "name": "stderr",
     "output_type": "stream",
     "text": [
      "C:\\Users\\Ketan\\AppData\\Local\\Temp/ipykernel_8212/2869931957.py:1: FutureWarning: Dropping of nuisance columns in DataFrame reductions (with 'numeric_only=None') is deprecated; in a future version this will raise TypeError.  Select only valid columns before calling the reduction.\n",
      "  df_train.mean(axis=0)\n"
     ]
    },
    {
     "data": {
      "text/plain": [
       "angle    1.804542\n",
       "dtype: float64"
      ]
     },
     "execution_count": 5,
     "metadata": {},
     "output_type": "execute_result"
    }
   ],
   "source": [
    "df_train.mean(axis=0)"
   ]
  },
  {
   "cell_type": "code",
   "execution_count": null,
   "id": "1afca791",
   "metadata": {},
   "outputs": [],
   "source": []
  },
  {
   "cell_type": "code",
   "execution_count": 6,
   "id": "c889b67a",
   "metadata": {},
   "outputs": [],
   "source": [
    "datagen=ImageDataGenerator(rescale=1./255)"
   ]
  },
  {
   "cell_type": "code",
   "execution_count": 7,
   "id": "83b88941",
   "metadata": {},
   "outputs": [
    {
     "name": "stdout",
     "output_type": "stream",
     "text": [
      "Found 36324 validated image filenames.\n"
     ]
    }
   ],
   "source": [
    "train_generator=datagen.flow_from_dataframe(dataframe=df_train, directory=dataset, x_col=\"image\", y_col=\"angle\", \n",
    "                                            class_mode=\"raw\", target_size=(256, 455), batch_size=32)"
   ]
  },
  {
   "cell_type": "code",
   "execution_count": null,
   "id": "027af6dc",
   "metadata": {},
   "outputs": [],
   "source": []
  },
  {
   "cell_type": "code",
   "execution_count": 8,
   "id": "1e74d6f3",
   "metadata": {},
   "outputs": [
    {
     "name": "stdout",
     "output_type": "stream",
     "text": [
      "Found 9081 validated image filenames.\n"
     ]
    }
   ],
   "source": [
    "val_generator=datagen.flow_from_dataframe(dataframe=df_val, directory=dataset, x_col=\"image\", y_col=\"angle\", \n",
    "                                            class_mode=\"raw\", target_size=(256, 455), batch_size=32)"
   ]
  },
  {
   "cell_type": "code",
   "execution_count": 9,
   "id": "38fb978c",
   "metadata": {},
   "outputs": [],
   "source": [
    "input_shape = (256, 455, 3)"
   ]
  },
  {
   "cell_type": "code",
   "execution_count": 10,
   "id": "8178264a",
   "metadata": {},
   "outputs": [],
   "source": [
    "from keras.layers import Flatten, Dense\n",
    "from keras.layers import BatchNormalization\n",
    "from keras.layers import Conv2D\n",
    "from keras.layers import pooling\n",
    "from keras.layers import Dropout\n",
    "from keras.layers import InputLayer\n",
    "\n"
   ]
  },
  {
   "cell_type": "code",
   "execution_count": 11,
   "id": "3a5bb76b",
   "metadata": {},
   "outputs": [
    {
     "name": "stdout",
     "output_type": "stream",
     "text": [
      "Model: \"sequential\"\n",
      "_________________________________________________________________\n",
      "Layer (type)                 Output Shape              Param #   \n",
      "=================================================================\n",
      "batch_normalization (BatchNo (None, 256, 455, 3)       12        \n",
      "_________________________________________________________________\n",
      "conv2d (Conv2D)              (None, 126, 226, 24)      1824      \n",
      "_________________________________________________________________\n",
      "conv2d_1 (Conv2D)            (None, 61, 111, 36)       21636     \n",
      "_________________________________________________________________\n",
      "conv2d_2 (Conv2D)            (None, 29, 54, 48)        43248     \n",
      "_________________________________________________________________\n",
      "conv2d_3 (Conv2D)            (None, 27, 52, 64)        27712     \n",
      "_________________________________________________________________\n",
      "target_layer (Conv2D)        (None, 25, 50, 64)        36928     \n",
      "_________________________________________________________________\n",
      "flatten (Flatten)            (None, 80000)             0         \n",
      "_________________________________________________________________\n",
      "dense (Dense)                (None, 1164)              93121164  \n",
      "_________________________________________________________________\n",
      "dropout (Dropout)            (None, 1164)              0         \n",
      "_________________________________________________________________\n",
      "dense_1 (Dense)              (None, 100)               116500    \n",
      "_________________________________________________________________\n",
      "dropout_1 (Dropout)          (None, 100)               0         \n",
      "_________________________________________________________________\n",
      "dense_2 (Dense)              (None, 50)                5050      \n",
      "_________________________________________________________________\n",
      "dropout_2 (Dropout)          (None, 50)                0         \n",
      "_________________________________________________________________\n",
      "dense_3 (Dense)              (None, 10)                510       \n",
      "_________________________________________________________________\n",
      "dropout_3 (Dropout)          (None, 10)                0         \n",
      "_________________________________________________________________\n",
      "dense_4 (Dense)              (None, 1)                 11        \n",
      "=================================================================\n",
      "Total params: 93,374,595\n",
      "Trainable params: 93,374,589\n",
      "Non-trainable params: 6\n",
      "_________________________________________________________________\n"
     ]
    }
   ],
   "source": [
    "# define PilotNet model, with batch normalization included.\n",
    "def get_model(input_shape):\n",
    "    model = Sequential([\n",
    "        InputLayer(input_shape=input_shape),\n",
    "        BatchNormalization(),\n",
    "        Conv2D(24, kernel_size=(5,5), strides=(2,2), activation='relu', input_shape=input_shape, padding='valid',\n",
    "               kernel_initializer=initializers.truncated_normal(stddev=0.01)),\n",
    "#         BatchNormalization(),\n",
    "#         pooling.MaxPooling2D(pool_size=(2, 2),padding='same'),\n",
    "        Conv2D(36, kernel_size=(5,5), strides=(2,2), activation='relu', padding='valid'),\n",
    "#         BatchNormalization(axis=1),\n",
    "#         pooling.MaxPooling2D(pool_size=(2, 2),padding='same'),\n",
    "\n",
    "        Conv2D(48, kernel_size=(5,5), strides=(2,2), activation='relu', padding='valid'),\n",
    "#         BatchNormalization(axis=1),\n",
    "#         pooling.MaxPooling2D(pool_size=(2, 2),padding='same'),\n",
    "\n",
    "        Conv2D(64, kernel_size=(3,3), strides=(1,1), activation='relu', padding='valid'),\n",
    "#         BatchNormalization(axis=1),\n",
    "#         pooling.MaxPooling2D(pool_size=(2, 2),padding='same'),\n",
    "\n",
    "        Conv2D(64, kernel_size=(3,3), strides=(1,1), activation='relu',name='target_layer', padding='valid'),\n",
    "#         BatchNormalization(axis=1),\n",
    "#         pooling.MaxPooling2D(pool_size=(2, 2),padding='same'),\n",
    "\n",
    "        Flatten(),\n",
    "        Dense(1164, activation='relu', kernel_regularizer= keras.regularizers.L2(l2=1e-3)),\n",
    "        Dropout(.5),\n",
    "        Dense(100, activation='relu', kernel_regularizer= keras.regularizers.L2(l2=1e-3)),\n",
    "#         BatchNormalization(),\n",
    "        Dropout(.5),\n",
    "        Dense(50, activation='relu', kernel_regularizer= keras.regularizers.L2(l2=1e-3)),\n",
    "#         BatchNormalization(),\n",
    "        Dropout(.25),\n",
    "        Dense(10, activation='relu', kernel_regularizer= keras.regularizers.L2(l2=1e-3)),\n",
    "        Dropout(.25),\n",
    "\n",
    "#         BatchNormalization(),\n",
    "        Dense(1)\n",
    "    ])\n",
    "    \n",
    "    return model\n",
    "\n",
    "model = get_model(input_shape)\n",
    "#sgd = SGD(learning_rate=1e-3, decay=1e-4, momentum=0.9, nesterov=True)\n",
    "model.compile(optimizer=keras.optimizers.Adam(learning_rate=1e-04), loss=\"mse\",  metrics=[keras.metrics.MeanSquaredError()]) \n",
    "model.summary()"
   ]
  },
  {
   "cell_type": "code",
   "execution_count": 20,
   "id": "a7d357ac",
   "metadata": {},
   "outputs": [],
   "source": [
    "model = Sequential()\n",
    "model.add(Conv2D(16,3,3, input_shape=(256,455,3), activation='relu', kernel_initializer=initializers.truncated_normal(stddev=0.01)))\n",
    "# model.add(pooling.MaxPooling2D(pool_size=(2, 2),padding='same'))\n",
    "model.add(Conv2D(32, 3, 3, activation='relu'))\n",
    "# model.add(pooling.MaxPooling2D(pool_size=(2, 2),padding='same'))\n",
    "model.add(Conv2D(64, 3, 3, activation='relu'))\n",
    "# model.add(pooling.MaxPooling2D(pool_size=(2, 2),padding='same'))\n",
    "model.add(Conv2D(64, 3, 3, activation='relu'))\n",
    "model.add(Flatten())\n",
    "model.add(Dense(960, activation='relu'))\n",
    "model.add(Dropout(.5))\n",
    "model.add(Dense(500, activation='relu'))\n",
    "model.add(Dropout(.5))\n",
    "model.add(Dense(100, activation='relu'))\n",
    "model.add(Dropout(.25))\n",
    "model.add(Dense(20, activation='relu'))\n",
    "model.add(Dropout(.25))\n",
    "model.add(Dense(1))\n",
    "model.compile(optimizer=keras.optimizers.Adam(learning_rate=1e-04), loss='mse',metrics=['MeanSquaredError'])"
   ]
  },
  {
   "cell_type": "code",
   "execution_count": null,
   "id": "f3e841d4",
   "metadata": {},
   "outputs": [],
   "source": [
    "model.summary()"
   ]
  },
  {
   "cell_type": "code",
   "execution_count": null,
   "id": "cd7cc4f9",
   "metadata": {},
   "outputs": [],
   "source": [
    "def build_model(drop_prob = 0.2, learn_rate=0.001, constraint=maxnorm(3), reg = None, verbose = False): \n",
    "    backend.clear_session()\n",
    "    model = Sequential()\n",
    "\n",
    "    ###--- Convolutional Neural Network --- ### \n",
    "    input_shape = (180, 320, 3)\n",
    "\n",
    "    model.add(Cropping2D(cropping=((60, 0), (0, 0)), input_shape=input_shape))\n",
    "    # model.add(Lambda(resize, input_shape=input_shape))\n",
    "    model.add(BatchNormalization(name='r0'))\n",
    "\n",
    "    ### conv. layers \n",
    "    model.add(Convolution2D(filters=24,\n",
    "                            kernel_size=(5, 5),\n",
    "                            strides = (2, 2),\n",
    "                            activation='relu',\n",
    "                            kernel_regularizer=reg, \n",
    "                            input_shape=input_shape, \n",
    "                            ))\n",
    "    '''READ THIS try adding max pool - before min loss was 7.04'''\n",
    "#     model.add(MaxPooling2D(pool_size=(2, 2)))\n",
    "    model.add(BatchNormalization(name='r1'))\n",
    "\n",
    "    model.add(Convolution2D(filters=36,\n",
    "                            kernel_size=(5, 5),\n",
    "                            strides = (2, 2),\n",
    "                            activation='relu',\n",
    "                            kernel_regularizer=reg, \n",
    "                            ))\n",
    "    model.add(BatchNormalization(name='r2'))\n",
    "\n",
    "    model.add(Convolution2D(filters=48,\n",
    "                            kernel_size=(5, 5),\n",
    "                            strides = (2, 2),\n",
    "                            activation='relu',\n",
    "                            kernel_regularizer=reg, \n",
    "                            ))\n",
    "    model.add(BatchNormalization(name='r3'))\n",
    "\n",
    "    model.add(Convolution2D(filters=64,\n",
    "                            kernel_size=(3, 3),\n",
    "                            strides = (1, 1),\n",
    "                            activation='relu',\n",
    "                            kernel_regularizer=reg, \n",
    "                            ))\n",
    "    model.add(BatchNormalization(name='r4'))\n",
    "\n",
    "    model.add(Convolution2D(filters=64,\n",
    "                            kernel_size=(1, 1),\n",
    "                            strides = (2, 2),\n",
    "                            activation='relu',\n",
    "                            kernel_regularizer=reg, \n",
    "                            ))\n",
    "    model.add(BatchNormalization(name='r5'))\n",
    "\n",
    "    ### fully connect layers \n",
    "    model.add(Flatten())\n",
    "    model.add(Dense(1164, activation='relu', kernel_constraint=constraint))\n",
    "    model.add(Dropout(drop_prob))\n",
    "\n",
    "    model.add(Dense(100, activation='relu', kernel_constraint=constraint))\n",
    "    model.add(Dropout(drop_prob))\n",
    "\n",
    "    model.add(Dense(50, activation='relu', kernel_constraint=constraint))\n",
    "    model.add(Dropout(drop_prob))\n",
    "\n",
    "    model.add(Dense(10, activation='relu', kernel_constraint=constraint))\n",
    "    model.add(Dropout(drop_prob))\n",
    "\n",
    "    model.add(Dense(1, activation='linear'))\n",
    "\n",
    "    if verbose: \n",
    "        # Summarize the model\n",
    "        model.summary()\n",
    "    \n",
    "    #compile \n",
    "    model.compile(loss='mse', optimizer=optimizers.Adam(lr=learn_rate))\n",
    "\n",
    "    return model"
   ]
  },
  {
   "cell_type": "code",
   "execution_count": 12,
   "id": "d0d6dfab",
   "metadata": {},
   "outputs": [],
   "source": [
    "STEP_SIZE_TRAIN=train_generator.n//train_generator.batch_size\n",
    "STEP_SIZE_VALID=val_generator.n//val_generator.batch_size"
   ]
  },
  {
   "cell_type": "code",
   "execution_count": 13,
   "id": "85b2b3b9",
   "metadata": {},
   "outputs": [],
   "source": [
    "checkpoint_filepath = './logs2'\n"
   ]
  },
  {
   "cell_type": "code",
   "execution_count": 14,
   "id": "ba538a14",
   "metadata": {},
   "outputs": [],
   "source": [
    "callback1 = keras.callbacks.ModelCheckpoint(filepath=checkpoint_filepath, monitor='val_loss', verbose=0, \n",
    "                                               save_best_only=False, save_weights_only=False, mode='auto', \n",
    "                                               save_freq='epoch',options=None)"
   ]
  },
  {
   "cell_type": "code",
   "execution_count": 15,
   "id": "de26d3d6",
   "metadata": {},
   "outputs": [],
   "source": [
    "callback2 = keras.callbacks.EarlyStopping(monitor=\"val_loss\", patience = 2) \n"
   ]
  },
  {
   "cell_type": "code",
   "execution_count": null,
   "id": "ad7db1fb",
   "metadata": {},
   "outputs": [],
   "source": [
    "model.fit_generator(generator=train_generator,\n",
    "                    steps_per_epoch=STEP_SIZE_TRAIN,\n",
    "                    validation_data=val_generator,\n",
    "                    validation_steps=STEP_SIZE_VALID,\n",
    "                    epochs=10, callbacks=[callback1,callback2])"
   ]
  },
  {
   "cell_type": "code",
   "execution_count": 16,
   "id": "f8cbde9c",
   "metadata": {},
   "outputs": [],
   "source": [
    "model.save('nvidia_regression_v1.h5')"
   ]
  },
  {
   "cell_type": "code",
   "execution_count": null,
   "id": "f98fa8b1",
   "metadata": {},
   "outputs": [],
   "source": []
  },
  {
   "cell_type": "code",
   "execution_count": null,
   "id": "01bf4247",
   "metadata": {},
   "outputs": [],
   "source": []
  },
  {
   "cell_type": "code",
   "execution_count": 24,
   "id": "ff82112d",
   "metadata": {},
   "outputs": [],
   "source": []
  },
  {
   "cell_type": "code",
   "execution_count": null,
   "id": "6bfb872a",
   "metadata": {},
   "outputs": [],
   "source": []
  },
  {
   "cell_type": "code",
   "execution_count": null,
   "id": "04fe2b93",
   "metadata": {},
   "outputs": [],
   "source": []
  },
  {
   "cell_type": "code",
   "execution_count": null,
   "id": "0ac9e071",
   "metadata": {},
   "outputs": [],
   "source": []
  },
  {
   "cell_type": "code",
   "execution_count": null,
   "id": "0d652cf2",
   "metadata": {},
   "outputs": [],
   "source": []
  },
  {
   "cell_type": "code",
   "execution_count": null,
   "id": "79d3c66c",
   "metadata": {},
   "outputs": [],
   "source": []
  },
  {
   "cell_type": "code",
   "execution_count": null,
   "id": "951454bb",
   "metadata": {},
   "outputs": [],
   "source": []
  },
  {
   "cell_type": "code",
   "execution_count": null,
   "id": "b288a343",
   "metadata": {},
   "outputs": [],
   "source": []
  }
 ],
 "metadata": {
  "kernelspec": {
   "display_name": "Python [conda env:tf-gpu-cuda] *",
   "language": "python",
   "name": "conda-env-tf-gpu-cuda-py"
  },
  "language_info": {
   "codemirror_mode": {
    "name": "ipython",
    "version": 3
   },
   "file_extension": ".py",
   "mimetype": "text/x-python",
   "name": "python",
   "nbconvert_exporter": "python",
   "pygments_lexer": "ipython3",
   "version": "3.9.6"
  }
 },
 "nbformat": 4,
 "nbformat_minor": 5
}
