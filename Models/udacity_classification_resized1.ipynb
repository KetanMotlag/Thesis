{
 "cells": [
  {
   "cell_type": "code",
   "execution_count": 1,
   "id": "40ae3f29",
   "metadata": {},
   "outputs": [],
   "source": [
    "import numpy as np\n",
    "import os\n",
    "import tensorflow as tf\n",
    "import pandas as pd\n",
    "from keras import models, optimizers, backend\n",
    "from keras.layers import core, convolutional, pooling\n",
    "from sklearn import model_selection\n",
    "import cv2\n",
    "import random\n",
    "\n",
    "from tensorflow.keras.utils import Sequence\n",
    "import matplotlib.image as mpimg\n",
    "\n",
    "import json\n",
    "import matplotlib.pyplot as plt\n",
    "\n",
    "from PIL import Image\n",
    "import skimage \n",
    "from skimage.transform import resize\n",
    "\n",
    "from keras_preprocessing.image import ImageDataGenerator\n",
    "from tensorflow.keras import optimizers\n",
    "from sklearn.preprocessing import LabelEncoder\n",
    "\n",
    "\n",
    "from keras.preprocessing import image\n",
    "from keras.applications.imagenet_utils import decode_predictions\n",
    "from skimage.io import imread\n",
    "from lime import lime_image\n",
    "\n",
    "from keras.applications import inception_v3 as inc_net\n",
    "from keras.applications.imagenet_utils import decode_predictions\n",
    "\n",
    "\n"
   ]
  },
  {
   "cell_type": "code",
   "execution_count": 2,
   "id": "647e8d0c",
   "metadata": {},
   "outputs": [],
   "source": [
    "dataset = ('C:/Users/Ketan/Thesis/self-driving-car/challenges/resized_dataset_udacity_320x240')"
   ]
  },
  {
   "cell_type": "code",
   "execution_count": 3,
   "id": "10a05385",
   "metadata": {},
   "outputs": [],
   "source": [
    "# Read the data\n",
    "df = pd.io.parsers.read_csv(os.path.join(dataset, 'out.csv'))\n",
    "# # Split data into training and validation sets\n",
    "df_train, df_valid = model_selection.train_test_split(df, test_size=.2)"
   ]
  },
  {
   "cell_type": "code",
   "execution_count": 4,
   "id": "f50de334",
   "metadata": {},
   "outputs": [],
   "source": [
    "pd.options.mode.chained_assignment = None #default = warn"
   ]
  },
  {
   "cell_type": "code",
   "execution_count": 5,
   "id": "d8da67d4",
   "metadata": {},
   "outputs": [],
   "source": [
    "df_train['angle_range'] = pd.qcut(df_train['angle'], q=10)\n",
    "df_valid['angle_range'] = pd.qcut(df_valid['angle'], q=10)"
   ]
  },
  {
   "cell_type": "code",
   "execution_count": 6,
   "id": "c4f14054",
   "metadata": {},
   "outputs": [],
   "source": [
    "df_train['labels']= df_train['angle_range'].cat.codes\n",
    "df_valid['labels']= df_valid['angle_range'].cat.codes"
   ]
  },
  {
   "cell_type": "code",
   "execution_count": 7,
   "id": "006d4999",
   "metadata": {},
   "outputs": [],
   "source": [
    "df_train['labels'] = df_train['labels'].apply(str)\n",
    "df_valid['labels'] = df_valid['labels'].apply(str)\n"
   ]
  },
  {
   "cell_type": "code",
   "execution_count": 13,
   "id": "5fc1b55b",
   "metadata": {},
   "outputs": [
    {
     "name": "stdout",
     "output_type": "stream",
     "text": [
      "Found 4491 validated image filenames belonging to 10 classes.\n"
     ]
    }
   ],
   "source": [
    "datagen=ImageDataGenerator(rescale=1./255)\n",
    "train_generator=datagen.flow_from_dataframe(dataframe=df_train, directory=dataset, x_col=\"File\", y_col=\"labels\", \n",
    "                                            class_mode=\"categorical\", target_size=(240,320), batch_size=32, shuffle = True)"
   ]
  },
  {
   "cell_type": "code",
   "execution_count": 14,
   "id": "e864f82a",
   "metadata": {},
   "outputs": [
    {
     "name": "stdout",
     "output_type": "stream",
     "text": [
      "Found 1123 validated image filenames belonging to 10 classes.\n"
     ]
    }
   ],
   "source": [
    "valid_generator=datagen.flow_from_dataframe(dataframe=df_valid, directory=dataset, \n",
    "                                            x_col=\"File\", y_col=\"labels\", class_mode=\"categorical\", target_size=(240,320), \n",
    "                                            batch_size=32, shuffle = True)"
   ]
  },
  {
   "cell_type": "code",
   "execution_count": 15,
   "id": "d4ad7e7b",
   "metadata": {},
   "outputs": [],
   "source": [
    "model = models.Sequential()\n",
    "model.add(convolutional.Convolution2D(16,3,3, input_shape=(240,320,3), activation='relu'))\n",
    "model.add(pooling.MaxPooling2D(pool_size=(2, 2),padding='same'))\n",
    "model.add(convolutional.Convolution2D(32, 3, 3, activation='relu'))\n",
    "model.add(pooling.MaxPooling2D(pool_size=(2, 2),padding='same'))\n",
    "model.add(convolutional.Convolution2D(64, 3, 3, activation='relu'))\n",
    "model.add(pooling.MaxPooling2D(pool_size=(2, 2),padding='same'))\n",
    "model.add(core.Flatten())\n",
    "model.add(core.Dense(500, activation='relu'))\n",
    "model.add(core.Dropout(.5))\n",
    "model.add(core.Dense(100, activation='relu'))\n",
    "model.add(core.Dropout(.25))\n",
    "model.add(core.Dense(20, activation='relu'))\n",
    "model.add(core.Dense(10, activation='softmax'))\n",
    "model.compile(optimizer=tf.keras.optimizers.Adam(learning_rate=1e-04), loss='categorical_crossentropy',metrics=['AUC', 'categorical_accuracy'])"
   ]
  },
  {
   "cell_type": "code",
   "execution_count": 16,
   "id": "6ffb6afc",
   "metadata": {},
   "outputs": [
    {
     "name": "stdout",
     "output_type": "stream",
     "text": [
      "Model: \"sequential_1\"\n",
      "_________________________________________________________________\n",
      "Layer (type)                 Output Shape              Param #   \n",
      "=================================================================\n",
      "conv2d_3 (Conv2D)            (None, 80, 106, 16)       448       \n",
      "_________________________________________________________________\n",
      "max_pooling2d_3 (MaxPooling2 (None, 40, 53, 16)        0         \n",
      "_________________________________________________________________\n",
      "conv2d_4 (Conv2D)            (None, 13, 17, 32)        4640      \n",
      "_________________________________________________________________\n",
      "max_pooling2d_4 (MaxPooling2 (None, 7, 9, 32)          0         \n",
      "_________________________________________________________________\n",
      "conv2d_5 (Conv2D)            (None, 2, 3, 64)          18496     \n",
      "_________________________________________________________________\n",
      "max_pooling2d_5 (MaxPooling2 (None, 1, 2, 64)          0         \n",
      "_________________________________________________________________\n",
      "flatten_1 (Flatten)          (None, 128)               0         \n",
      "_________________________________________________________________\n",
      "dense_4 (Dense)              (None, 500)               64500     \n",
      "_________________________________________________________________\n",
      "dropout_2 (Dropout)          (None, 500)               0         \n",
      "_________________________________________________________________\n",
      "dense_5 (Dense)              (None, 100)               50100     \n",
      "_________________________________________________________________\n",
      "dropout_3 (Dropout)          (None, 100)               0         \n",
      "_________________________________________________________________\n",
      "dense_6 (Dense)              (None, 20)                2020      \n",
      "_________________________________________________________________\n",
      "dense_7 (Dense)              (None, 10)                210       \n",
      "=================================================================\n",
      "Total params: 140,414\n",
      "Trainable params: 140,414\n",
      "Non-trainable params: 0\n",
      "_________________________________________________________________\n"
     ]
    }
   ],
   "source": [
    "model.summary()"
   ]
  },
  {
   "cell_type": "code",
   "execution_count": 17,
   "id": "b1c38157",
   "metadata": {},
   "outputs": [],
   "source": [
    "STEP_SIZE_TRAIN=train_generator.n//train_generator.batch_size\n",
    "STEP_SIZE_VALID=valid_generator.n//valid_generator.batch_size"
   ]
  },
  {
   "cell_type": "code",
   "execution_count": 19,
   "id": "77d426f8",
   "metadata": {},
   "outputs": [],
   "source": [
    "tensorboard = tf.keras.callbacks.TensorBoard(log_dir='./logs_classification_resized1', histogram_freq=0,\n",
    "                          write_graph=True, write_images=False)"
   ]
  },
  {
   "cell_type": "code",
   "execution_count": 20,
   "id": "a4454d05",
   "metadata": {},
   "outputs": [],
   "source": [
    "callback = tf.keras.callbacks.EarlyStopping(monitor='val_loss', patience=3)"
   ]
  },
  {
   "cell_type": "code",
   "execution_count": 21,
   "id": "e7349f9e",
   "metadata": {},
   "outputs": [],
   "source": [
    "checkpoint_filepath = './logs_classification_resized1'\n",
    "callback1 = tf.keras.callbacks.ModelCheckpoint(filepath=checkpoint_filepath, monitor='val_loss', verbose=0, \n",
    "                                               save_best_only=False, save_weights_only=False, mode='auto', \n",
    "                                               save_freq='epoch',options=None)"
   ]
  },
  {
   "cell_type": "code",
   "execution_count": 16,
   "id": "394c0b6a",
   "metadata": {},
   "outputs": [],
   "source": []
  },
  {
   "cell_type": "code",
   "execution_count": 22,
   "id": "67803b6d",
   "metadata": {
    "scrolled": false
   },
   "outputs": [
    {
     "name": "stderr",
     "output_type": "stream",
     "text": [
      "C:\\Users\\Ketan\\anaconda3\\envs\\tf-gpu-cuda\\lib\\site-packages\\tensorflow\\python\\keras\\engine\\training.py:1940: UserWarning: `Model.fit_generator` is deprecated and will be removed in a future version. Please use `Model.fit`, which supports generators.\n",
      "  warnings.warn('`Model.fit_generator` is deprecated and '\n"
     ]
    },
    {
     "name": "stdout",
     "output_type": "stream",
     "text": [
      "Epoch 1/44\n",
      "140/140 [==============================] - 72s 420ms/step - loss: 2.3026 - auc: 0.5070 - categorical_accuracy: 0.1070 - val_loss: 2.2994 - val_auc: 0.5247 - val_categorical_accuracy: 0.1464\n",
      "INFO:tensorflow:Assets written to: .\\logs_classification_resized1\\assets\n",
      "Epoch 2/44\n",
      "140/140 [==============================] - 50s 358ms/step - loss: 2.2992 - auc: 0.5215 - categorical_accuracy: 0.1135 - val_loss: 2.2926 - val_auc: 0.5651 - val_categorical_accuracy: 0.1813\n",
      "INFO:tensorflow:Assets written to: .\\logs_classification_resized1\\assets\n",
      "Epoch 3/44\n",
      "140/140 [==============================] - 51s 361ms/step - loss: 2.2907 - auc: 0.5519 - categorical_accuracy: 0.1334 - val_loss: 2.2777 - val_auc: 0.5926 - val_categorical_accuracy: 0.1804\n",
      "INFO:tensorflow:Assets written to: .\\logs_classification_resized1\\assets\n",
      "Epoch 4/44\n",
      "140/140 [==============================] - 50s 359ms/step - loss: 2.2675 - auc: 0.5901 - categorical_accuracy: 0.1543 - val_loss: 2.2390 - val_auc: 0.6385 - val_categorical_accuracy: 0.2348\n",
      "INFO:tensorflow:Assets written to: .\\logs_classification_resized1\\assets\n",
      "Epoch 5/44\n",
      "140/140 [==============================] - 50s 359ms/step - loss: 2.2081 - auc: 0.6380 - categorical_accuracy: 0.1926 - val_loss: 2.1468 - val_auc: 0.6776 - val_categorical_accuracy: 0.2634\n",
      "INFO:tensorflow:Assets written to: .\\logs_classification_resized1\\assets\n",
      "Epoch 6/44\n",
      "140/140 [==============================] - 51s 361ms/step - loss: 2.1161 - auc: 0.6891 - categorical_accuracy: 0.2249 - val_loss: 2.0433 - val_auc: 0.7243 - val_categorical_accuracy: 0.2804\n",
      "INFO:tensorflow:Assets written to: .\\logs_classification_resized1\\assets\n",
      "Epoch 7/44\n",
      "140/140 [==============================] - 51s 361ms/step - loss: 2.0076 - auc: 0.7348 - categorical_accuracy: 0.2736 - val_loss: 1.9417 - val_auc: 0.7620 - val_categorical_accuracy: 0.3295\n",
      "INFO:tensorflow:Assets written to: .\\logs_classification_resized1\\assets\n",
      "Epoch 8/44\n",
      "140/140 [==============================] - 51s 362ms/step - loss: 1.9078 - auc: 0.7678 - categorical_accuracy: 0.3079 - val_loss: 1.8506 - val_auc: 0.7846 - val_categorical_accuracy: 0.3393\n",
      "INFO:tensorflow:Assets written to: .\\logs_classification_resized1\\assets\n",
      "Epoch 9/44\n",
      "140/140 [==============================] - 51s 365ms/step - loss: 1.8042 - auc: 0.8001 - categorical_accuracy: 0.3487 - val_loss: 1.7717 - val_auc: 0.8076 - val_categorical_accuracy: 0.3741\n",
      "INFO:tensorflow:Assets written to: .\\logs_classification_resized1\\assets\n",
      "Epoch 10/44\n",
      "140/140 [==============================] - 51s 361ms/step - loss: 1.7136 - auc: 0.8224 - categorical_accuracy: 0.3855 - val_loss: 1.6858 - val_auc: 0.8321 - val_categorical_accuracy: 0.4179\n",
      "INFO:tensorflow:Assets written to: .\\logs_classification_resized1\\assets\n",
      "Epoch 11/44\n",
      "140/140 [==============================] - 51s 361ms/step - loss: 1.6251 - auc: 0.8432 - categorical_accuracy: 0.4122 - val_loss: 1.6010 - val_auc: 0.8504 - val_categorical_accuracy: 0.4491\n",
      "INFO:tensorflow:Assets written to: .\\logs_classification_resized1\\assets\n",
      "Epoch 12/44\n",
      "140/140 [==============================] - 51s 365ms/step - loss: 1.5608 - auc: 0.8571 - categorical_accuracy: 0.4331 - val_loss: 1.5481 - val_auc: 0.8621 - val_categorical_accuracy: 0.4571\n",
      "INFO:tensorflow:Assets written to: .\\logs_classification_resized1\\assets\n",
      "Epoch 13/44\n",
      "140/140 [==============================] - 51s 360ms/step - loss: 1.4861 - auc: 0.8728 - categorical_accuracy: 0.4698 - val_loss: 1.4805 - val_auc: 0.8727 - val_categorical_accuracy: 0.4679\n",
      "INFO:tensorflow:Assets written to: .\\logs_classification_resized1\\assets\n",
      "Epoch 14/44\n",
      "140/140 [==============================] - 51s 363ms/step - loss: 1.4304 - auc: 0.8819 - categorical_accuracy: 0.4885 - val_loss: 1.4232 - val_auc: 0.8846 - val_categorical_accuracy: 0.5000\n",
      "INFO:tensorflow:Assets written to: .\\logs_classification_resized1\\assets\n",
      "Epoch 15/44\n",
      "140/140 [==============================] - 51s 365ms/step - loss: 1.3543 - auc: 0.8962 - categorical_accuracy: 0.5210 - val_loss: 1.4025 - val_auc: 0.8871 - val_categorical_accuracy: 0.5170\n",
      "INFO:tensorflow:Assets written to: .\\logs_classification_resized1\\assets\n",
      "Epoch 16/44\n",
      "140/140 [==============================] - 51s 363ms/step - loss: 1.3227 - auc: 0.9012 - categorical_accuracy: 0.5306 - val_loss: 1.3429 - val_auc: 0.8973 - val_categorical_accuracy: 0.5304\n",
      "INFO:tensorflow:Assets written to: .\\logs_classification_resized1\\assets\n",
      "Epoch 17/44\n",
      "140/140 [==============================] - 51s 363ms/step - loss: 1.2606 - auc: 0.9105 - categorical_accuracy: 0.5537 - val_loss: 1.2882 - val_auc: 0.9063 - val_categorical_accuracy: 0.5562\n",
      "INFO:tensorflow:Assets written to: .\\logs_classification_resized1\\assets\n",
      "Epoch 18/44\n",
      "140/140 [==============================] - 51s 365ms/step - loss: 1.2029 - auc: 0.9193 - categorical_accuracy: 0.5739 - val_loss: 1.2823 - val_auc: 0.9064 - val_categorical_accuracy: 0.5554\n",
      "INFO:tensorflow:Assets written to: .\\logs_classification_resized1\\assets\n",
      "Epoch 19/44\n",
      "140/140 [==============================] - 55s 391ms/step - loss: 1.1537 - auc: 0.9261 - categorical_accuracy: 0.5923 - val_loss: 1.2113 - val_auc: 0.9171 - val_categorical_accuracy: 0.5777\n",
      "INFO:tensorflow:Assets written to: .\\logs_classification_resized1\\assets\n",
      "Epoch 20/44\n",
      "140/140 [==============================] - 55s 392ms/step - loss: 1.1046 - auc: 0.9326 - categorical_accuracy: 0.6091 - val_loss: 1.1696 - val_auc: 0.9229 - val_categorical_accuracy: 0.5848\n",
      "INFO:tensorflow:Assets written to: .\\logs_classification_resized1\\assets\n",
      "Epoch 21/44\n",
      "140/140 [==============================] - 52s 369ms/step - loss: 1.0650 - auc: 0.9372 - categorical_accuracy: 0.6246 - val_loss: 1.1440 - val_auc: 0.9262 - val_categorical_accuracy: 0.5911\n",
      "INFO:tensorflow:Assets written to: .\\logs_classification_resized1\\assets\n",
      "Epoch 22/44\n",
      "140/140 [==============================] - 51s 362ms/step - loss: 1.0248 - auc: 0.9422 - categorical_accuracy: 0.6445 - val_loss: 1.1076 - val_auc: 0.9310 - val_categorical_accuracy: 0.6098\n",
      "INFO:tensorflow:Assets written to: .\\logs_classification_resized1\\assets\n",
      "Epoch 23/44\n",
      "140/140 [==============================] - 52s 367ms/step - loss: 0.9903 - auc: 0.9461 - categorical_accuracy: 0.6432 - val_loss: 1.0832 - val_auc: 0.9339 - val_categorical_accuracy: 0.6214\n",
      "INFO:tensorflow:Assets written to: .\\logs_classification_resized1\\assets\n",
      "Epoch 24/44\n",
      "140/140 [==============================] - 51s 365ms/step - loss: 0.9607 - auc: 0.9497 - categorical_accuracy: 0.6558 - val_loss: 1.0766 - val_auc: 0.9344 - val_categorical_accuracy: 0.6125\n",
      "INFO:tensorflow:Assets written to: .\\logs_classification_resized1\\assets\n",
      "Epoch 25/44\n",
      "140/140 [==============================] - 51s 362ms/step - loss: 0.9268 - auc: 0.9523 - categorical_accuracy: 0.6744 - val_loss: 1.0254 - val_auc: 0.9411 - val_categorical_accuracy: 0.6321\n",
      "INFO:tensorflow:Assets written to: .\\logs_classification_resized1\\assets\n",
      "Epoch 26/44\n",
      "140/140 [==============================] - 51s 366ms/step - loss: 0.8906 - auc: 0.9563 - categorical_accuracy: 0.6784 - val_loss: 1.0212 - val_auc: 0.9403 - val_categorical_accuracy: 0.6473\n",
      "INFO:tensorflow:Assets written to: .\\logs_classification_resized1\\assets\n",
      "Epoch 27/44\n",
      "140/140 [==============================] - 51s 362ms/step - loss: 0.8456 - auc: 0.9605 - categorical_accuracy: 0.7004 - val_loss: 1.0101 - val_auc: 0.9416 - val_categorical_accuracy: 0.6455\n",
      "INFO:tensorflow:Assets written to: .\\logs_classification_resized1\\assets\n",
      "Epoch 28/44\n",
      "140/140 [==============================] - 51s 365ms/step - loss: 0.8286 - auc: 0.9622 - categorical_accuracy: 0.7044 - val_loss: 0.9609 - val_auc: 0.9475 - val_categorical_accuracy: 0.6598\n",
      "INFO:tensorflow:Assets written to: .\\logs_classification_resized1\\assets\n",
      "Epoch 29/44\n",
      "140/140 [==============================] - 52s 367ms/step - loss: 0.8065 - auc: 0.9640 - categorical_accuracy: 0.7147 - val_loss: 0.9574 - val_auc: 0.9477 - val_categorical_accuracy: 0.6661\n",
      "INFO:tensorflow:Assets written to: .\\logs_classification_resized1\\assets\n",
      "Epoch 30/44\n",
      "140/140 [==============================] - 51s 365ms/step - loss: 0.7803 - auc: 0.9662 - categorical_accuracy: 0.7226 - val_loss: 0.9709 - val_auc: 0.9470 - val_categorical_accuracy: 0.6616\n",
      "INFO:tensorflow:Assets written to: .\\logs_classification_resized1\\assets\n"
     ]
    },
    {
     "name": "stdout",
     "output_type": "stream",
     "text": [
      "Epoch 31/44\n",
      "140/140 [==============================] - 51s 363ms/step - loss: 0.7616 - auc: 0.9676 - categorical_accuracy: 0.7331 - val_loss: 0.9414 - val_auc: 0.9490 - val_categorical_accuracy: 0.6625\n",
      "INFO:tensorflow:Assets written to: .\\logs_classification_resized1\\assets\n",
      "Epoch 32/44\n",
      "140/140 [==============================] - 51s 364ms/step - loss: 0.7309 - auc: 0.9704 - categorical_accuracy: 0.7405 - val_loss: 0.9062 - val_auc: 0.9526 - val_categorical_accuracy: 0.6804\n",
      "INFO:tensorflow:Assets written to: .\\logs_classification_resized1\\assets\n",
      "Epoch 33/44\n",
      "140/140 [==============================] - 51s 363ms/step - loss: 0.6904 - auc: 0.9739 - categorical_accuracy: 0.7526 - val_loss: 0.8967 - val_auc: 0.9531 - val_categorical_accuracy: 0.6812\n",
      "INFO:tensorflow:Assets written to: .\\logs_classification_resized1\\assets\n",
      "Epoch 34/44\n",
      "140/140 [==============================] - 53s 375ms/step - loss: 0.6713 - auc: 0.9750 - categorical_accuracy: 0.7587 - val_loss: 0.8678 - val_auc: 0.9561 - val_categorical_accuracy: 0.6991\n",
      "INFO:tensorflow:Assets written to: .\\logs_classification_resized1\\assets\n",
      "Epoch 35/44\n",
      "140/140 [==============================] - 52s 372ms/step - loss: 0.6542 - auc: 0.9762 - categorical_accuracy: 0.7690 - val_loss: 0.8542 - val_auc: 0.9568 - val_categorical_accuracy: 0.7125\n",
      "INFO:tensorflow:Assets written to: .\\logs_classification_resized1\\assets\n",
      "Epoch 36/44\n",
      "140/140 [==============================] - 52s 371ms/step - loss: 0.6329 - auc: 0.9778 - categorical_accuracy: 0.7674 - val_loss: 0.8830 - val_auc: 0.9543 - val_categorical_accuracy: 0.7036\n",
      "INFO:tensorflow:Assets written to: .\\logs_classification_resized1\\assets\n",
      "Epoch 37/44\n",
      "140/140 [==============================] - 52s 369ms/step - loss: 0.6217 - auc: 0.9786 - categorical_accuracy: 0.7712 - val_loss: 0.8511 - val_auc: 0.9567 - val_categorical_accuracy: 0.6955\n",
      "INFO:tensorflow:Assets written to: .\\logs_classification_resized1\\assets\n",
      "Epoch 38/44\n",
      "140/140 [==============================] - 53s 376ms/step - loss: 0.6121 - auc: 0.9789 - categorical_accuracy: 0.7816 - val_loss: 0.8276 - val_auc: 0.9587 - val_categorical_accuracy: 0.7098\n",
      "INFO:tensorflow:Assets written to: .\\logs_classification_resized1\\assets\n",
      "Epoch 39/44\n",
      "140/140 [==============================] - 52s 374ms/step - loss: 0.5906 - auc: 0.9804 - categorical_accuracy: 0.7885 - val_loss: 0.8312 - val_auc: 0.9595 - val_categorical_accuracy: 0.7063\n",
      "INFO:tensorflow:Assets written to: .\\logs_classification_resized1\\assets\n",
      "Epoch 40/44\n",
      "140/140 [==============================] - 51s 366ms/step - loss: 0.5759 - auc: 0.9809 - categorical_accuracy: 0.7959 - val_loss: 0.8533 - val_auc: 0.9573 - val_categorical_accuracy: 0.7018\n",
      "INFO:tensorflow:Assets written to: .\\logs_classification_resized1\\assets\n",
      "Epoch 41/44\n",
      "140/140 [==============================] - 51s 367ms/step - loss: 0.5540 - auc: 0.9827 - categorical_accuracy: 0.7952 - val_loss: 0.8506 - val_auc: 0.9580 - val_categorical_accuracy: 0.7027\n",
      "INFO:tensorflow:Assets written to: .\\logs_classification_resized1\\assets\n"
     ]
    }
   ],
   "source": [
    "history = model.fit_generator(generator=train_generator,\n",
    "                    steps_per_epoch=STEP_SIZE_TRAIN,\n",
    "                    validation_data=valid_generator,\n",
    "                    validation_steps=STEP_SIZE_VALID,\n",
    "                    epochs=44, callbacks=[callback, callback1, tensorboard])"
   ]
  },
  {
   "cell_type": "code",
   "execution_count": 78,
   "id": "a318c599",
   "metadata": {},
   "outputs": [
    {
     "name": "stderr",
     "output_type": "stream",
     "text": [
      "C:\\Users\\Ketan\\anaconda3\\envs\\tf-gpu-cuda\\lib\\site-packages\\tensorflow\\python\\keras\\engine\\training.py:1973: UserWarning: `Model.evaluate_generator` is deprecated and will be removed in a future version. Please use `Model.evaluate`, which supports generators.\n",
      "  warnings.warn('`Model.evaluate_generator` is deprecated and '\n"
     ]
    }
   ],
   "source": [
    "test_acc = model.evaluate_generator(valid_generator)"
   ]
  },
  {
   "cell_type": "code",
   "execution_count": null,
   "id": "cfd0a712",
   "metadata": {},
   "outputs": [],
   "source": []
  },
  {
   "cell_type": "code",
   "execution_count": 110,
   "id": "214ebf42",
   "metadata": {},
   "outputs": [
    {
     "name": "stdout",
     "output_type": "stream",
     "text": [
      "evaluate_generator categorical_accuracy: 95.79%\n"
     ]
    }
   ],
   "source": [
    "print(\"%s%s: %.2f%%\" % (\"evaluate_generator \",model.metrics_names[2], test_acc[1]*100))\n"
   ]
  },
  {
   "cell_type": "code",
   "execution_count": 30,
   "id": "7039fa7c",
   "metadata": {},
   "outputs": [
    {
     "data": {
      "image/png": "[encoded data removed]",
      "text/plain": [
       "<Figure size 432x288 with 1 Axes>"
      ]
     },
     "metadata": {
      "needs_background": "light"
     },
     "output_type": "display_data"
    }
   ],
   "source": [
    "plt.plot(history.history['categorical_accuracy'])\n",
    "plt.plot(history.history['val_categorical_accuracy'])\n",
    "plt.title('model accuracy')\n",
    "plt.ylabel('accuracy')\n",
    "plt.xlabel('epoch')\n",
    "plt.legend(['train', 'val'], loc='upper left')\n",
    "# plt.show()\n",
    "plt.savefig('C:/Users/Ketan/Thesis/self-driving-car/challenges/model_accuracy_classification_resized.jpg', dpi=300)"
   ]
  },
  {
   "cell_type": "code",
   "execution_count": 31,
   "id": "43479836",
   "metadata": {},
   "outputs": [
    {
     "data": {
      "image/png": "[encoded data removed]",
      "text/plain": [
       "<Figure size 432x288 with 1 Axes>"
      ]
     },
     "metadata": {
      "needs_background": "light"
     },
     "output_type": "display_data"
    }
   ],
   "source": [
    "plt.plot(history.history['loss'])\n",
    "plt.plot(history.history['val_loss'])\n",
    "plt.title('model loss')\n",
    "plt.ylabel('loss')\n",
    "plt.xlabel('epoch')\n",
    "plt.legend(['train', 'val'], loc='upper left')\n",
    "plt.savefig('C:/Users/Ketan/Thesis/self-driving-car/challenges/model_loss_classification_resized.jpg', dpi=300)"
   ]
  },
  {
   "cell_type": "code",
   "execution_count": 93,
   "id": "064fa30e",
   "metadata": {},
   "outputs": [],
   "source": [
    "# model.save_weights('udacity_classification_custom_model_weights_v3.h5')"
   ]
  },
  {
   "cell_type": "code",
   "execution_count": 26,
   "id": "ac8f13bb",
   "metadata": {},
   "outputs": [],
   "source": [
    "model.save('udacity_classification_custom_model_resized1_v1.h5')"
   ]
  },
  {
   "cell_type": "code",
   "execution_count": 114,
   "id": "205b740f",
   "metadata": {},
   "outputs": [],
   "source": [
    "preds = model.predict(valid_generator, steps = STEP_SIZE_VALID)"
   ]
  },
  {
   "cell_type": "code",
   "execution_count": 115,
   "id": "160d9faa",
   "metadata": {},
   "outputs": [],
   "source": [
    "predicted_classes = np.argmax(preds, axis=1)\n"
   ]
  },
  {
   "cell_type": "code",
   "execution_count": 116,
   "id": "a5ae5bc8",
   "metadata": {},
   "outputs": [
    {
     "data": {
      "text/plain": [
       "(1123,)"
      ]
     },
     "execution_count": 116,
     "metadata": {},
     "output_type": "execute_result"
    }
   ],
   "source": [
    "predicted_classes.shape"
   ]
  },
  {
   "cell_type": "code",
   "execution_count": 117,
   "id": "858b8c01",
   "metadata": {},
   "outputs": [],
   "source": [
    "true_classes = valid_generator.classes\n",
    "class_labels = list(valid_generator.class_indices.keys())   "
   ]
  },
  {
   "cell_type": "code",
   "execution_count": 118,
   "id": "9f0b6da1",
   "metadata": {},
   "outputs": [
    {
     "name": "stdout",
     "output_type": "stream",
     "text": [
      "              precision    recall  f1-score   support\n",
      "\n",
      "           0       0.11      0.13      0.12       113\n",
      "           1       0.12      0.10      0.11       112\n",
      "           2       0.15      0.18      0.16       112\n",
      "           3       0.10      0.08      0.09       119\n",
      "           4       0.06      0.08      0.07       106\n",
      "           5       0.07      0.09      0.08       114\n",
      "           6       0.16      0.15      0.16       110\n",
      "           7       0.08      0.07      0.08       112\n",
      "           8       0.16      0.14      0.15       112\n",
      "           9       0.12      0.09      0.10       113\n",
      "\n",
      "    accuracy                           0.11      1123\n",
      "   macro avg       0.11      0.11      0.11      1123\n",
      "weighted avg       0.11      0.11      0.11      1123\n",
      "\n"
     ]
    }
   ],
   "source": [
    "report = classification_report(true_classes, predicted_classes, target_names=class_labels)\n",
    "print(report)    "
   ]
  },
  {
   "cell_type": "code",
   "execution_count": 90,
   "id": "e5c67e08",
   "metadata": {},
   "outputs": [
    {
     "data": {
      "text/plain": [
       "1123"
      ]
     },
     "execution_count": 90,
     "metadata": {},
     "output_type": "execute_result"
    }
   ],
   "source": [
    "len(true_classes)"
   ]
  },
  {
   "cell_type": "code",
   "execution_count": null,
   "id": "f8d9ddcf",
   "metadata": {},
   "outputs": [],
   "source": []
  },
  {
   "cell_type": "code",
   "execution_count": 76,
   "id": "6ab104bf",
   "metadata": {},
   "outputs": [],
   "source": [
    "y_pred1 = np.argmax(preds1, axis=1)"
   ]
  },
  {
   "cell_type": "code",
   "execution_count": 61,
   "id": "c4f4587a",
   "metadata": {},
   "outputs": [],
   "source": [
    "# ypred = preds.argmax(axis=-1)\n",
    "y_pred = np.argmax(preds, axis=1)"
   ]
  },
  {
   "cell_type": "code",
   "execution_count": 71,
   "id": "20ecec3c",
   "metadata": {},
   "outputs": [],
   "source": [
    "target = ['0','1','2','3','4','5','6','7','8','9']\n"
   ]
  },
  {
   "cell_type": "code",
   "execution_count": 74,
   "id": "906211a3",
   "metadata": {},
   "outputs": [
    {
     "name": "stdout",
     "output_type": "stream",
     "text": [
      "[[13  9 20 11 10  9 10 14 12  5]\n",
      " [ 6 12 14  8 18 16 10  9  7 12]\n",
      " [12  5 13  8 10 21 12  8 12 11]\n",
      " [18  9 16 11 13 12 12  9 10  9]\n",
      " [16 10 12  5 14 13  8  9 12  7]\n",
      " [14 11 12 10 14 15 13 10  5 10]\n",
      " [10  7 13  7 13 18 10 14 10  8]\n",
      " [11  8 10  6 13 17 13  9 15 10]\n",
      " [18 12  9 13 16  8 12  9  9  6]\n",
      " [13 12 14  9 18 11  9  9 11  7]]\n"
     ]
    }
   ],
   "source": [
    "from sklearn.metrics import classification_report, confusion_matrix\n",
    "\n",
    "print(confusion_matrix(valid_generator.classes, y_pred))\n"
   ]
  },
  {
   "cell_type": "code",
   "execution_count": 67,
   "id": "e90ea5c1",
   "metadata": {},
   "outputs": [
    {
     "name": "stdout",
     "output_type": "stream",
     "text": [
      "              precision    recall  f1-score   support\n",
      "\n",
      "           0       0.10      0.12      0.11       113\n",
      "           1       0.12      0.10      0.11       112\n",
      "           2       0.09      0.11      0.10       112\n",
      "           3       0.16      0.12      0.14       119\n",
      "           4       0.11      0.14      0.12       106\n",
      "           5       0.07      0.09      0.08       114\n",
      "           6       0.09      0.09      0.09       110\n",
      "           7       0.11      0.10      0.10       112\n",
      "           8       0.05      0.04      0.05       112\n",
      "           9       0.09      0.07      0.08       113\n",
      "\n",
      "    accuracy                           0.10      1123\n",
      "   macro avg       0.10      0.10      0.10      1123\n",
      "weighted avg       0.10      0.10      0.10      1123\n",
      "\n"
     ]
    }
   ],
   "source": [
    "print(classification_report(valid_generator.classes, y_pred, target_names=target))\n"
   ]
  },
  {
   "cell_type": "code",
   "execution_count": 69,
   "id": "944fab2b",
   "metadata": {},
   "outputs": [
    {
     "name": "stderr",
     "output_type": "stream",
     "text": [
      "C:\\Users\\Ketan\\anaconda3\\envs\\tf-gpu-cuda\\lib\\site-packages\\tensorflow\\python\\keras\\engine\\training.py:2001: UserWarning: `Model.predict_generator` is deprecated and will be removed in a future version. Please use `Model.predict`, which supports generators.\n",
      "  warnings.warn('`Model.predict_generator` is deprecated and '\n"
     ]
    },
    {
     "name": "stdout",
     "output_type": "stream",
     "text": [
      "36/36 [==============================] - 10s 289ms/step\n"
     ]
    },
    {
     "data": {
      "text/plain": [
       "0.5004432032148396"
      ]
     },
     "execution_count": 69,
     "metadata": {},
     "output_type": "execute_result"
    },
    {
     "data": {
      "image/png": "[encoded data removed]",
      "text/plain": [
       "<Figure size 864x576 with 1 Axes>"
      ]
     },
     "metadata": {
      "needs_background": "light"
     },
     "output_type": "display_data"
    }
   ],
   "source": [
    "fig, c_ax = plt.subplots(1,1, figsize = (12, 8))\n",
    "\n",
    "def multiclass_roc_auc_score(y_test, y_pred, average=\"macro\"):\n",
    "    lb = LabelBinarizer()\n",
    "    lb.fit(y_test)\n",
    "    y_test = lb.transform(y_test)\n",
    "    y_pred = lb.transform(y_pred)\n",
    "\n",
    "    for (idx, c_label) in enumerate(target): # all_labels: no of the labels, for ex. ['cat', 'dog', 'rat']\n",
    "        fpr, tpr, thresholds = roc_curve(y_test[:,idx].astype(int), y_pred[:,idx])\n",
    "        c_ax.plot(fpr, tpr, label = '%s (AUC:%0.2f)'  % (c_label, auc(fpr, tpr)))\n",
    "    c_ax.plot(fpr, fpr, 'b-', label = 'Random Guessing')\n",
    "    return roc_auc_score(y_test, y_pred, average=average)\n",
    "\n",
    "# calling\n",
    "valid_generator.reset() # resetting generator\n",
    "y_pred = model.predict_generator(valid_generator, verbose = True)\n",
    "y_pred = np.argmax(y_pred, axis=1)\n",
    "multiclass_roc_auc_score(valid_generator.classes, y_pred)"
   ]
  },
  {
   "cell_type": "code",
   "execution_count": 45,
   "id": "faf2a372",
   "metadata": {},
   "outputs": [],
   "source": [
    "from sklearn.metrics import roc_curve, auc, roc_auc_score\n",
    "from sklearn.preprocessing import LabelBinarizer\n"
   ]
  },
  {
   "cell_type": "code",
   "execution_count": 70,
   "id": "1323aac0",
   "metadata": {
    "scrolled": true
   },
   "outputs": [],
   "source": [
    "# target = ['0','1','2','3','4','5','6','7','8','9']\n",
    "# fig, c_ax = plt.subplots(1,1, figsize = (12, 8))\n",
    "\n",
    "# # function for scoring roc auc score for multi-class\n",
    "# def multiclass_roc_auc_score(y_test, y_pred, average=\"macro\"):\n",
    "#     lb = LabelBinarizer()\n",
    "#     lb.fit(y_test)\n",
    "#     y_test = lb.transform(y_test)\n",
    "#     y_pred = lb.transform(y_pred)\n",
    "\n",
    "#     for (idx, c_label) in enumerate(target):\n",
    "#         fpr, tpr, thresholds = roc_curve(y_test[:,idx].astype(int), y_pred[:,idx])\n",
    "#         c_ax.plot(fpr, tpr, label = '%s (AUC:%0.2f)'  % (c_label, auc(fpr, tpr)))\n",
    "#     c_ax.plot(fpr, fpr, 'b-', label = 'Random Guessing')\n",
    "#     return roc_auc_score(y_test, y_pred, average=average)\n",
    "\n",
    "\n",
    "# print('ROC AUC score:', multiclass_roc_auc_score(train_generator, ypred))\n",
    "\n",
    "# c_ax.legend()\n",
    "# c_ax.set_xlabel('False Positive Rate')\n",
    "# c_ax.set_ylabel('True Positive Rate')\n",
    "# plt.show()"
   ]
  },
  {
   "cell_type": "code",
   "execution_count": 53,
   "id": "862ca775",
   "metadata": {},
   "outputs": [],
   "source": [
    "model1 = models.load_model('C:/Users/Ketan/Thesis/self-driving-car/challenges/tl_regression_resized_udacity_v4.h5', compile=False)\n"
   ]
  },
  {
   "cell_type": "code",
   "execution_count": null,
   "id": "3abd2bf6",
   "metadata": {},
   "outputs": [],
   "source": []
  },
  {
   "cell_type": "code",
   "execution_count": null,
   "id": "f4b8ac69",
   "metadata": {},
   "outputs": [],
   "source": []
  },
  {
   "cell_type": "code",
   "execution_count": 25,
   "id": "795172bc",
   "metadata": {},
   "outputs": [],
   "source": [
    "from keras.applications import inception_v3 as inc_net\n"
   ]
  },
  {
   "cell_type": "code",
   "execution_count": 26,
   "id": "e5a580bc",
   "metadata": {},
   "outputs": [],
   "source": [
    "def transform_img_fn(path_list):\n",
    "    out = []\n",
    "    for img_path in path_list:\n",
    "        img = image.load_img((img_path), target_size=(480,640))\n",
    "        x = image.img_to_array(img)\n",
    "        x = np.expand_dims(x, axis=0)\n",
    "        x = inc_net.preprocess_input(x)\n",
    "        out.append(x)\n",
    "    return np.vstack(out) /2 +0.5"
   ]
  },
  {
   "cell_type": "code",
   "execution_count": 27,
   "id": "cc99bc08",
   "metadata": {},
   "outputs": [],
   "source": [
    "images = transform_img_fn([os.path.join(r'C:/Users/Ketan/Thesis/self-driving-car/challenges/challenge-2/','1479425717280900950.jpg')])\n"
   ]
  },
  {
   "cell_type": "code",
   "execution_count": 28,
   "id": "66a22f99",
   "metadata": {},
   "outputs": [
    {
     "data": {
      "text/plain": [
       "array([[2.7272626e-04, 9.8335797e-01, 1.0109666e-02, 1.5271852e-03,\n",
       "        1.8140408e-03, 1.4903632e-03, 1.4183132e-03, 4.0885689e-06,\n",
       "        1.9641282e-06, 3.6494907e-06]], dtype=float32)"
      ]
     },
     "execution_count": 28,
     "metadata": {},
     "output_type": "execute_result"
    }
   ],
   "source": [
    "model.predict(images)"
   ]
  },
  {
   "cell_type": "code",
   "execution_count": 54,
   "id": "46380724",
   "metadata": {},
   "outputs": [],
   "source": [
    " def open_images(inference_folder: str) -> np.ndarray:\n",
    "    \"\"\"Loads images from a folder and prepare them for inferencing.\n",
    "\n",
    "    Parameters\n",
    "    ----------\n",
    "    inference_folder : str\n",
    "        Location of images for inferencing.\n",
    "\n",
    "    Returns\n",
    "    -------\n",
    "    np.ndarray\n",
    "        List of images as numpy arrays transformed to fit the efficient_net model input specs.\n",
    "    \"\"\"\n",
    "    images = []\n",
    "    for img in os.listdir(inference_folder):\n",
    "        img_location = os.path.join(inference_folder, img)  # create full path to image\n",
    "\n",
    "        with Image.open(img_location) as img:  # open image with pillow\n",
    "\n",
    "            img = np.array(img)\n",
    "            img = img[:, :, :3]\n",
    "            img = np.expand_dims(img, axis=0)  # add 0 dimension to fit input shape of efficient_net\n",
    "            img = inc_net.preprocess_input(img)\n",
    "\n",
    "        images.append(img)\n",
    "    images_array = np.vstack(images)/2+0.5  # combine images efficiently to a numpy array\n",
    "    return images_array"
   ]
  },
  {
   "cell_type": "code",
   "execution_count": 55,
   "id": "5d20ac12",
   "metadata": {},
   "outputs": [],
   "source": [
    "images = open_images(\"C:/Users/Ketan/Thesis/self-driving-car/challenges/test_dataset2\")\n"
   ]
  },
  {
   "cell_type": "code",
   "execution_count": 57,
   "id": "39c6b8b0",
   "metadata": {},
   "outputs": [
    {
     "name": "stdout",
     "output_type": "stream",
     "text": [
      "1479425442432797491.jpg [0.0312406]\n",
      "1479425442482899263.jpg [0.07867743]\n",
      "1479425442532771570.jpg [0.06185395]\n",
      "1479425442582809345.jpg [0.02647948]\n",
      "1479425442632821093.jpg [-0.03689958]\n",
      "1479425442682747552.jpg [-0.02785037]\n",
      "1479425442732806572.jpg [-0.01831637]\n",
      "1479425442782862182.jpg [-0.02136489]\n",
      "1479425442832833025.jpg [0.02257168]\n",
      "1479425442882822631.jpg [0.02476405]\n",
      "1479425442932809867.jpg [0.07196597]\n",
      "1479425477788948138.jpg [-0.10604262]\n",
      "1479425477838934577.jpg [-0.13396217]\n"
     ]
    }
   ],
   "source": [
    "predictions = model1.predict_generator(images)\n",
    "images_names = os.listdir(\"C:/Users/Ketan/Thesis/self-driving-car/challenges/test_dataset2\")\n",
    "for image_name, prediction in zip(images_names, predictions):\n",
    "    print(image_name, prediction)"
   ]
  },
  {
   "cell_type": "code",
   "execution_count": 58,
   "id": "73c5674d",
   "metadata": {},
   "outputs": [
    {
     "name": "stdout",
     "output_type": "stream",
     "text": [
      "Model: \"model\"\n",
      "__________________________________________________________________________________________________\n",
      "Layer (type)                    Output Shape         Param #     Connected to                     \n",
      "==================================================================================================\n",
      "input_1 (InputLayer)            [(None, 240, 320, 3) 0                                            \n",
      "__________________________________________________________________________________________________\n",
      "conv1_pad (ZeroPadding2D)       (None, 246, 326, 3)  0           input_1[0][0]                    \n",
      "__________________________________________________________________________________________________\n",
      "conv1_conv (Conv2D)             (None, 120, 160, 64) 9472        conv1_pad[0][0]                  \n",
      "__________________________________________________________________________________________________\n",
      "conv1_bn (BatchNormalization)   (None, 120, 160, 64) 256         conv1_conv[0][0]                 \n",
      "__________________________________________________________________________________________________\n",
      "conv1_relu (Activation)         (None, 120, 160, 64) 0           conv1_bn[0][0]                   \n",
      "__________________________________________________________________________________________________\n",
      "pool1_pad (ZeroPadding2D)       (None, 122, 162, 64) 0           conv1_relu[0][0]                 \n",
      "__________________________________________________________________________________________________\n",
      "pool1_pool (MaxPooling2D)       (None, 60, 80, 64)   0           pool1_pad[0][0]                  \n",
      "__________________________________________________________________________________________________\n",
      "conv2_block1_1_conv (Conv2D)    (None, 60, 80, 64)   4160        pool1_pool[0][0]                 \n",
      "__________________________________________________________________________________________________\n",
      "conv2_block1_1_bn (BatchNormali (None, 60, 80, 64)   256         conv2_block1_1_conv[0][0]        \n",
      "__________________________________________________________________________________________________\n",
      "conv2_block1_1_relu (Activation (None, 60, 80, 64)   0           conv2_block1_1_bn[0][0]          \n",
      "__________________________________________________________________________________________________\n",
      "conv2_block1_2_conv (Conv2D)    (None, 60, 80, 64)   36928       conv2_block1_1_relu[0][0]        \n",
      "__________________________________________________________________________________________________\n",
      "conv2_block1_2_bn (BatchNormali (None, 60, 80, 64)   256         conv2_block1_2_conv[0][0]        \n",
      "__________________________________________________________________________________________________\n",
      "conv2_block1_2_relu (Activation (None, 60, 80, 64)   0           conv2_block1_2_bn[0][0]          \n",
      "__________________________________________________________________________________________________\n",
      "conv2_block1_0_conv (Conv2D)    (None, 60, 80, 256)  16640       pool1_pool[0][0]                 \n",
      "__________________________________________________________________________________________________\n",
      "conv2_block1_3_conv (Conv2D)    (None, 60, 80, 256)  16640       conv2_block1_2_relu[0][0]        \n",
      "__________________________________________________________________________________________________\n",
      "conv2_block1_0_bn (BatchNormali (None, 60, 80, 256)  1024        conv2_block1_0_conv[0][0]        \n",
      "__________________________________________________________________________________________________\n",
      "conv2_block1_3_bn (BatchNormali (None, 60, 80, 256)  1024        conv2_block1_3_conv[0][0]        \n",
      "__________________________________________________________________________________________________\n",
      "conv2_block1_add (Add)          (None, 60, 80, 256)  0           conv2_block1_0_bn[0][0]          \n",
      "                                                                 conv2_block1_3_bn[0][0]          \n",
      "__________________________________________________________________________________________________\n",
      "conv2_block1_out (Activation)   (None, 60, 80, 256)  0           conv2_block1_add[0][0]           \n",
      "__________________________________________________________________________________________________\n",
      "conv2_block2_1_conv (Conv2D)    (None, 60, 80, 64)   16448       conv2_block1_out[0][0]           \n",
      "__________________________________________________________________________________________________\n",
      "conv2_block2_1_bn (BatchNormali (None, 60, 80, 64)   256         conv2_block2_1_conv[0][0]        \n",
      "__________________________________________________________________________________________________\n",
      "conv2_block2_1_relu (Activation (None, 60, 80, 64)   0           conv2_block2_1_bn[0][0]          \n",
      "__________________________________________________________________________________________________\n",
      "conv2_block2_2_conv (Conv2D)    (None, 60, 80, 64)   36928       conv2_block2_1_relu[0][0]        \n",
      "__________________________________________________________________________________________________\n",
      "conv2_block2_2_bn (BatchNormali (None, 60, 80, 64)   256         conv2_block2_2_conv[0][0]        \n",
      "__________________________________________________________________________________________________\n",
      "conv2_block2_2_relu (Activation (None, 60, 80, 64)   0           conv2_block2_2_bn[0][0]          \n",
      "__________________________________________________________________________________________________\n",
      "conv2_block2_3_conv (Conv2D)    (None, 60, 80, 256)  16640       conv2_block2_2_relu[0][0]        \n",
      "__________________________________________________________________________________________________\n",
      "conv2_block2_3_bn (BatchNormali (None, 60, 80, 256)  1024        conv2_block2_3_conv[0][0]        \n",
      "__________________________________________________________________________________________________\n",
      "conv2_block2_add (Add)          (None, 60, 80, 256)  0           conv2_block1_out[0][0]           \n",
      "                                                                 conv2_block2_3_bn[0][0]          \n",
      "__________________________________________________________________________________________________\n",
      "conv2_block2_out (Activation)   (None, 60, 80, 256)  0           conv2_block2_add[0][0]           \n",
      "__________________________________________________________________________________________________\n",
      "conv2_block3_1_conv (Conv2D)    (None, 60, 80, 64)   16448       conv2_block2_out[0][0]           \n",
      "__________________________________________________________________________________________________\n",
      "conv2_block3_1_bn (BatchNormali (None, 60, 80, 64)   256         conv2_block3_1_conv[0][0]        \n",
      "__________________________________________________________________________________________________\n",
      "conv2_block3_1_relu (Activation (None, 60, 80, 64)   0           conv2_block3_1_bn[0][0]          \n",
      "__________________________________________________________________________________________________\n",
      "conv2_block3_2_conv (Conv2D)    (None, 60, 80, 64)   36928       conv2_block3_1_relu[0][0]        \n",
      "__________________________________________________________________________________________________\n",
      "conv2_block3_2_bn (BatchNormali (None, 60, 80, 64)   256         conv2_block3_2_conv[0][0]        \n",
      "__________________________________________________________________________________________________\n",
      "conv2_block3_2_relu (Activation (None, 60, 80, 64)   0           conv2_block3_2_bn[0][0]          \n",
      "__________________________________________________________________________________________________\n",
      "conv2_block3_3_conv (Conv2D)    (None, 60, 80, 256)  16640       conv2_block3_2_relu[0][0]        \n",
      "__________________________________________________________________________________________________\n",
      "conv2_block3_3_bn (BatchNormali (None, 60, 80, 256)  1024        conv2_block3_3_conv[0][0]        \n",
      "__________________________________________________________________________________________________\n",
      "conv2_block3_add (Add)          (None, 60, 80, 256)  0           conv2_block2_out[0][0]           \n",
      "                                                                 conv2_block3_3_bn[0][0]          \n",
      "__________________________________________________________________________________________________\n",
      "conv2_block3_out (Activation)   (None, 60, 80, 256)  0           conv2_block3_add[0][0]           \n",
      "__________________________________________________________________________________________________\n",
      "conv3_block1_1_conv (Conv2D)    (None, 30, 40, 128)  32896       conv2_block3_out[0][0]           \n",
      "__________________________________________________________________________________________________\n",
      "conv3_block1_1_bn (BatchNormali (None, 30, 40, 128)  512         conv3_block1_1_conv[0][0]        \n",
      "__________________________________________________________________________________________________\n",
      "conv3_block1_1_relu (Activation (None, 30, 40, 128)  0           conv3_block1_1_bn[0][0]          \n",
      "__________________________________________________________________________________________________\n",
      "conv3_block1_2_conv (Conv2D)    (None, 30, 40, 128)  147584      conv3_block1_1_relu[0][0]        \n",
      "__________________________________________________________________________________________________\n",
      "conv3_block1_2_bn (BatchNormali (None, 30, 40, 128)  512         conv3_block1_2_conv[0][0]        \n",
      "__________________________________________________________________________________________________\n",
      "conv3_block1_2_relu (Activation (None, 30, 40, 128)  0           conv3_block1_2_bn[0][0]          \n",
      "__________________________________________________________________________________________________\n",
      "conv3_block1_0_conv (Conv2D)    (None, 30, 40, 512)  131584      conv2_block3_out[0][0]           \n",
      "__________________________________________________________________________________________________\n",
      "conv3_block1_3_conv (Conv2D)    (None, 30, 40, 512)  66048       conv3_block1_2_relu[0][0]        \n",
      "__________________________________________________________________________________________________\n",
      "conv3_block1_0_bn (BatchNormali (None, 30, 40, 512)  2048        conv3_block1_0_conv[0][0]        \n",
      "__________________________________________________________________________________________________\n",
      "conv3_block1_3_bn (BatchNormali (None, 30, 40, 512)  2048        conv3_block1_3_conv[0][0]        \n",
      "__________________________________________________________________________________________________\n",
      "conv3_block1_add (Add)          (None, 30, 40, 512)  0           conv3_block1_0_bn[0][0]          \n",
      "                                                                 conv3_block1_3_bn[0][0]          \n",
      "__________________________________________________________________________________________________\n",
      "conv3_block1_out (Activation)   (None, 30, 40, 512)  0           conv3_block1_add[0][0]           \n",
      "__________________________________________________________________________________________________\n",
      "conv3_block2_1_conv (Conv2D)    (None, 30, 40, 128)  65664       conv3_block1_out[0][0]           \n",
      "__________________________________________________________________________________________________\n",
      "conv3_block2_1_bn (BatchNormali (None, 30, 40, 128)  512         conv3_block2_1_conv[0][0]        \n",
      "__________________________________________________________________________________________________\n",
      "conv3_block2_1_relu (Activation (None, 30, 40, 128)  0           conv3_block2_1_bn[0][0]          \n",
      "__________________________________________________________________________________________________\n",
      "conv3_block2_2_conv (Conv2D)    (None, 30, 40, 128)  147584      conv3_block2_1_relu[0][0]        \n",
      "__________________________________________________________________________________________________\n",
      "conv3_block2_2_bn (BatchNormali (None, 30, 40, 128)  512         conv3_block2_2_conv[0][0]        \n",
      "__________________________________________________________________________________________________\n",
      "conv3_block2_2_relu (Activation (None, 30, 40, 128)  0           conv3_block2_2_bn[0][0]          \n",
      "__________________________________________________________________________________________________\n",
      "conv3_block2_3_conv (Conv2D)    (None, 30, 40, 512)  66048       conv3_block2_2_relu[0][0]        \n",
      "__________________________________________________________________________________________________\n",
      "conv3_block2_3_bn (BatchNormali (None, 30, 40, 512)  2048        conv3_block2_3_conv[0][0]        \n",
      "__________________________________________________________________________________________________\n",
      "conv3_block2_add (Add)          (None, 30, 40, 512)  0           conv3_block1_out[0][0]           \n",
      "                                                                 conv3_block2_3_bn[0][0]          \n",
      "__________________________________________________________________________________________________\n",
      "conv3_block2_out (Activation)   (None, 30, 40, 512)  0           conv3_block2_add[0][0]           \n",
      "__________________________________________________________________________________________________\n",
      "conv3_block3_1_conv (Conv2D)    (None, 30, 40, 128)  65664       conv3_block2_out[0][0]           \n",
      "__________________________________________________________________________________________________\n",
      "conv3_block3_1_bn (BatchNormali (None, 30, 40, 128)  512         conv3_block3_1_conv[0][0]        \n",
      "__________________________________________________________________________________________________\n",
      "conv3_block3_1_relu (Activation (None, 30, 40, 128)  0           conv3_block3_1_bn[0][0]          \n",
      "__________________________________________________________________________________________________\n",
      "conv3_block3_2_conv (Conv2D)    (None, 30, 40, 128)  147584      conv3_block3_1_relu[0][0]        \n",
      "__________________________________________________________________________________________________\n",
      "conv3_block3_2_bn (BatchNormali (None, 30, 40, 128)  512         conv3_block3_2_conv[0][0]        \n",
      "__________________________________________________________________________________________________\n",
      "conv3_block3_2_relu (Activation (None, 30, 40, 128)  0           conv3_block3_2_bn[0][0]          \n",
      "__________________________________________________________________________________________________\n",
      "conv3_block3_3_conv (Conv2D)    (None, 30, 40, 512)  66048       conv3_block3_2_relu[0][0]        \n",
      "__________________________________________________________________________________________________\n",
      "conv3_block3_3_bn (BatchNormali (None, 30, 40, 512)  2048        conv3_block3_3_conv[0][0]        \n",
      "__________________________________________________________________________________________________\n",
      "conv3_block3_add (Add)          (None, 30, 40, 512)  0           conv3_block2_out[0][0]           \n",
      "                                                                 conv3_block3_3_bn[0][0]          \n",
      "__________________________________________________________________________________________________\n",
      "conv3_block3_out (Activation)   (None, 30, 40, 512)  0           conv3_block3_add[0][0]           \n",
      "__________________________________________________________________________________________________\n",
      "conv3_block4_1_conv (Conv2D)    (None, 30, 40, 128)  65664       conv3_block3_out[0][0]           \n",
      "__________________________________________________________________________________________________\n",
      "conv3_block4_1_bn (BatchNormali (None, 30, 40, 128)  512         conv3_block4_1_conv[0][0]        \n",
      "__________________________________________________________________________________________________\n",
      "conv3_block4_1_relu (Activation (None, 30, 40, 128)  0           conv3_block4_1_bn[0][0]          \n",
      "__________________________________________________________________________________________________\n",
      "conv3_block4_2_conv (Conv2D)    (None, 30, 40, 128)  147584      conv3_block4_1_relu[0][0]        \n",
      "__________________________________________________________________________________________________\n",
      "conv3_block4_2_bn (BatchNormali (None, 30, 40, 128)  512         conv3_block4_2_conv[0][0]        \n",
      "__________________________________________________________________________________________________\n",
      "conv3_block4_2_relu (Activation (None, 30, 40, 128)  0           conv3_block4_2_bn[0][0]          \n",
      "__________________________________________________________________________________________________\n",
      "conv3_block4_3_conv (Conv2D)    (None, 30, 40, 512)  66048       conv3_block4_2_relu[0][0]        \n",
      "__________________________________________________________________________________________________\n",
      "conv3_block4_3_bn (BatchNormali (None, 30, 40, 512)  2048        conv3_block4_3_conv[0][0]        \n",
      "__________________________________________________________________________________________________\n",
      "conv3_block4_add (Add)          (None, 30, 40, 512)  0           conv3_block3_out[0][0]           \n",
      "                                                                 conv3_block4_3_bn[0][0]          \n",
      "__________________________________________________________________________________________________\n",
      "conv3_block4_out (Activation)   (None, 30, 40, 512)  0           conv3_block4_add[0][0]           \n",
      "__________________________________________________________________________________________________\n",
      "conv4_block1_1_conv (Conv2D)    (None, 15, 20, 256)  131328      conv3_block4_out[0][0]           \n",
      "__________________________________________________________________________________________________\n",
      "conv4_block1_1_bn (BatchNormali (None, 15, 20, 256)  1024        conv4_block1_1_conv[0][0]        \n",
      "__________________________________________________________________________________________________\n",
      "conv4_block1_1_relu (Activation (None, 15, 20, 256)  0           conv4_block1_1_bn[0][0]          \n",
      "__________________________________________________________________________________________________\n",
      "conv4_block1_2_conv (Conv2D)    (None, 15, 20, 256)  590080      conv4_block1_1_relu[0][0]        \n",
      "__________________________________________________________________________________________________\n",
      "conv4_block1_2_bn (BatchNormali (None, 15, 20, 256)  1024        conv4_block1_2_conv[0][0]        \n",
      "__________________________________________________________________________________________________\n",
      "conv4_block1_2_relu (Activation (None, 15, 20, 256)  0           conv4_block1_2_bn[0][0]          \n",
      "__________________________________________________________________________________________________\n",
      "conv4_block1_0_conv (Conv2D)    (None, 15, 20, 1024) 525312      conv3_block4_out[0][0]           \n",
      "__________________________________________________________________________________________________\n",
      "conv4_block1_3_conv (Conv2D)    (None, 15, 20, 1024) 263168      conv4_block1_2_relu[0][0]        \n",
      "__________________________________________________________________________________________________\n",
      "conv4_block1_0_bn (BatchNormali (None, 15, 20, 1024) 4096        conv4_block1_0_conv[0][0]        \n",
      "__________________________________________________________________________________________________\n",
      "conv4_block1_3_bn (BatchNormali (None, 15, 20, 1024) 4096        conv4_block1_3_conv[0][0]        \n",
      "__________________________________________________________________________________________________\n",
      "conv4_block1_add (Add)          (None, 15, 20, 1024) 0           conv4_block1_0_bn[0][0]          \n",
      "                                                                 conv4_block1_3_bn[0][0]          \n",
      "__________________________________________________________________________________________________\n",
      "conv4_block1_out (Activation)   (None, 15, 20, 1024) 0           conv4_block1_add[0][0]           \n",
      "__________________________________________________________________________________________________\n",
      "conv4_block2_1_conv (Conv2D)    (None, 15, 20, 256)  262400      conv4_block1_out[0][0]           \n",
      "__________________________________________________________________________________________________\n",
      "conv4_block2_1_bn (BatchNormali (None, 15, 20, 256)  1024        conv4_block2_1_conv[0][0]        \n",
      "__________________________________________________________________________________________________\n",
      "conv4_block2_1_relu (Activation (None, 15, 20, 256)  0           conv4_block2_1_bn[0][0]          \n",
      "__________________________________________________________________________________________________\n",
      "conv4_block2_2_conv (Conv2D)    (None, 15, 20, 256)  590080      conv4_block2_1_relu[0][0]        \n",
      "__________________________________________________________________________________________________\n",
      "conv4_block2_2_bn (BatchNormali (None, 15, 20, 256)  1024        conv4_block2_2_conv[0][0]        \n",
      "__________________________________________________________________________________________________\n",
      "conv4_block2_2_relu (Activation (None, 15, 20, 256)  0           conv4_block2_2_bn[0][0]          \n",
      "__________________________________________________________________________________________________\n",
      "conv4_block2_3_conv (Conv2D)    (None, 15, 20, 1024) 263168      conv4_block2_2_relu[0][0]        \n",
      "__________________________________________________________________________________________________\n",
      "conv4_block2_3_bn (BatchNormali (None, 15, 20, 1024) 4096        conv4_block2_3_conv[0][0]        \n",
      "__________________________________________________________________________________________________\n",
      "conv4_block2_add (Add)          (None, 15, 20, 1024) 0           conv4_block1_out[0][0]           \n",
      "                                                                 conv4_block2_3_bn[0][0]          \n",
      "__________________________________________________________________________________________________\n",
      "conv4_block2_out (Activation)   (None, 15, 20, 1024) 0           conv4_block2_add[0][0]           \n",
      "__________________________________________________________________________________________________\n",
      "conv4_block3_1_conv (Conv2D)    (None, 15, 20, 256)  262400      conv4_block2_out[0][0]           \n",
      "__________________________________________________________________________________________________\n",
      "conv4_block3_1_bn (BatchNormali (None, 15, 20, 256)  1024        conv4_block3_1_conv[0][0]        \n",
      "__________________________________________________________________________________________________\n",
      "conv4_block3_1_relu (Activation (None, 15, 20, 256)  0           conv4_block3_1_bn[0][0]          \n",
      "__________________________________________________________________________________________________\n",
      "conv4_block3_2_conv (Conv2D)    (None, 15, 20, 256)  590080      conv4_block3_1_relu[0][0]        \n",
      "__________________________________________________________________________________________________\n",
      "conv4_block3_2_bn (BatchNormali (None, 15, 20, 256)  1024        conv4_block3_2_conv[0][0]        \n",
      "__________________________________________________________________________________________________\n",
      "conv4_block3_2_relu (Activation (None, 15, 20, 256)  0           conv4_block3_2_bn[0][0]          \n",
      "__________________________________________________________________________________________________\n",
      "conv4_block3_3_conv (Conv2D)    (None, 15, 20, 1024) 263168      conv4_block3_2_relu[0][0]        \n",
      "__________________________________________________________________________________________________\n",
      "conv4_block3_3_bn (BatchNormali (None, 15, 20, 1024) 4096        conv4_block3_3_conv[0][0]        \n",
      "__________________________________________________________________________________________________\n",
      "conv4_block3_add (Add)          (None, 15, 20, 1024) 0           conv4_block2_out[0][0]           \n",
      "                                                                 conv4_block3_3_bn[0][0]          \n",
      "__________________________________________________________________________________________________\n",
      "conv4_block3_out (Activation)   (None, 15, 20, 1024) 0           conv4_block3_add[0][0]           \n",
      "__________________________________________________________________________________________________\n",
      "conv4_block4_1_conv (Conv2D)    (None, 15, 20, 256)  262400      conv4_block3_out[0][0]           \n",
      "__________________________________________________________________________________________________\n",
      "conv4_block4_1_bn (BatchNormali (None, 15, 20, 256)  1024        conv4_block4_1_conv[0][0]        \n",
      "__________________________________________________________________________________________________\n",
      "conv4_block4_1_relu (Activation (None, 15, 20, 256)  0           conv4_block4_1_bn[0][0]          \n",
      "__________________________________________________________________________________________________\n",
      "conv4_block4_2_conv (Conv2D)    (None, 15, 20, 256)  590080      conv4_block4_1_relu[0][0]        \n",
      "__________________________________________________________________________________________________\n",
      "conv4_block4_2_bn (BatchNormali (None, 15, 20, 256)  1024        conv4_block4_2_conv[0][0]        \n",
      "__________________________________________________________________________________________________\n",
      "conv4_block4_2_relu (Activation (None, 15, 20, 256)  0           conv4_block4_2_bn[0][0]          \n",
      "__________________________________________________________________________________________________\n",
      "conv4_block4_3_conv (Conv2D)    (None, 15, 20, 1024) 263168      conv4_block4_2_relu[0][0]        \n",
      "__________________________________________________________________________________________________\n",
      "conv4_block4_3_bn (BatchNormali (None, 15, 20, 1024) 4096        conv4_block4_3_conv[0][0]        \n",
      "__________________________________________________________________________________________________\n",
      "conv4_block4_add (Add)          (None, 15, 20, 1024) 0           conv4_block3_out[0][0]           \n",
      "                                                                 conv4_block4_3_bn[0][0]          \n",
      "__________________________________________________________________________________________________\n",
      "conv4_block4_out (Activation)   (None, 15, 20, 1024) 0           conv4_block4_add[0][0]           \n",
      "__________________________________________________________________________________________________\n",
      "conv4_block5_1_conv (Conv2D)    (None, 15, 20, 256)  262400      conv4_block4_out[0][0]           \n",
      "__________________________________________________________________________________________________\n",
      "conv4_block5_1_bn (BatchNormali (None, 15, 20, 256)  1024        conv4_block5_1_conv[0][0]        \n",
      "__________________________________________________________________________________________________\n",
      "conv4_block5_1_relu (Activation (None, 15, 20, 256)  0           conv4_block5_1_bn[0][0]          \n",
      "__________________________________________________________________________________________________\n",
      "conv4_block5_2_conv (Conv2D)    (None, 15, 20, 256)  590080      conv4_block5_1_relu[0][0]        \n",
      "__________________________________________________________________________________________________\n",
      "conv4_block5_2_bn (BatchNormali (None, 15, 20, 256)  1024        conv4_block5_2_conv[0][0]        \n",
      "__________________________________________________________________________________________________\n",
      "conv4_block5_2_relu (Activation (None, 15, 20, 256)  0           conv4_block5_2_bn[0][0]          \n",
      "__________________________________________________________________________________________________\n",
      "conv4_block5_3_conv (Conv2D)    (None, 15, 20, 1024) 263168      conv4_block5_2_relu[0][0]        \n",
      "__________________________________________________________________________________________________\n",
      "conv4_block5_3_bn (BatchNormali (None, 15, 20, 1024) 4096        conv4_block5_3_conv[0][0]        \n",
      "__________________________________________________________________________________________________\n",
      "conv4_block5_add (Add)          (None, 15, 20, 1024) 0           conv4_block4_out[0][0]           \n",
      "                                                                 conv4_block5_3_bn[0][0]          \n",
      "__________________________________________________________________________________________________\n",
      "conv4_block5_out (Activation)   (None, 15, 20, 1024) 0           conv4_block5_add[0][0]           \n",
      "__________________________________________________________________________________________________\n",
      "conv4_block6_1_conv (Conv2D)    (None, 15, 20, 256)  262400      conv4_block5_out[0][0]           \n",
      "__________________________________________________________________________________________________\n",
      "conv4_block6_1_bn (BatchNormali (None, 15, 20, 256)  1024        conv4_block6_1_conv[0][0]        \n",
      "__________________________________________________________________________________________________\n",
      "conv4_block6_1_relu (Activation (None, 15, 20, 256)  0           conv4_block6_1_bn[0][0]          \n",
      "__________________________________________________________________________________________________\n",
      "conv4_block6_2_conv (Conv2D)    (None, 15, 20, 256)  590080      conv4_block6_1_relu[0][0]        \n",
      "__________________________________________________________________________________________________\n",
      "conv4_block6_2_bn (BatchNormali (None, 15, 20, 256)  1024        conv4_block6_2_conv[0][0]        \n",
      "__________________________________________________________________________________________________\n",
      "conv4_block6_2_relu (Activation (None, 15, 20, 256)  0           conv4_block6_2_bn[0][0]          \n",
      "__________________________________________________________________________________________________\n",
      "conv4_block6_3_conv (Conv2D)    (None, 15, 20, 1024) 263168      conv4_block6_2_relu[0][0]        \n",
      "__________________________________________________________________________________________________\n",
      "conv4_block6_3_bn (BatchNormali (None, 15, 20, 1024) 4096        conv4_block6_3_conv[0][0]        \n",
      "__________________________________________________________________________________________________\n",
      "conv4_block6_add (Add)          (None, 15, 20, 1024) 0           conv4_block5_out[0][0]           \n",
      "                                                                 conv4_block6_3_bn[0][0]          \n",
      "__________________________________________________________________________________________________\n",
      "conv4_block6_out (Activation)   (None, 15, 20, 1024) 0           conv4_block6_add[0][0]           \n",
      "__________________________________________________________________________________________________\n",
      "conv5_block1_1_conv (Conv2D)    (None, 8, 10, 512)   524800      conv4_block6_out[0][0]           \n",
      "__________________________________________________________________________________________________\n",
      "conv5_block1_1_bn (BatchNormali (None, 8, 10, 512)   2048        conv5_block1_1_conv[0][0]        \n",
      "__________________________________________________________________________________________________\n",
      "conv5_block1_1_relu (Activation (None, 8, 10, 512)   0           conv5_block1_1_bn[0][0]          \n",
      "__________________________________________________________________________________________________\n",
      "conv5_block1_2_conv (Conv2D)    (None, 8, 10, 512)   2359808     conv5_block1_1_relu[0][0]        \n",
      "__________________________________________________________________________________________________\n",
      "conv5_block1_2_bn (BatchNormali (None, 8, 10, 512)   2048        conv5_block1_2_conv[0][0]        \n",
      "__________________________________________________________________________________________________\n",
      "conv5_block1_2_relu (Activation (None, 8, 10, 512)   0           conv5_block1_2_bn[0][0]          \n",
      "__________________________________________________________________________________________________\n",
      "conv5_block1_0_conv (Conv2D)    (None, 8, 10, 2048)  2099200     conv4_block6_out[0][0]           \n",
      "__________________________________________________________________________________________________\n",
      "conv5_block1_3_conv (Conv2D)    (None, 8, 10, 2048)  1050624     conv5_block1_2_relu[0][0]        \n",
      "__________________________________________________________________________________________________\n",
      "conv5_block1_0_bn (BatchNormali (None, 8, 10, 2048)  8192        conv5_block1_0_conv[0][0]        \n",
      "__________________________________________________________________________________________________\n",
      "conv5_block1_3_bn (BatchNormali (None, 8, 10, 2048)  8192        conv5_block1_3_conv[0][0]        \n",
      "__________________________________________________________________________________________________\n",
      "conv5_block1_add (Add)          (None, 8, 10, 2048)  0           conv5_block1_0_bn[0][0]          \n",
      "                                                                 conv5_block1_3_bn[0][0]          \n",
      "__________________________________________________________________________________________________\n",
      "conv5_block1_out (Activation)   (None, 8, 10, 2048)  0           conv5_block1_add[0][0]           \n",
      "__________________________________________________________________________________________________\n",
      "conv5_block2_1_conv (Conv2D)    (None, 8, 10, 512)   1049088     conv5_block1_out[0][0]           \n",
      "__________________________________________________________________________________________________\n",
      "conv5_block2_1_bn (BatchNormali (None, 8, 10, 512)   2048        conv5_block2_1_conv[0][0]        \n",
      "__________________________________________________________________________________________________\n",
      "conv5_block2_1_relu (Activation (None, 8, 10, 512)   0           conv5_block2_1_bn[0][0]          \n",
      "__________________________________________________________________________________________________\n",
      "conv5_block2_2_conv (Conv2D)    (None, 8, 10, 512)   2359808     conv5_block2_1_relu[0][0]        \n",
      "__________________________________________________________________________________________________\n",
      "conv5_block2_2_bn (BatchNormali (None, 8, 10, 512)   2048        conv5_block2_2_conv[0][0]        \n",
      "__________________________________________________________________________________________________\n",
      "conv5_block2_2_relu (Activation (None, 8, 10, 512)   0           conv5_block2_2_bn[0][0]          \n",
      "__________________________________________________________________________________________________\n",
      "conv5_block2_3_conv (Conv2D)    (None, 8, 10, 2048)  1050624     conv5_block2_2_relu[0][0]        \n",
      "__________________________________________________________________________________________________\n",
      "conv5_block2_3_bn (BatchNormali (None, 8, 10, 2048)  8192        conv5_block2_3_conv[0][0]        \n",
      "__________________________________________________________________________________________________\n",
      "conv5_block2_add (Add)          (None, 8, 10, 2048)  0           conv5_block1_out[0][0]           \n",
      "                                                                 conv5_block2_3_bn[0][0]          \n",
      "__________________________________________________________________________________________________\n",
      "conv5_block2_out (Activation)   (None, 8, 10, 2048)  0           conv5_block2_add[0][0]           \n",
      "__________________________________________________________________________________________________\n",
      "conv5_block3_1_conv (Conv2D)    (None, 8, 10, 512)   1049088     conv5_block2_out[0][0]           \n",
      "__________________________________________________________________________________________________\n",
      "conv5_block3_1_bn (BatchNormali (None, 8, 10, 512)   2048        conv5_block3_1_conv[0][0]        \n",
      "__________________________________________________________________________________________________\n",
      "conv5_block3_1_relu (Activation (None, 8, 10, 512)   0           conv5_block3_1_bn[0][0]          \n",
      "__________________________________________________________________________________________________\n",
      "conv5_block3_2_conv (Conv2D)    (None, 8, 10, 512)   2359808     conv5_block3_1_relu[0][0]        \n",
      "__________________________________________________________________________________________________\n",
      "conv5_block3_2_bn (BatchNormali (None, 8, 10, 512)   2048        conv5_block3_2_conv[0][0]        \n",
      "__________________________________________________________________________________________________\n",
      "conv5_block3_2_relu (Activation (None, 8, 10, 512)   0           conv5_block3_2_bn[0][0]          \n",
      "__________________________________________________________________________________________________\n",
      "conv5_block3_3_conv (Conv2D)    (None, 8, 10, 2048)  1050624     conv5_block3_2_relu[0][0]        \n",
      "__________________________________________________________________________________________________\n",
      "conv5_block3_3_bn (BatchNormali (None, 8, 10, 2048)  8192        conv5_block3_3_conv[0][0]        \n",
      "__________________________________________________________________________________________________\n",
      "conv5_block3_add (Add)          (None, 8, 10, 2048)  0           conv5_block2_out[0][0]           \n",
      "                                                                 conv5_block3_3_bn[0][0]          \n",
      "__________________________________________________________________________________________________\n",
      "conv5_block3_out (Activation)   (None, 8, 10, 2048)  0           conv5_block3_add[0][0]           \n",
      "__________________________________________________________________________________________________\n",
      "global_average_pooling2d (Globa (None, 2048)         0           conv5_block3_out[0][0]           \n",
      "__________________________________________________________________________________________________\n",
      "dense_1 (Dense)                 (None, 512)          1049088     global_average_pooling2d[0][0]   \n",
      "__________________________________________________________________________________________________\n",
      "dense_2 (Dense)                 (None, 256)          131328      dense_1[0][0]                    \n",
      "__________________________________________________________________________________________________\n",
      "dense_3 (Dense)                 (None, 64)           16448       dense_2[0][0]                    \n",
      "__________________________________________________________________________________________________\n",
      "output (Dense)                  (None, 1)            65          dense_3[0][0]                    \n",
      "==================================================================================================\n",
      "Total params: 24,784,641\n",
      "Trainable params: 1,196,929\n",
      "Non-trainable params: 23,587,712\n",
      "__________________________________________________________________________________________________\n"
     ]
    }
   ],
   "source": [
    "model1.summary()"
   ]
  },
  {
   "cell_type": "code",
   "execution_count": null,
   "id": "c2d7eb41",
   "metadata": {},
   "outputs": [],
   "source": []
  },
  {
   "cell_type": "code",
   "execution_count": null,
   "id": "4d82f97f",
   "metadata": {},
   "outputs": [],
   "source": []
  }
 ],
 "metadata": {
  "kernelspec": {
   "display_name": "Python [conda env:tf-gpu-cuda] *",
   "language": "python",
   "name": "conda-env-tf-gpu-cuda-py"
  },
  "language_info": {
   "codemirror_mode": {
    "name": "ipython",
    "version": 3
   },
   "file_extension": ".py",
   "mimetype": "text/x-python",
   "name": "python",
   "nbconvert_exporter": "python",
   "pygments_lexer": "ipython3",
   "version": "3.9.6"
  }
 },
 "nbformat": 4,
 "nbformat_minor": 5
}
