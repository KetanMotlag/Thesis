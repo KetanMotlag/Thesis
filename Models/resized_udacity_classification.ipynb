{
 "cells": [
  {
   "cell_type": "code",
   "execution_count": 1,
   "id": "19a1bdcb",
   "metadata": {},
   "outputs": [],
   "source": [
    "import os \n",
    "\n",
    "from keras.models import Sequential \n",
    "from keras.layers import Flatten, Dense, Dropout, Cropping2D, Lambda, InputLayer\n",
    "from keras.layers.convolutional import Convolution2D\n",
    "from keras.layers.pooling import MaxPooling2D\n",
    "from keras import losses, optimizers, metrics, backend, regularizers \n",
    "from keras.constraints import maxnorm\n",
    "from keras.callbacks import TensorBoard, ModelCheckpoint, EarlyStopping\n",
    "from keras.layers.normalization import BatchNormalization\n",
    "from tensorflow.keras.preprocessing.image import ImageDataGenerator\n"
   ]
  },
  {
   "cell_type": "code",
   "execution_count": 2,
   "id": "748e034d",
   "metadata": {},
   "outputs": [],
   "source": [
    "from typing import Iterator, List, Union, Tuple\n",
    "from datetime import datetime\n",
    "import pandas as pd\n",
    "import matplotlib.pyplot as plt\n",
    "import seaborn as sns\n",
    "from sklearn.model_selection import train_test_split"
   ]
  },
  {
   "cell_type": "code",
   "execution_count": 3,
   "id": "faefb735",
   "metadata": {},
   "outputs": [],
   "source": [
    "dataset = ('C:/Users/Ketan/Thesis/self-driving-car/challenges/resized_dataset_udacity_320x240')"
   ]
  },
  {
   "cell_type": "code",
   "execution_count": 4,
   "id": "65fa41e3",
   "metadata": {},
   "outputs": [],
   "source": [
    "# Read the data\n",
    "df = pd.io.parsers.read_csv(os.path.join(dataset, 'out.csv'))\n",
    "# Split data into training and validation sets\n",
    "df_train, df_val = train_test_split(df, test_size=.2)\n"
   ]
  },
  {
   "cell_type": "code",
   "execution_count": 5,
   "id": "3c55e5f9",
   "metadata": {},
   "outputs": [],
   "source": [
    "datagen=ImageDataGenerator(rescale=1./255,zoom_range=0.2,horizontal_flip=True)"
   ]
  },
  {
   "cell_type": "code",
   "execution_count": 6,
   "id": "07a672d2",
   "metadata": {},
   "outputs": [],
   "source": [
    "pd.options.mode.chained_assignment = None #default = warn"
   ]
  },
  {
   "cell_type": "code",
   "execution_count": 7,
   "id": "a8e56545",
   "metadata": {},
   "outputs": [],
   "source": [
    "df_train['angle_range'] = pd.qcut(df_train['angle'], q=10)\n",
    "df_val['angle_range'] = pd.qcut(df_val['angle'], q=10)"
   ]
  },
  {
   "cell_type": "code",
   "execution_count": 8,
   "id": "76d376f4",
   "metadata": {},
   "outputs": [],
   "source": [
    "df_train['labels']= df_train['angle_range'].cat.codes\n",
    "df_val['labels']= df_val['angle_range'].cat.codes"
   ]
  },
  {
   "cell_type": "code",
   "execution_count": 9,
   "id": "45f5916d",
   "metadata": {},
   "outputs": [],
   "source": [
    "df_train['labels'] = df_train['labels'].apply(str)\n",
    "df_val['labels'] = df_val['labels'].apply(str)\n"
   ]
  },
  {
   "cell_type": "code",
   "execution_count": 10,
   "id": "bca3927e",
   "metadata": {},
   "outputs": [
    {
     "name": "stdout",
     "output_type": "stream",
     "text": [
      "Found 4491 validated image filenames belonging to 10 classes.\n"
     ]
    }
   ],
   "source": [
    "train_generator=datagen.flow_from_dataframe(dataframe=df_train, directory=dataset, x_col=\"File\", y_col=\"labels\", \n",
    "                                            class_mode=\"categorical\", target_size=(240, 320), batch_size=32)"
   ]
  },
  {
   "cell_type": "code",
   "execution_count": null,
   "id": "d6485be9",
   "metadata": {},
   "outputs": [],
   "source": []
  },
  {
   "cell_type": "code",
   "execution_count": 11,
   "id": "5317c7d5",
   "metadata": {},
   "outputs": [
    {
     "name": "stdout",
     "output_type": "stream",
     "text": [
      "Found 1123 validated image filenames belonging to 10 classes.\n"
     ]
    }
   ],
   "source": [
    "val_generator=datagen.flow_from_dataframe(dataframe=df_val, directory=dataset, \n",
    "                                            x_col=\"File\", y_col=\"labels\", class_mode=\"categorical\", target_size=(240, 320), \n",
    "                                            batch_size=32)"
   ]
  },
  {
   "cell_type": "code",
   "execution_count": 12,
   "id": "305ae4e8",
   "metadata": {},
   "outputs": [],
   "source": [
    "def build_model(drop_prob = 0.2, learn_rate=0.001, constraint=maxnorm(3), reg = None, verbose = False): \n",
    "    backend.clear_session()\n",
    "    model = Sequential()\n",
    "\n",
    "    ###--- Convolutional Neural Network --- ### \n",
    "    input_shape = (240, 320, 3)\n",
    "    model.add(InputLayer(input_shape=input_shape))\n",
    "\n",
    "#     model.add(Cropping2D(cropping=((60, 0), (0, 0)), input_shape=input_shape))\n",
    "    # model.add(Lambda(resize, input_shape=input_shape))\n",
    "    model.add(BatchNormalization(name='r0'))\n",
    "\n",
    "    ### conv. layers \n",
    "    model.add(Convolution2D(filters=24,\n",
    "                            kernel_size=(5, 5),\n",
    "                            strides = (2, 2),\n",
    "                            activation='relu',\n",
    "                            kernel_regularizer=reg, \n",
    "                            input_shape=input_shape, \n",
    "                            ))\n",
    "    '''READ THIS try adding max pool - before min loss was 7.04'''\n",
    "#     model.add(MaxPooling2D(pool_size=(2, 2)))\n",
    "    model.add(BatchNormalization(name='r1'))\n",
    "\n",
    "    model.add(Convolution2D(filters=36,\n",
    "                            kernel_size=(5, 5),\n",
    "                            strides = (2, 2),\n",
    "                            activation='relu',\n",
    "                            kernel_regularizer=reg, \n",
    "                            ))\n",
    "    model.add(BatchNormalization(name='r2'))\n",
    "\n",
    "    model.add(Convolution2D(filters=48,\n",
    "                            kernel_size=(5, 5),\n",
    "                            strides = (2, 2),\n",
    "                            activation='relu',\n",
    "                            kernel_regularizer=reg, \n",
    "                            ))\n",
    "    model.add(BatchNormalization(name='r3'))\n",
    "\n",
    "    model.add(Convolution2D(filters=64,\n",
    "                            kernel_size=(3, 3),\n",
    "                            strides = (1, 1),\n",
    "                            activation='relu',\n",
    "                            kernel_regularizer=reg, \n",
    "                            ))\n",
    "    model.add(BatchNormalization(name='r4'))\n",
    "\n",
    "    model.add(Convolution2D(filters=64,\n",
    "                            kernel_size=(1, 1),\n",
    "                            strides = (2, 2),\n",
    "                            activation='relu',\n",
    "                            kernel_regularizer=reg, \n",
    "                            ))\n",
    "    model.add(BatchNormalization(name='r5'))\n",
    "\n",
    "    ### fully connect layers \n",
    "    model.add(Flatten())\n",
    "    model.add(Dense(1164, activation='relu', kernel_constraint=constraint))\n",
    "    model.add(Dropout(drop_prob))\n",
    "\n",
    "    model.add(Dense(100, activation='relu', kernel_constraint=constraint))\n",
    "    model.add(Dropout(drop_prob))\n",
    "\n",
    "    model.add(Dense(50, activation='relu', kernel_constraint=constraint))\n",
    "    model.add(Dropout(drop_prob))\n",
    "\n",
    "    model.add(Dense(20, activation='relu', kernel_constraint=constraint))\n",
    "    model.add(Dropout(drop_prob))\n",
    "\n",
    "    model.add(Dense(10, activation='softmax'))\n",
    "\n",
    "    if verbose: \n",
    "        # Summarize the model\n",
    "        model.summary()\n",
    "    \n",
    "    #compile \n",
    "    model.compile(loss='categorical_crossentropy', optimizer=optimizers.Adam(lr=learn_rate),\n",
    "                  metrics=['AUC', 'categorical_accuracy'])\n",
    "\n",
    "    return model"
   ]
  },
  {
   "cell_type": "code",
   "execution_count": 16,
   "id": "d683b020",
   "metadata": {},
   "outputs": [],
   "source": [
    "#tensorboard object \n",
    "tensorboard = TensorBoard(log_dir='./logs7', histogram_freq=0,\n",
    "                          write_graph=True, write_images=False)\n",
    "\n",
    "#save and overwrite models when improved \n",
    "filepath=\"checkpoints/baseline_best.h5\"\n",
    "\n",
    "checkpoint = ModelCheckpoint(filepath, monitor='val_loss', save_best_only=True)\n",
    "\n",
    "early_stop = EarlyStopping(monitor='val_loss', min_delta=0.01, patience=3, verbose=0, mode='auto')\n",
    "\n",
    "callbacks_list = [checkpoint, tensorboard, early_stop]"
   ]
  },
  {
   "cell_type": "code",
   "execution_count": 13,
   "id": "cff0a129",
   "metadata": {},
   "outputs": [
    {
     "name": "stdout",
     "output_type": "stream",
     "text": [
      "Model: \"sequential\"\n",
      "_________________________________________________________________\n",
      "Layer (type)                 Output Shape              Param #   \n",
      "=================================================================\n",
      "r0 (BatchNormalization)      (None, 240, 320, 3)       12        \n",
      "_________________________________________________________________\n",
      "conv2d (Conv2D)              (None, 118, 158, 24)      1824      \n",
      "_________________________________________________________________\n",
      "r1 (BatchNormalization)      (None, 118, 158, 24)      96        \n",
      "_________________________________________________________________\n",
      "conv2d_1 (Conv2D)            (None, 57, 77, 36)        21636     \n",
      "_________________________________________________________________\n",
      "r2 (BatchNormalization)      (None, 57, 77, 36)        144       \n",
      "_________________________________________________________________\n",
      "conv2d_2 (Conv2D)            (None, 27, 37, 48)        43248     \n",
      "_________________________________________________________________\n",
      "r3 (BatchNormalization)      (None, 27, 37, 48)        192       \n",
      "_________________________________________________________________\n",
      "conv2d_3 (Conv2D)            (None, 25, 35, 64)        27712     \n",
      "_________________________________________________________________\n",
      "r4 (BatchNormalization)      (None, 25, 35, 64)        256       \n",
      "_________________________________________________________________\n",
      "conv2d_4 (Conv2D)            (None, 13, 18, 64)        4160      \n",
      "_________________________________________________________________\n",
      "r5 (BatchNormalization)      (None, 13, 18, 64)        256       \n",
      "_________________________________________________________________\n",
      "flatten (Flatten)            (None, 14976)             0         \n",
      "_________________________________________________________________\n",
      "dense (Dense)                (None, 1164)              17433228  \n",
      "_________________________________________________________________\n",
      "dropout (Dropout)            (None, 1164)              0         \n",
      "_________________________________________________________________\n",
      "dense_1 (Dense)              (None, 100)               116500    \n",
      "_________________________________________________________________\n",
      "dropout_1 (Dropout)          (None, 100)               0         \n",
      "_________________________________________________________________\n",
      "dense_2 (Dense)              (None, 50)                5050      \n",
      "_________________________________________________________________\n",
      "dropout_2 (Dropout)          (None, 50)                0         \n",
      "_________________________________________________________________\n",
      "dense_3 (Dense)              (None, 20)                1020      \n",
      "_________________________________________________________________\n",
      "dropout_3 (Dropout)          (None, 20)                0         \n",
      "_________________________________________________________________\n",
      "dense_4 (Dense)              (None, 10)                210       \n",
      "=================================================================\n",
      "Total params: 17,655,544\n",
      "Trainable params: 17,655,066\n",
      "Non-trainable params: 478\n",
      "_________________________________________________________________\n"
     ]
    },
    {
     "name": "stderr",
     "output_type": "stream",
     "text": [
      "C:\\Users\\Ketan\\anaconda3\\envs\\tf-gpu-cuda\\lib\\site-packages\\tensorflow\\python\\keras\\optimizer_v2\\optimizer_v2.py:374: UserWarning: The `lr` argument is deprecated, use `learning_rate` instead.\n",
      "  warnings.warn(\n"
     ]
    }
   ],
   "source": [
    "BATCH_SIZE = 32\n",
    "EPOCHS = 10\n",
    "LEARN_RATE = 0.001\n",
    "DROP_PROB = 0.4\n",
    "\n",
    "control_model = build_model(drop_prob = DROP_PROB, learn_rate = LEARN_RATE, verbose=True)"
   ]
  },
  {
   "cell_type": "code",
   "execution_count": 14,
   "id": "a4126c59",
   "metadata": {},
   "outputs": [],
   "source": [
    "STEP_SIZE_TRAIN=train_generator.n//train_generator.batch_size\n",
    "STEP_SIZE_VALID=val_generator.n//val_generator.batch_size"
   ]
  },
  {
   "cell_type": "code",
   "execution_count": 17,
   "id": "51b327f1",
   "metadata": {},
   "outputs": [
    {
     "name": "stderr",
     "output_type": "stream",
     "text": [
      "C:\\Users\\Ketan\\anaconda3\\envs\\tf-gpu-cuda\\lib\\site-packages\\tensorflow\\python\\keras\\engine\\training.py:1940: UserWarning: `Model.fit_generator` is deprecated and will be removed in a future version. Please use `Model.fit`, which supports generators.\n",
      "  warnings.warn('`Model.fit_generator` is deprecated and '\n"
     ]
    },
    {
     "name": "stdout",
     "output_type": "stream",
     "text": [
      "Epoch 1/10\n",
      "140/140 [==============================] - 301s 2s/step - loss: 2.5805 - auc: 0.5065 - categorical_accuracy: 0.1083 - val_loss: 2.3035 - val_auc: 0.5028 - val_categorical_accuracy: 0.1125\n",
      "Epoch 2/10\n",
      "140/140 [==============================] - 292s 2s/step - loss: 2.3129 - auc: 0.5050 - categorical_accuracy: 0.1041 - val_loss: 2.3024 - val_auc: 0.4985 - val_categorical_accuracy: 0.1098\n",
      "Epoch 3/10\n",
      "140/140 [==============================] - 321s 2s/step - loss: 2.3085 - auc: 0.5036 - categorical_accuracy: 0.0985 - val_loss: 2.2976 - val_auc: 0.5187 - val_categorical_accuracy: 0.1107\n",
      "Epoch 4/10\n",
      "140/140 [==============================] - 320s 2s/step - loss: 2.3149 - auc: 0.5115 - categorical_accuracy: 0.1054 - val_loss: 2.3020 - val_auc: 0.5033 - val_categorical_accuracy: 0.1027\n"
     ]
    }
   ],
   "source": [
    "control_hist = control_model.fit_generator(generator = train_generator,\n",
    "                           steps_per_epoch = STEP_SIZE_TRAIN,\n",
    "                           validation_data = val_generator,\n",
    "                           validation_steps =STEP_SIZE_VALID, \n",
    "                           epochs = EPOCHS,\n",
    "                           callbacks = callbacks_list,\n",
    "                           verbose = 1)"
   ]
  },
  {
   "cell_type": "code",
   "execution_count": 40,
   "id": "f9304951",
   "metadata": {},
   "outputs": [],
   "source": [
    "control_model.save('resized_udacity_regression_v2.h5')\n"
   ]
  },
  {
   "cell_type": "code",
   "execution_count": null,
   "id": "347d37f0",
   "metadata": {},
   "outputs": [],
   "source": []
  },
  {
   "cell_type": "code",
   "execution_count": 21,
   "id": "67a48d8f",
   "metadata": {},
   "outputs": [],
   "source": [
    "from keras.applications import inception_v3 as inc_net\n"
   ]
  },
  {
   "cell_type": "code",
   "execution_count": 22,
   "id": "a62b86c5",
   "metadata": {},
   "outputs": [],
   "source": [
    "from PIL import Image\n",
    "import numpy as np"
   ]
  },
  {
   "cell_type": "code",
   "execution_count": 23,
   "id": "f46e153b",
   "metadata": {},
   "outputs": [],
   "source": [
    "def open_images(inference_folder: str) -> np.ndarray:\n",
    "    \"\"\"Loads images from a folder and prepare them for inferencing.\n",
    "\n",
    "    Parameters\n",
    "    ----------\n",
    "    inference_folder : str\n",
    "        Location of images for inferencing.\n",
    "\n",
    "    Returns\n",
    "    -------\n",
    "    np.ndarray\n",
    "        List of images as numpy arrays transformed to fit the efficient_net model input specs.\n",
    "    \"\"\"\n",
    "    images = []\n",
    "    for img in os.listdir(inference_folder):\n",
    "        img_location = os.path.join(inference_folder, img)  # create full path to image\n",
    "\n",
    "        with Image.open(img_location) as img:  # open image with pillow\n",
    "\n",
    "            img = np.array(img)\n",
    "            img = img[:, :, :3]\n",
    "            img = np.expand_dims(img, axis=0)  # add 0 dimension to fit input shape of efficient_net\n",
    "            img = inc_net.preprocess_input(img)\n",
    "\n",
    "        images.append(img)\n",
    "    images_array = np.vstack(images)  # combine images efficiently to a numpy array\n",
    "    return images_array"
   ]
  },
  {
   "cell_type": "code",
   "execution_count": 27,
   "id": "b21ce90c",
   "metadata": {},
   "outputs": [],
   "source": [
    "images = open_images(\"C:/Users/Ketan/Thesis/self-driving-car/challenges/test_dataset2\")\n"
   ]
  },
  {
   "cell_type": "code",
   "execution_count": 41,
   "id": "a637de35",
   "metadata": {},
   "outputs": [
    {
     "name": "stdout",
     "output_type": "stream",
     "text": [
      "1479425719681268780.jpg [-0.29937765]\n",
      "1479425719731264417.jpg [-0.2768441]\n",
      "1479425719781262693.jpg [-0.05526823]\n",
      "1479425719831276356.jpg [-0.01969705]\n",
      "1479425719881419974.jpg [0.13547224]\n",
      "1479425719931414543.jpg [0.04343991]\n",
      "1479425719981321507.jpg [0.61118335]\n",
      "1479425720031300599.jpg [0.54303086]\n",
      "1479425720081346893.jpg [0.44364884]\n",
      "1479425720131269683.jpg [0.42185518]\n",
      "1479425720181373910.jpg [0.6092737]\n",
      "1479425720231334733.jpg [0.47977987]\n",
      "1479425720281331591.jpg [0.8771286]\n",
      "1479425720331302374.jpg [0.57536685]\n",
      "1479425720381363046.jpg [0.8274342]\n",
      "1479425720431335470.jpg [0.56299365]\n",
      "1479425720481412110.jpg [1.9465857]\n",
      "1479425720531376518.jpg [1.9624428]\n",
      "1479425720581393603.jpg [2.1463106]\n",
      "1479425720631398027.jpg [1.8737742]\n",
      "1479425720681517212.jpg [1.9571255]\n"
     ]
    }
   ],
   "source": [
    "predictions = control_model.predict_generator(images)\n",
    "\n",
    "images_names = os.listdir(\"C:/Users/Ketan/Thesis/self-driving-car/challenges/test_dataset\")\n",
    "for image_name, prediction in zip(images_names, predictions):\n",
    "    print(image_name, prediction)"
   ]
  },
  {
   "cell_type": "code",
   "execution_count": null,
   "id": "6d840327",
   "metadata": {},
   "outputs": [],
   "source": []
  }
 ],
 "metadata": {
  "kernelspec": {
   "display_name": "Python [conda env:tf-gpu-cuda] *",
   "language": "python",
   "name": "conda-env-tf-gpu-cuda-py"
  },
  "language_info": {
   "codemirror_mode": {
    "name": "ipython",
    "version": 3
   },
   "file_extension": ".py",
   "mimetype": "text/x-python",
   "name": "python",
   "nbconvert_exporter": "python",
   "pygments_lexer": "ipython3",
   "version": "3.9.6"
  }
 },
 "nbformat": 4,
 "nbformat_minor": 5
}
