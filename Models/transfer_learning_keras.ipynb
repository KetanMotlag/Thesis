{
 "cells": [
  {
   "cell_type": "code",
   "execution_count": 7,
   "metadata": {},
   "outputs": [],
   "source": [
    "import numpy as np\n",
    "import os\n",
    "os.environ['TF_CPP_MIN_LOG_LEVEL'] = '1'\n",
    "import tensorflow as tf\n",
    "import pandas as pd\n",
    "from keras import models, optimizers, backend\n",
    "from keras.layers import core, convolutional, pooling\n",
    "from sklearn import model_selection\n",
    "#from preprocess.imageSteeringDB import ImageSteeringDB\n",
    "import cv2\n",
    "import random\n",
    "\n",
    "local_project_path = r'C:/Users/Ketan/Thesis/PilotNet/src/driving_dataset/'\n",
    "local_data_path = os.path.join(local_project_path, 'C:/Users/Ketan/Thesis/PilotNet/src/driving_dataset')\n",
    "from tensorflow.keras.utils import Sequence\n",
    "import matplotlib.image as mpimg\n",
    "\n",
    "import os, json\n",
    "import matplotlib.pyplot as plt\n",
    "\n",
    "from PIL import Image\n",
    "import skimage \n",
    "from skimage.transform import resize\n",
    "\n",
    "from keras_preprocessing.image import ImageDataGenerator\n",
    "from tensorflow.keras import optimizers\n",
    "from sklearn.preprocessing import LabelEncoder\n",
    "\n",
    "\n",
    "from keras.preprocessing import image\n",
    "from keras.applications.imagenet_utils import decode_predictions\n",
    "from skimage.io import imread\n",
    "from lime import lime_image\n",
    "\n",
    "from keras.applications import inception_v3 as inc_net\n",
    "from keras.applications.imagenet_utils import decode_predictions\n",
    "\n",
    "\n"
   ]
  },
  {
   "cell_type": "code",
   "execution_count": 53,
   "metadata": {},
   "outputs": [
    {
     "name": "stdout",
     "output_type": "stream",
     "text": [
      "[name: \"/device:CPU:0\"\n",
      "device_type: \"CPU\"\n",
      "memory_limit: 268435456\n",
      "locality {\n",
      "}\n",
      "incarnation: 356458341547129125\n",
      ", name: \"/device:GPU:0\"\n",
      "device_type: \"GPU\"\n",
      "memory_limit: 2381978824\n",
      "locality {\n",
      "  bus_id: 1\n",
      "  links {\n",
      "  }\n",
      "}\n",
      "incarnation: 3150787284471211654\n",
      "physical_device_desc: \"device: 0, name: NVIDIA GeForce MX130, pci bus id: 0000:01:00.0, compute capability: 5.0\"\n",
      "]\n"
     ]
    }
   ],
   "source": [
    "from tensorflow.python.client import device_lib\n",
    "print(device_lib.list_local_devices())"
   ]
  },
  {
   "cell_type": "code",
   "execution_count": 54,
   "metadata": {},
   "outputs": [
    {
     "ename": "AttributeError",
     "evalue": "module 'keras.backend' has no attribute 'tensorflow_backend'",
     "output_type": "error",
     "traceback": [
      "\u001b[1;31m---------------------------------------------------------------------------\u001b[0m",
      "\u001b[1;31mAttributeError\u001b[0m                            Traceback (most recent call last)",
      "\u001b[1;32m<ipython-input-54-3d00d838479b>\u001b[0m in \u001b[0;36m<module>\u001b[1;34m\u001b[0m\n\u001b[0;32m      1\u001b[0m \u001b[1;32mfrom\u001b[0m \u001b[0mkeras\u001b[0m \u001b[1;32mimport\u001b[0m \u001b[0mbackend\u001b[0m \u001b[1;32mas\u001b[0m \u001b[0mK\u001b[0m\u001b[1;33m\u001b[0m\u001b[0m\n\u001b[1;32m----> 2\u001b[1;33m \u001b[0mK\u001b[0m\u001b[1;33m.\u001b[0m\u001b[0mtensorflow_backend\u001b[0m\u001b[1;33m.\u001b[0m\u001b[0m_get_available_gpus\u001b[0m\u001b[1;33m(\u001b[0m\u001b[1;33m)\u001b[0m\u001b[1;33m\u001b[0m\u001b[0m\n\u001b[0m",
      "\u001b[1;31mAttributeError\u001b[0m: module 'keras.backend' has no attribute 'tensorflow_backend'"
     ]
    }
   ],
   "source": [
    "from keras import backend as K\n",
    "K.tensorflow_backend._get_available_gpus()"
   ]
  },
  {
   "cell_type": "code",
   "execution_count": 19,
   "metadata": {},
   "outputs": [],
   "source": [
    "dataset = ('C:/Users/Ketan/Thesis/PilotNet/src/driving_dataset')"
   ]
  },
  {
   "cell_type": "code",
   "execution_count": 20,
   "metadata": {},
   "outputs": [],
   "source": [
    "def get_image(path):\n",
    "    with open(os.path.abspath(path), 'rb') as f:\n",
    "        with Image.open(f) as img:\n",
    "            return img.convert('RGB') \n",
    "        \n",
    "img = get_image('./driving_dataset/481.jpg')\n"
   ]
  },
  {
   "cell_type": "code",
   "execution_count": 21,
   "metadata": {},
   "outputs": [],
   "source": [
    "#plt.imshow(img)"
   ]
  },
  {
   "cell_type": "code",
   "execution_count": 22,
   "metadata": {},
   "outputs": [],
   "source": [
    "# img1 = Image.open('./driving_dataset/481.jpg')"
   ]
  },
  {
   "cell_type": "code",
   "execution_count": 23,
   "metadata": {},
   "outputs": [],
   "source": [
    "# img1 = np.array(img1)"
   ]
  },
  {
   "cell_type": "code",
   "execution_count": 24,
   "metadata": {},
   "outputs": [],
   "source": [
    "#plt.imshow(img1)"
   ]
  },
  {
   "cell_type": "code",
   "execution_count": 25,
   "metadata": {},
   "outputs": [],
   "source": [
    "# Read the data\n",
    "df = pd.io.parsers.read_csv(os.path.join(dataset, 'data_new.csv'))\n",
    "# Split data into training and validation sets\n",
    "df_train, df_valid = model_selection.train_test_split(df, test_size=.2)"
   ]
  },
  {
   "cell_type": "code",
   "execution_count": 26,
   "metadata": {},
   "outputs": [],
   "source": [
    "x_train = df['image']\n",
    "y_train = df['angle']"
   ]
  },
  {
   "cell_type": "code",
   "execution_count": 27,
   "metadata": {},
   "outputs": [
    {
     "data": {
      "text/plain": [
       "count    45405.000000\n",
       "mean         1.745390\n",
       "std         30.915841\n",
       "min       -159.900000\n",
       "25%         -5.450000\n",
       "50%          1.010000\n",
       "75%          8.870000\n",
       "max        501.780000\n",
       "Name: angle, dtype: float64"
      ]
     },
     "execution_count": 27,
     "metadata": {},
     "output_type": "execute_result"
    }
   ],
   "source": [
    "df['angle'].describe()\n"
   ]
  },
  {
   "cell_type": "code",
   "execution_count": 28,
   "metadata": {},
   "outputs": [],
   "source": [
    "#df_train['angle'].nlargest(20)\n"
   ]
  },
  {
   "cell_type": "code",
   "execution_count": 29,
   "metadata": {},
   "outputs": [],
   "source": [
    "# q_low = df[\"angle\"].quantile(0.01)\n",
    "# q_hi  = df[\"angle\"].quantile(0.99)\n",
    "# q_low, q_hi"
   ]
  },
  {
   "cell_type": "code",
   "execution_count": 30,
   "metadata": {},
   "outputs": [],
   "source": [
    "# cats, bins1 = pd.cut(df.angle, 5, retbins=True)\n"
   ]
  },
  {
   "cell_type": "code",
   "execution_count": 31,
   "metadata": {},
   "outputs": [
    {
     "data": {
      "image/png": "[encoded data removed]",
      "text/plain": [
       "<Figure size 432x288 with 1 Axes>"
      ]
     },
     "metadata": {},
     "output_type": "display_data"
    }
   ],
   "source": [
    "import seaborn as sns\n",
    "sns.set_style('whitegrid')\n",
    "hist = df.hist(bins=20)"
   ]
  },
  {
   "cell_type": "code",
   "execution_count": 32,
   "metadata": {},
   "outputs": [
    {
     "data": {
      "image/png": "[encoded data removed]",
      "text/plain": [
       "<Figure size 432x288 with 1 Axes>"
      ]
     },
     "metadata": {},
     "output_type": "display_data"
    }
   ],
   "source": [
    "ax = df.plot.kde(bw_method=3)\n"
   ]
  },
  {
   "cell_type": "code",
   "execution_count": 33,
   "metadata": {},
   "outputs": [],
   "source": [
    "pd.options.mode.chained_assignment = None #default = warn"
   ]
  },
  {
   "cell_type": "code",
   "execution_count": 34,
   "metadata": {},
   "outputs": [],
   "source": [
    "df_train['angle_range'] = pd.qcut(df_train['angle'], q=10)\n",
    "df_valid['angle_range'] = pd.qcut(df_valid['angle'], q=10)"
   ]
  },
  {
   "cell_type": "code",
   "execution_count": 35,
   "metadata": {},
   "outputs": [],
   "source": [
    "df_train['labels']= df_train['angle_range'].cat.codes\n",
    "df_valid['labels']= df_valid['angle_range'].cat.codes"
   ]
  },
  {
   "cell_type": "code",
   "execution_count": 36,
   "metadata": {},
   "outputs": [],
   "source": [
    "df_train['labels'] = df_train['labels'].apply(str)\n",
    "df_valid['labels'] = df_valid['labels'].apply(str)\n"
   ]
  },
  {
   "cell_type": "code",
   "execution_count": 52,
   "metadata": {},
   "outputs": [],
   "source": [
    "# df_train.angle_range\n",
    "#Categories (10, interval[float64]): [(-159.901, -18.76] < (-18.76, -9.48] < (-9.48, -2.52] < (-2.52, 0.0] ... (2.42, 6.25] \n",
    "                                    #< (6.25, 11.5] < (11.5, 22.08] < (22.08, 501.78]]"
   ]
  },
  {
   "cell_type": "code",
   "execution_count": 38,
   "metadata": {},
   "outputs": [
    {
     "name": "stdout",
     "output_type": "stream",
     "text": [
      "Found 36324 validated image filenames belonging to 10 classes.\n"
     ]
    }
   ],
   "source": [
    "datagen=ImageDataGenerator(rescale=1./255)\n",
    "train_generator=datagen.flow_from_dataframe(dataframe=df_train, directory=dataset, x_col=\"image\", y_col=\"labels\", \n",
    "                                            class_mode=\"categorical\", target_size=(455,256), batch_size=32)"
   ]
  },
  {
   "cell_type": "code",
   "execution_count": 40,
   "metadata": {},
   "outputs": [
    {
     "name": "stdout",
     "output_type": "stream",
     "text": [
      "Found 9081 validated image filenames belonging to 10 classes.\n"
     ]
    }
   ],
   "source": [
    "valid_generator=datagen.flow_from_dataframe(dataframe=df_valid, directory=dataset, \n",
    "                                            x_col=\"image\", y_col=\"labels\", class_mode=\"categorical\", target_size=(455,256), \n",
    "                                            batch_size=32)"
   ]
  },
  {
   "cell_type": "code",
   "execution_count": null,
   "metadata": {},
   "outputs": [],
   "source": [
    "#Transfer learning with resnet50"
   ]
  },
  {
   "cell_type": "code",
   "execution_count": 1,
   "metadata": {},
   "outputs": [],
   "source": [
    "from tensorflow.keras.applications.resnet50 import ResNet50\n"
   ]
  },
  {
   "cell_type": "code",
   "execution_count": 3,
   "metadata": {},
   "outputs": [
    {
     "name": "stdout",
     "output_type": "stream",
     "text": [
      "Downloading data from https://storage.googleapis.com/tensorflow/keras-applications/resnet/resnet50_weights_tf_dim_ordering_tf_kernels_notop.h5\n",
      "94773248/94765736 [==============================] - 6s 0us/step\n",
      "94781440/94765736 [==============================] - 6s 0us/step\n"
     ]
    }
   ],
   "source": [
    "base_model = ResNet50(weights='imagenet',input_shape=(455,256,3),include_top=False)\n"
   ]
  },
  {
   "cell_type": "code",
   "execution_count": 4,
   "metadata": {},
   "outputs": [],
   "source": [
    "base_model.trainable = False"
   ]
  },
  {
   "cell_type": "code",
   "execution_count": 50,
   "metadata": {},
   "outputs": [],
   "source": [
    "model = models.Sequential()\n",
    "model.add(base_model)\n",
    "model.add(core.Flatten())\n",
    "model.add(core.Dense(512, activation='relu'))\n",
    "model.add(core.Dense(256, activation='relu'))\n",
    "model.add(core.Dense(64, activation='relu'))\n",
    "model.add(core.Dense(10, activation='softmax'))\n",
    "model.compile(optimizer=tf.keras.optimizers.Adam(learning_rate=1e-04), loss='categorical_crossentropy',metrics=['AUC', 'categorical_accuracy'],)"
   ]
  },
  {
   "cell_type": "code",
   "execution_count": 48,
   "metadata": {},
   "outputs": [],
   "source": [
    "STEP_SIZE_TRAIN=train_generator.n//train_generator.batch_size\n",
    "STEP_SIZE_VALID=valid_generator.n//valid_generator.batch_size"
   ]
  },
  {
   "cell_type": "code",
   "execution_count": 51,
   "metadata": {
    "scrolled": true
   },
   "outputs": [
    {
     "name": "stdout",
     "output_type": "stream",
     "text": [
      "Epoch 1/2\n"
     ]
    },
    {
     "name": "stdout",
     "output_type": "stream",
     "text": [
      " 113/1135 [=>............................] - ETA: 3:04:56 - loss: 2.6857 - auc: 0.4630 - categorical_accuracy: 0.093 - ETA: 38:12 - loss: 4.7072 - auc: 0.4581 - categorical_accuracy: 0.0781  - ETA: 38:08 - loss: 5.1007 - auc: 0.4625 - categorical_accuracy: 0.083 - ETA: 38:05 - loss: 5.2092 - auc: 0.4725 - categorical_accuracy: 0.101 - ETA: 38:02 - loss: 4.8201 - auc: 0.4903 - categorical_accuracy: 0.112 - ETA: 38:01 - loss: 4.4479 - auc: 0.5121 - categorical_accuracy: 0.114 - ETA: 37:58 - loss: 4.3138 - auc: 0.5162 - categorical_accuracy: 0.111 - ETA: 37:57 - loss: 4.1470 - auc: 0.5208 - categorical_accuracy: 0.105 - ETA: 37:54 - loss: 3.9901 - auc: 0.5233 - categorical_accuracy: 0.104 - ETA: 37:52 - loss: 3.8951 - auc: 0.5204 - categorical_accuracy: 0.103 - ETA: 37:50 - loss: 3.8099 - auc: 0.5177 - categorical_accuracy: 0.096 - ETA: 37:47 - loss: 3.7095 - auc: 0.5156 - categorical_accuracy: 0.091 - ETA: 37:45 - loss: 3.6190 - auc: 0.5148 - categorical_accuracy: 0.086 - ETA: 37:43 - loss: 3.5451 - auc: 0.5153 - categorical_accuracy: 0.082 - ETA: 37:41 - loss: 3.4891 - auc: 0.5145 - categorical_accuracy: 0.083 - ETA: 37:39 - loss: 3.4292 - auc: 0.5162 - categorical_accuracy: 0.080 - ETA: 37:37 - loss: 3.3685 - auc: 0.5176 - categorical_accuracy: 0.080 - ETA: 37:35 - loss: 3.3262 - auc: 0.5143 - categorical_accuracy: 0.076 - ETA: 37:33 - loss: 3.2788 - auc: 0.5130 - categorical_accuracy: 0.077 - ETA: 37:31 - loss: 3.2286 - auc: 0.5143 - categorical_accuracy: 0.081 - ETA: 37:29 - loss: 3.2000 - auc: 0.5119 - categorical_accuracy: 0.078 - ETA: 37:27 - loss: 3.1675 - auc: 0.5121 - categorical_accuracy: 0.082 - ETA: 37:25 - loss: 3.1340 - auc: 0.5122 - categorical_accuracy: 0.082 - ETA: 37:23 - loss: 3.1040 - auc: 0.5117 - categorical_accuracy: 0.087 - ETA: 37:21 - loss: 3.0706 - auc: 0.5133 - categorical_accuracy: 0.088 - ETA: 37:20 - loss: 3.0413 - auc: 0.5146 - categorical_accuracy: 0.087 - ETA: 37:18 - loss: 3.0096 - auc: 0.5184 - categorical_accuracy: 0.090 - ETA: 37:16 - loss: 2.9909 - auc: 0.5185 - categorical_accuracy: 0.090 - ETA: 37:14 - loss: 2.9723 - auc: 0.5190 - categorical_accuracy: 0.090 - ETA: 37:11 - loss: 2.9540 - auc: 0.5191 - categorical_accuracy: 0.088 - ETA: 37:09 - loss: 2.9332 - auc: 0.5198 - categorical_accuracy: 0.088 - ETA: 37:07 - loss: 2.9207 - auc: 0.5185 - categorical_accuracy: 0.090 - ETA: 37:05 - loss: 2.9037 - auc: 0.5198 - categorical_accuracy: 0.095 - ETA: 37:03 - loss: 2.8826 - auc: 0.5230 - categorical_accuracy: 0.100 - ETA: 37:01 - loss: 2.8638 - auc: 0.5257 - categorical_accuracy: 0.102 - ETA: 36:59 - loss: 2.8506 - auc: 0.5268 - categorical_accuracy: 0.101 - ETA: 36:57 - loss: 2.8415 - auc: 0.5264 - categorical_accuracy: 0.101 - ETA: 36:55 - loss: 2.8302 - auc: 0.5276 - categorical_accuracy: 0.104 - ETA: 36:53 - loss: 2.8239 - auc: 0.5275 - categorical_accuracy: 0.103 - ETA: 36:51 - loss: 2.8117 - auc: 0.5288 - categorical_accuracy: 0.106 - ETA: 36:49 - loss: 2.7972 - auc: 0.5309 - categorical_accuracy: 0.105 - ETA: 36:47 - loss: 2.7898 - auc: 0.5313 - categorical_accuracy: 0.105 - ETA: 36:45 - loss: 2.7856 - auc: 0.5312 - categorical_accuracy: 0.106 - ETA: 36:43 - loss: 2.7788 - auc: 0.5316 - categorical_accuracy: 0.108 - ETA: 36:41 - loss: 2.7675 - auc: 0.5321 - categorical_accuracy: 0.109 - ETA: 36:39 - loss: 2.7640 - auc: 0.5311 - categorical_accuracy: 0.107 - ETA: 36:37 - loss: 2.7578 - auc: 0.5305 - categorical_accuracy: 0.106 - ETA: 36:35 - loss: 2.7501 - auc: 0.5309 - categorical_accuracy: 0.107 - ETA: 36:33 - loss: 2.7437 - auc: 0.5314 - categorical_accuracy: 0.109 - ETA: 36:32 - loss: 2.7367 - auc: 0.5324 - categorical_accuracy: 0.108 - ETA: 36:30 - loss: 2.7349 - auc: 0.5311 - categorical_accuracy: 0.106 - ETA: 36:28 - loss: 2.7254 - auc: 0.5326 - categorical_accuracy: 0.107 - ETA: 36:26 - loss: 2.7190 - auc: 0.5331 - categorical_accuracy: 0.107 - ETA: 36:24 - loss: 2.7121 - auc: 0.5344 - categorical_accuracy: 0.109 - ETA: 36:22 - loss: 2.7073 - auc: 0.5344 - categorical_accuracy: 0.109 - ETA: 36:20 - loss: 2.6980 - auc: 0.5362 - categorical_accuracy: 0.113 - ETA: 36:18 - loss: 2.6940 - auc: 0.5357 - categorical_accuracy: 0.114 - ETA: 36:17 - loss: 2.6857 - auc: 0.5370 - categorical_accuracy: 0.116 - ETA: 36:15 - loss: 2.6787 - auc: 0.5383 - categorical_accuracy: 0.117 - ETA: 36:14 - loss: 2.6750 - auc: 0.5385 - categorical_accuracy: 0.117 - ETA: 36:12 - loss: 2.6685 - auc: 0.5391 - categorical_accuracy: 0.118 - ETA: 36:11 - loss: 2.6648 - auc: 0.5394 - categorical_accuracy: 0.118 - ETA: 36:08 - loss: 2.6599 - auc: 0.5397 - categorical_accuracy: 0.118 - ETA: 36:06 - loss: 2.6569 - auc: 0.5393 - categorical_accuracy: 0.118 - ETA: 36:04 - loss: 2.6506 - auc: 0.5406 - categorical_accuracy: 0.120 - ETA: 36:02 - loss: 2.6434 - auc: 0.5428 - categorical_accuracy: 0.121 - ETA: 36:00 - loss: 2.6380 - auc: 0.5439 - categorical_accuracy: 0.123 - ETA: 35:57 - loss: 2.6351 - auc: 0.5441 - categorical_accuracy: 0.122 - ETA: 35:56 - loss: 2.6306 - auc: 0.5448 - categorical_accuracy: 0.123 - ETA: 35:54 - loss: 2.6239 - auc: 0.5464 - categorical_accuracy: 0.124 - ETA: 35:53 - loss: 2.6236 - auc: 0.5467 - categorical_accuracy: 0.125 - ETA: 35:51 - loss: 2.6178 - auc: 0.5486 - categorical_accuracy: 0.127 - ETA: 35:49 - loss: 2.6128 - auc: 0.5495 - categorical_accuracy: 0.128 - ETA: 35:48 - loss: 2.6063 - auc: 0.5509 - categorical_accuracy: 0.130 - ETA: 35:47 - loss: 2.6007 - auc: 0.5524 - categorical_accuracy: 0.132 - ETA: 35:45 - loss: 2.5984 - auc: 0.5526 - categorical_accuracy: 0.132 - ETA: 35:43 - loss: 2.6006 - auc: 0.5511 - categorical_accuracy: 0.132 - ETA: 35:41 - loss: 2.5959 - auc: 0.5520 - categorical_accuracy: 0.132 - ETA: 35:40 - loss: 2.5937 - auc: 0.5520 - categorical_accuracy: 0.132 - ETA: 35:38 - loss: 2.5902 - auc: 0.5525 - categorical_accuracy: 0.134 - ETA: 35:37 - loss: 2.5883 - auc: 0.5528 - categorical_accuracy: 0.134 - ETA: 35:35 - loss: 2.5864 - auc: 0.5530 - categorical_accuracy: 0.134 - ETA: 35:34 - loss: 2.5838 - auc: 0.5530 - categorical_accuracy: 0.134 - ETA: 35:32 - loss: 2.5822 - auc: 0.5528 - categorical_accuracy: 0.134 - ETA: 35:30 - loss: 2.5785 - auc: 0.5537 - categorical_accuracy: 0.134 - ETA: 35:29 - loss: 2.5744 - auc: 0.5545 - categorical_accuracy: 0.134 - ETA: 35:27 - loss: 2.5696 - auc: 0.5557 - categorical_accuracy: 0.136 - ETA: 35:25 - loss: 2.5657 - auc: 0.5564 - categorical_accuracy: 0.138 - ETA: 35:23 - loss: 2.5641 - auc: 0.5563 - categorical_accuracy: 0.139 - ETA: 35:22 - loss: 2.5627 - auc: 0.5564 - categorical_accuracy: 0.139 - ETA: 35:20 - loss: 2.5599 - auc: 0.5566 - categorical_accuracy: 0.141 - ETA: 35:18 - loss: 2.5619 - auc: 0.5562 - categorical_accuracy: 0.142 - ETA: 35:17 - loss: 2.5591 - auc: 0.5567 - categorical_accuracy: 0.143 - ETA: 35:15 - loss: 2.5546 - auc: 0.5577 - categorical_accuracy: 0.144 - ETA: 35:13 - loss: 2.5494 - auc: 0.5594 - categorical_accuracy: 0.144 - ETA: 35:12 - loss: 2.5488 - auc: 0.5593 - categorical_accuracy: 0.144 - ETA: 35:10 - loss: 2.5486 - auc: 0.5588 - categorical_accuracy: 0.144 - ETA: 35:08 - loss: 2.5474 - auc: 0.5586 - categorical_accuracy: 0.143 - ETA: 35:06 - loss: 2.5457 - auc: 0.5586 - categorical_accuracy: 0.143 - ETA: 35:05 - loss: 2.5444 - auc: 0.5585 - categorical_accuracy: 0.143 - ETA: 35:03 - loss: 2.5440 - auc: 0.5581 - categorical_accuracy: 0.142 - ETA: 35:01 - loss: 2.5414 - auc: 0.5590 - categorical_accuracy: 0.143 - ETA: 34:59 - loss: 2.5394 - auc: 0.5592 - categorical_accuracy: 0.142 - ETA: 34:58 - loss: 2.5369 - auc: 0.5595 - categorical_accuracy: 0.142 - ETA: 34:56 - loss: 2.5347 - auc: 0.5596 - categorical_accuracy: 0.142 - ETA: 34:55 - loss: 2.5337 - auc: 0.5596 - categorical_accuracy: 0.140 - ETA: 34:55 - loss: 2.5313 - auc: 0.5600 - categorical_accuracy: 0.141 - ETA: 34:54 - loss: 2.5275 - auc: 0.5611 - categorical_accuracy: 0.142 - ETA: 34:52 - loss: 2.5287 - auc: 0.5604 - categorical_accuracy: 0.142 - ETA: 34:51 - loss: 2.5268 - auc: 0.5610 - categorical_accuracy: 0.142 - ETA: 34:49 - loss: 2.5247 - auc: 0.5610 - categorical_accuracy: 0.142 - ETA: 34:48 - loss: 2.5236 - auc: 0.5608 - categorical_accuracy: 0.142 - ETA: 34:46 - loss: 2.5240 - auc: 0.5602 - categorical_accuracy: 0.141 227/1135 [=====>........................] - ETA: 34:45 - loss: 2.5216 - auc: 0.5606 - categorical_accuracy: 0.142 - ETA: 34:44 - loss: 2.5183 - auc: 0.5613 - categorical_accuracy: 0.143 - ETA: 34:43 - loss: 2.5164 - auc: 0.5619 - categorical_accuracy: 0.143 - ETA: 34:41 - loss: 2.5170 - auc: 0.5612 - categorical_accuracy: 0.142 - ETA: 34:40 - loss: 2.5134 - auc: 0.5621 - categorical_accuracy: 0.143 - ETA: 34:38 - loss: 2.5117 - auc: 0.5621 - categorical_accuracy: 0.143 - ETA: 34:37 - loss: 2.5098 - auc: 0.5622 - categorical_accuracy: 0.144 - ETA: 34:35 - loss: 2.5092 - auc: 0.5618 - categorical_accuracy: 0.143 - ETA: 34:33 - loss: 2.5069 - auc: 0.5622 - categorical_accuracy: 0.144 - ETA: 34:32 - loss: 2.5046 - auc: 0.5628 - categorical_accuracy: 0.145 - ETA: 34:30 - loss: 2.5038 - auc: 0.5628 - categorical_accuracy: 0.145 - ETA: 34:29 - loss: 2.5029 - auc: 0.5627 - categorical_accuracy: 0.145 - ETA: 34:27 - loss: 2.5003 - auc: 0.5633 - categorical_accuracy: 0.145 - ETA: 34:25 - loss: 2.4990 - auc: 0.5636 - categorical_accuracy: 0.145 - ETA: 34:24 - loss: 2.4980 - auc: 0.5636 - categorical_accuracy: 0.145 - ETA: 34:22 - loss: 2.4974 - auc: 0.5635 - categorical_accuracy: 0.145 - ETA: 34:21 - loss: 2.4962 - auc: 0.5635 - categorical_accuracy: 0.145 - ETA: 34:19 - loss: 2.4951 - auc: 0.5635 - categorical_accuracy: 0.146 - ETA: 34:18 - loss: 2.4942 - auc: 0.5637 - categorical_accuracy: 0.146 - ETA: 34:16 - loss: 2.4936 - auc: 0.5638 - categorical_accuracy: 0.147 - ETA: 34:14 - loss: 2.4938 - auc: 0.5637 - categorical_accuracy: 0.146 - ETA: 34:13 - loss: 2.4916 - auc: 0.5643 - categorical_accuracy: 0.147 - ETA: 34:11 - loss: 2.4909 - auc: 0.5642 - categorical_accuracy: 0.147 - ETA: 34:09 - loss: 2.4923 - auc: 0.5638 - categorical_accuracy: 0.146 - ETA: 34:08 - loss: 2.4924 - auc: 0.5636 - categorical_accuracy: 0.146 - ETA: 34:06 - loss: 2.4911 - auc: 0.5637 - categorical_accuracy: 0.146 - ETA: 34:05 - loss: 2.4888 - auc: 0.5642 - categorical_accuracy: 0.147 - ETA: 34:03 - loss: 2.4869 - auc: 0.5647 - categorical_accuracy: 0.148 - ETA: 34:01 - loss: 2.4869 - auc: 0.5644 - categorical_accuracy: 0.147 - ETA: 34:00 - loss: 2.4887 - auc: 0.5635 - categorical_accuracy: 0.147 - ETA: 33:58 - loss: 2.4875 - auc: 0.5636 - categorical_accuracy: 0.148 - ETA: 33:56 - loss: 2.4871 - auc: 0.5634 - categorical_accuracy: 0.148 - ETA: 33:55 - loss: 2.4862 - auc: 0.5634 - categorical_accuracy: 0.148 - ETA: 33:53 - loss: 2.4848 - auc: 0.5636 - categorical_accuracy: 0.148 - ETA: 33:51 - loss: 2.4818 - auc: 0.5644 - categorical_accuracy: 0.149 - ETA: 33:49 - loss: 2.4817 - auc: 0.5641 - categorical_accuracy: 0.148 - ETA: 33:48 - loss: 2.4798 - auc: 0.5647 - categorical_accuracy: 0.149 - ETA: 33:46 - loss: 2.4774 - auc: 0.5654 - categorical_accuracy: 0.149 - ETA: 33:44 - loss: 2.4751 - auc: 0.5660 - categorical_accuracy: 0.150 - ETA: 33:43 - loss: 2.4735 - auc: 0.5665 - categorical_accuracy: 0.151 - ETA: 33:41 - loss: 2.4712 - auc: 0.5670 - categorical_accuracy: 0.151 - ETA: 33:39 - loss: 2.4695 - auc: 0.5674 - categorical_accuracy: 0.151 - ETA: 33:37 - loss: 2.4690 - auc: 0.5675 - categorical_accuracy: 0.151 - ETA: 33:36 - loss: 2.4677 - auc: 0.5678 - categorical_accuracy: 0.151 - ETA: 33:34 - loss: 2.4659 - auc: 0.5683 - categorical_accuracy: 0.152 - ETA: 33:32 - loss: 2.4660 - auc: 0.5679 - categorical_accuracy: 0.151 - ETA: 33:30 - loss: 2.4651 - auc: 0.5679 - categorical_accuracy: 0.151 - ETA: 33:28 - loss: 2.4637 - auc: 0.5681 - categorical_accuracy: 0.152 - ETA: 33:26 - loss: 2.4641 - auc: 0.5676 - categorical_accuracy: 0.152 - ETA: 33:25 - loss: 2.4624 - auc: 0.5680 - categorical_accuracy: 0.152 - ETA: 33:23 - loss: 2.4618 - auc: 0.5680 - categorical_accuracy: 0.151 - ETA: 33:21 - loss: 2.4606 - auc: 0.5681 - categorical_accuracy: 0.151 - ETA: 33:19 - loss: 2.4591 - auc: 0.5684 - categorical_accuracy: 0.152 - ETA: 33:17 - loss: 2.4570 - auc: 0.5691 - categorical_accuracy: 0.152 - ETA: 33:15 - loss: 2.4560 - auc: 0.5693 - categorical_accuracy: 0.152 - ETA: 33:13 - loss: 2.4559 - auc: 0.5692 - categorical_accuracy: 0.153 - ETA: 33:12 - loss: 2.4543 - auc: 0.5697 - categorical_accuracy: 0.152 - ETA: 33:10 - loss: 2.4524 - auc: 0.5703 - categorical_accuracy: 0.152 - ETA: 33:08 - loss: 2.4521 - auc: 0.5701 - categorical_accuracy: 0.152 - ETA: 33:06 - loss: 2.4523 - auc: 0.5700 - categorical_accuracy: 0.152 - ETA: 33:04 - loss: 2.4519 - auc: 0.5698 - categorical_accuracy: 0.152 - ETA: 33:02 - loss: 2.4486 - auc: 0.5709 - categorical_accuracy: 0.153 - ETA: 33:00 - loss: 2.4490 - auc: 0.5704 - categorical_accuracy: 0.153 - ETA: 32:58 - loss: 2.4475 - auc: 0.5708 - categorical_accuracy: 0.154 - ETA: 32:57 - loss: 2.4451 - auc: 0.5715 - categorical_accuracy: 0.154 - ETA: 32:55 - loss: 2.4440 - auc: 0.5716 - categorical_accuracy: 0.154 - ETA: 32:53 - loss: 2.4434 - auc: 0.5716 - categorical_accuracy: 0.154 - ETA: 32:51 - loss: 2.4426 - auc: 0.5716 - categorical_accuracy: 0.155 - ETA: 32:50 - loss: 2.4409 - auc: 0.5721 - categorical_accuracy: 0.155 - ETA: 32:48 - loss: 2.4400 - auc: 0.5722 - categorical_accuracy: 0.155 - ETA: 32:46 - loss: 2.4395 - auc: 0.5721 - categorical_accuracy: 0.155 - ETA: 32:45 - loss: 2.4374 - auc: 0.5727 - categorical_accuracy: 0.156 - ETA: 32:43 - loss: 2.4369 - auc: 0.5724 - categorical_accuracy: 0.155 - ETA: 32:41 - loss: 2.4356 - auc: 0.5728 - categorical_accuracy: 0.155 - ETA: 32:40 - loss: 2.4342 - auc: 0.5733 - categorical_accuracy: 0.155 - ETA: 32:38 - loss: 2.4342 - auc: 0.5733 - categorical_accuracy: 0.156 - ETA: 32:37 - loss: 2.4361 - auc: 0.5725 - categorical_accuracy: 0.155 - ETA: 32:35 - loss: 2.4352 - auc: 0.5727 - categorical_accuracy: 0.155 - ETA: 32:33 - loss: 2.4343 - auc: 0.5728 - categorical_accuracy: 0.155 - ETA: 32:31 - loss: 2.4343 - auc: 0.5726 - categorical_accuracy: 0.155 - ETA: 32:30 - loss: 2.4333 - auc: 0.5727 - categorical_accuracy: 0.155 - ETA: 32:28 - loss: 2.4327 - auc: 0.5727 - categorical_accuracy: 0.154 - ETA: 32:26 - loss: 2.4321 - auc: 0.5727 - categorical_accuracy: 0.154 - ETA: 32:25 - loss: 2.4307 - auc: 0.5731 - categorical_accuracy: 0.155 - ETA: 32:23 - loss: 2.4292 - auc: 0.5736 - categorical_accuracy: 0.155 - ETA: 32:21 - loss: 2.4278 - auc: 0.5740 - categorical_accuracy: 0.155 - ETA: 32:20 - loss: 2.4255 - auc: 0.5749 - categorical_accuracy: 0.155 - ETA: 32:18 - loss: 2.4234 - auc: 0.5756 - categorical_accuracy: 0.156 - ETA: 32:16 - loss: 2.4223 - auc: 0.5761 - categorical_accuracy: 0.156 - ETA: 32:14 - loss: 2.4227 - auc: 0.5759 - categorical_accuracy: 0.156 - ETA: 32:13 - loss: 2.4211 - auc: 0.5764 - categorical_accuracy: 0.157 - ETA: 32:11 - loss: 2.4195 - auc: 0.5770 - categorical_accuracy: 0.157 - ETA: 32:09 - loss: 2.4191 - auc: 0.5771 - categorical_accuracy: 0.157 - ETA: 32:07 - loss: 2.4184 - auc: 0.5776 - categorical_accuracy: 0.157 - ETA: 32:05 - loss: 2.4182 - auc: 0.5777 - categorical_accuracy: 0.157 - ETA: 32:03 - loss: 2.4174 - auc: 0.5781 - categorical_accuracy: 0.157 - ETA: 32:02 - loss: 2.4179 - auc: 0.5780 - categorical_accuracy: 0.157 - ETA: 32:00 - loss: 2.4173 - auc: 0.5780 - categorical_accuracy: 0.157 - ETA: 31:58 - loss: 2.4174 - auc: 0.5778 - categorical_accuracy: 0.156 - ETA: 31:56 - loss: 2.4170 - auc: 0.5778 - categorical_accuracy: 0.157 - ETA: 31:54 - loss: 2.4179 - auc: 0.5775 - categorical_accuracy: 0.157 - ETA: 31:53 - loss: 2.4171 - auc: 0.5779 - categorical_accuracy: 0.157 - ETA: 31:51 - loss: 2.4159 - auc: 0.5784 - categorical_accuracy: 0.157 - ETA: 31:49 - loss: 2.4159 - auc: 0.5782 - categorical_accuracy: 0.157 - ETA: 31:47 - loss: 2.4146 - auc: 0.5787 - categorical_accuracy: 0.157 - ETA: 31:45 - loss: 2.4134 - auc: 0.5791 - categorical_accuracy: 0.157 - ETA: 31:43 - loss: 2.4131 - auc: 0.5792 - categorical_accuracy: 0.158 - ETA: 31:42 - loss: 2.4131 - auc: 0.5792 - categorical_accuracy: 0.157 - ETA: 31:40 - loss: 2.4123 - auc: 0.5793 - categorical_accuracy: 0.157 - ETA: 31:38 - loss: 2.4119 - auc: 0.5793 - categorical_accuracy: 0.157 - ETA: 31:36 - loss: 2.4106 - auc: 0.5797 - categorical_accuracy: 0.157 - ETA: 31:34 - loss: 2.4099 - auc: 0.5798 - categorical_accuracy: 0.157 - ETA: 31:32 - loss: 2.4096 - auc: 0.5798 - categorical_accuracy: 0.157 - ETA: 31:30 - loss: 2.4087 - auc: 0.5799 - categorical_accuracy: 0.1582 341/1135 [========>.....................] - ETA: 31:29 - loss: 2.4074 - auc: 0.5802 - categorical_accuracy: 0.158 - ETA: 31:27 - loss: 2.4068 - auc: 0.5802 - categorical_accuracy: 0.158 - ETA: 31:25 - loss: 2.4057 - auc: 0.5806 - categorical_accuracy: 0.159 - ETA: 31:23 - loss: 2.4046 - auc: 0.5809 - categorical_accuracy: 0.160 - ETA: 31:22 - loss: 2.4041 - auc: 0.5809 - categorical_accuracy: 0.160 - ETA: 31:20 - loss: 2.4026 - auc: 0.5813 - categorical_accuracy: 0.161 - ETA: 31:18 - loss: 2.4017 - auc: 0.5815 - categorical_accuracy: 0.161 - ETA: 31:16 - loss: 2.4011 - auc: 0.5816 - categorical_accuracy: 0.161 - ETA: 31:14 - loss: 2.3997 - auc: 0.5822 - categorical_accuracy: 0.161 - ETA: 31:12 - loss: 2.3994 - auc: 0.5822 - categorical_accuracy: 0.161 - ETA: 31:11 - loss: 2.3995 - auc: 0.5820 - categorical_accuracy: 0.161 - ETA: 31:09 - loss: 2.3988 - auc: 0.5820 - categorical_accuracy: 0.161 - ETA: 31:07 - loss: 2.3977 - auc: 0.5823 - categorical_accuracy: 0.161 - ETA: 31:05 - loss: 2.3972 - auc: 0.5823 - categorical_accuracy: 0.161 - ETA: 31:03 - loss: 2.3963 - auc: 0.5825 - categorical_accuracy: 0.162 - ETA: 31:01 - loss: 2.3959 - auc: 0.5825 - categorical_accuracy: 0.162 - ETA: 30:59 - loss: 2.3948 - auc: 0.5828 - categorical_accuracy: 0.162 - ETA: 30:57 - loss: 2.3938 - auc: 0.5832 - categorical_accuracy: 0.162 - ETA: 30:55 - loss: 2.3940 - auc: 0.5832 - categorical_accuracy: 0.162 - ETA: 30:53 - loss: 2.3930 - auc: 0.5835 - categorical_accuracy: 0.162 - ETA: 30:52 - loss: 2.3930 - auc: 0.5834 - categorical_accuracy: 0.162 - ETA: 30:50 - loss: 2.3928 - auc: 0.5834 - categorical_accuracy: 0.162 - ETA: 30:48 - loss: 2.3925 - auc: 0.5834 - categorical_accuracy: 0.162 - ETA: 30:46 - loss: 2.3912 - auc: 0.5838 - categorical_accuracy: 0.163 - ETA: 30:44 - loss: 2.3904 - auc: 0.5839 - categorical_accuracy: 0.163 - ETA: 30:42 - loss: 2.3892 - auc: 0.5843 - categorical_accuracy: 0.163 - ETA: 30:40 - loss: 2.3887 - auc: 0.5843 - categorical_accuracy: 0.163 - ETA: 30:38 - loss: 2.3882 - auc: 0.5844 - categorical_accuracy: 0.163 - ETA: 30:36 - loss: 2.3875 - auc: 0.5846 - categorical_accuracy: 0.163 - ETA: 30:34 - loss: 2.3869 - auc: 0.5848 - categorical_accuracy: 0.163 - ETA: 30:32 - loss: 2.3856 - auc: 0.5851 - categorical_accuracy: 0.163 - ETA: 30:31 - loss: 2.3843 - auc: 0.5855 - categorical_accuracy: 0.164 - ETA: 30:29 - loss: 2.3838 - auc: 0.5856 - categorical_accuracy: 0.164 - ETA: 30:27 - loss: 2.3830 - auc: 0.5858 - categorical_accuracy: 0.164 - ETA: 30:25 - loss: 2.3823 - auc: 0.5860 - categorical_accuracy: 0.164 - ETA: 30:23 - loss: 2.3811 - auc: 0.5864 - categorical_accuracy: 0.164 - ETA: 30:21 - loss: 2.3811 - auc: 0.5863 - categorical_accuracy: 0.164 - ETA: 30:19 - loss: 2.3819 - auc: 0.5860 - categorical_accuracy: 0.164 - ETA: 30:18 - loss: 2.3827 - auc: 0.5856 - categorical_accuracy: 0.164 - ETA: 30:16 - loss: 2.3830 - auc: 0.5855 - categorical_accuracy: 0.163 - ETA: 30:14 - loss: 2.3824 - auc: 0.5856 - categorical_accuracy: 0.164 - ETA: 30:12 - loss: 2.3813 - auc: 0.5859 - categorical_accuracy: 0.164 - ETA: 30:10 - loss: 2.3817 - auc: 0.5858 - categorical_accuracy: 0.164 - ETA: 30:08 - loss: 2.3826 - auc: 0.5858 - categorical_accuracy: 0.164 - ETA: 30:06 - loss: 2.3825 - auc: 0.5859 - categorical_accuracy: 0.164 - ETA: 30:04 - loss: 2.3821 - auc: 0.5860 - categorical_accuracy: 0.164 - ETA: 30:02 - loss: 2.3832 - auc: 0.5856 - categorical_accuracy: 0.164 - ETA: 30:01 - loss: 2.3828 - auc: 0.5857 - categorical_accuracy: 0.165 - ETA: 29:59 - loss: 2.3824 - auc: 0.5859 - categorical_accuracy: 0.164 - ETA: 29:57 - loss: 2.3816 - auc: 0.5861 - categorical_accuracy: 0.164 - ETA: 29:55 - loss: 2.3811 - auc: 0.5864 - categorical_accuracy: 0.165 - ETA: 29:53 - loss: 2.3810 - auc: 0.5864 - categorical_accuracy: 0.165 - ETA: 29:51 - loss: 2.3811 - auc: 0.5863 - categorical_accuracy: 0.165 - ETA: 29:49 - loss: 2.3806 - auc: 0.5864 - categorical_accuracy: 0.164 - ETA: 29:47 - loss: 2.3800 - auc: 0.5865 - categorical_accuracy: 0.164 - ETA: 29:46 - loss: 2.3795 - auc: 0.5866 - categorical_accuracy: 0.164 - ETA: 29:44 - loss: 2.3795 - auc: 0.5866 - categorical_accuracy: 0.164 - ETA: 29:42 - loss: 2.3791 - auc: 0.5867 - categorical_accuracy: 0.164 - ETA: 29:40 - loss: 2.3777 - auc: 0.5872 - categorical_accuracy: 0.165 - ETA: 29:38 - loss: 2.3772 - auc: 0.5874 - categorical_accuracy: 0.165 - ETA: 29:36 - loss: 2.3769 - auc: 0.5875 - categorical_accuracy: 0.166 - ETA: 29:34 - loss: 2.3775 - auc: 0.5874 - categorical_accuracy: 0.165 - ETA: 29:32 - loss: 2.3767 - auc: 0.5876 - categorical_accuracy: 0.166 - ETA: 29:30 - loss: 2.3769 - auc: 0.5874 - categorical_accuracy: 0.166 - ETA: 29:28 - loss: 2.3760 - auc: 0.5877 - categorical_accuracy: 0.166 - ETA: 29:26 - loss: 2.3754 - auc: 0.5879 - categorical_accuracy: 0.166 - ETA: 29:24 - loss: 2.3748 - auc: 0.5881 - categorical_accuracy: 0.166 - ETA: 29:22 - loss: 2.3745 - auc: 0.5881 - categorical_accuracy: 0.166 - ETA: 29:20 - loss: 2.3747 - auc: 0.5881 - categorical_accuracy: 0.166 - ETA: 29:18 - loss: 2.3754 - auc: 0.5877 - categorical_accuracy: 0.166 - ETA: 29:16 - loss: 2.3749 - auc: 0.5878 - categorical_accuracy: 0.166 - ETA: 29:14 - loss: 2.3741 - auc: 0.5881 - categorical_accuracy: 0.166 - ETA: 29:12 - loss: 2.3738 - auc: 0.5880 - categorical_accuracy: 0.166 - ETA: 29:11 - loss: 2.3743 - auc: 0.5876 - categorical_accuracy: 0.166 - ETA: 29:09 - loss: 2.3744 - auc: 0.5875 - categorical_accuracy: 0.166 - ETA: 29:07 - loss: 2.3734 - auc: 0.5878 - categorical_accuracy: 0.166 - ETA: 29:05 - loss: 2.3733 - auc: 0.5878 - categorical_accuracy: 0.166 - ETA: 29:03 - loss: 2.3723 - auc: 0.5880 - categorical_accuracy: 0.166 - ETA: 29:01 - loss: 2.3717 - auc: 0.5882 - categorical_accuracy: 0.167 - ETA: 28:59 - loss: 2.3710 - auc: 0.5885 - categorical_accuracy: 0.167 - ETA: 28:57 - loss: 2.3700 - auc: 0.5889 - categorical_accuracy: 0.167 - ETA: 28:55 - loss: 2.3700 - auc: 0.5888 - categorical_accuracy: 0.167 - ETA: 28:53 - loss: 2.3690 - auc: 0.5892 - categorical_accuracy: 0.167 - ETA: 28:51 - loss: 2.3684 - auc: 0.5893 - categorical_accuracy: 0.167 - ETA: 28:49 - loss: 2.3678 - auc: 0.5893 - categorical_accuracy: 0.167 - ETA: 28:47 - loss: 2.3676 - auc: 0.5894 - categorical_accuracy: 0.167 - ETA: 28:45 - loss: 2.3666 - auc: 0.5897 - categorical_accuracy: 0.168 - ETA: 28:43 - loss: 2.3659 - auc: 0.5899 - categorical_accuracy: 0.168 - ETA: 28:41 - loss: 2.3660 - auc: 0.5898 - categorical_accuracy: 0.167 - ETA: 28:39 - loss: 2.3655 - auc: 0.5899 - categorical_accuracy: 0.168 - ETA: 28:37 - loss: 2.3647 - auc: 0.5901 - categorical_accuracy: 0.168 - ETA: 28:35 - loss: 2.3636 - auc: 0.5906 - categorical_accuracy: 0.169 - ETA: 28:33 - loss: 2.3630 - auc: 0.5908 - categorical_accuracy: 0.168 - ETA: 28:31 - loss: 2.3619 - auc: 0.5912 - categorical_accuracy: 0.168 - ETA: 28:29 - loss: 2.3604 - auc: 0.5918 - categorical_accuracy: 0.169 - ETA: 28:27 - loss: 2.3601 - auc: 0.5918 - categorical_accuracy: 0.169 - ETA: 28:25 - loss: 2.3594 - auc: 0.5921 - categorical_accuracy: 0.169 - ETA: 28:23 - loss: 2.3586 - auc: 0.5925 - categorical_accuracy: 0.170 - ETA: 28:21 - loss: 2.3585 - auc: 0.5926 - categorical_accuracy: 0.169 - ETA: 28:19 - loss: 2.3579 - auc: 0.5928 - categorical_accuracy: 0.170 - ETA: 28:17 - loss: 2.3570 - auc: 0.5931 - categorical_accuracy: 0.170 - ETA: 28:15 - loss: 2.3561 - auc: 0.5934 - categorical_accuracy: 0.171 - ETA: 28:14 - loss: 2.3560 - auc: 0.5933 - categorical_accuracy: 0.171 - ETA: 28:12 - loss: 2.3552 - auc: 0.5934 - categorical_accuracy: 0.171 - ETA: 28:10 - loss: 2.3547 - auc: 0.5936 - categorical_accuracy: 0.171 - ETA: 28:08 - loss: 2.3542 - auc: 0.5937 - categorical_accuracy: 0.172 - ETA: 28:06 - loss: 2.3539 - auc: 0.5936 - categorical_accuracy: 0.172 - ETA: 28:04 - loss: 2.3526 - auc: 0.5941 - categorical_accuracy: 0.172 - ETA: 28:02 - loss: 2.3514 - auc: 0.5946 - categorical_accuracy: 0.173 - ETA: 28:00 - loss: 2.3508 - auc: 0.5948 - categorical_accuracy: 0.173 - ETA: 27:58 - loss: 2.3504 - auc: 0.5948 - categorical_accuracy: 0.173 - ETA: 27:56 - loss: 2.3494 - auc: 0.5951 - categorical_accuracy: 0.173 - ETA: 27:54 - loss: 2.3490 - auc: 0.5952 - categorical_accuracy: 0.173 - ETA: 27:52 - loss: 2.3479 - auc: 0.5956 - categorical_accuracy: 0.1737 455/1135 [===========>..................] - ETA: 27:50 - loss: 2.3469 - auc: 0.5961 - categorical_accuracy: 0.173 - ETA: 27:48 - loss: 2.3460 - auc: 0.5964 - categorical_accuracy: 0.173 - ETA: 27:46 - loss: 2.3456 - auc: 0.5965 - categorical_accuracy: 0.174 - ETA: 27:44 - loss: 2.3450 - auc: 0.5967 - categorical_accuracy: 0.174 - ETA: 27:42 - loss: 2.3445 - auc: 0.5969 - categorical_accuracy: 0.173 - ETA: 27:40 - loss: 2.3439 - auc: 0.5971 - categorical_accuracy: 0.173 - ETA: 27:38 - loss: 2.3432 - auc: 0.5974 - categorical_accuracy: 0.173 - ETA: 27:36 - loss: 2.3430 - auc: 0.5974 - categorical_accuracy: 0.173 - ETA: 27:34 - loss: 2.3424 - auc: 0.5976 - categorical_accuracy: 0.173 - ETA: 27:32 - loss: 2.3415 - auc: 0.5979 - categorical_accuracy: 0.174 - ETA: 27:30 - loss: 2.3409 - auc: 0.5981 - categorical_accuracy: 0.174 - ETA: 27:28 - loss: 2.3407 - auc: 0.5983 - categorical_accuracy: 0.173 - ETA: 27:25 - loss: 2.3398 - auc: 0.5986 - categorical_accuracy: 0.173 - ETA: 27:23 - loss: 2.3390 - auc: 0.5989 - categorical_accuracy: 0.173 - ETA: 27:21 - loss: 2.3384 - auc: 0.5991 - categorical_accuracy: 0.174 - ETA: 27:19 - loss: 2.3374 - auc: 0.5994 - categorical_accuracy: 0.174 - ETA: 27:17 - loss: 2.3372 - auc: 0.5996 - categorical_accuracy: 0.174 - ETA: 27:15 - loss: 2.3368 - auc: 0.5997 - categorical_accuracy: 0.174 - ETA: 27:13 - loss: 2.3362 - auc: 0.6000 - categorical_accuracy: 0.174 - ETA: 27:11 - loss: 2.3354 - auc: 0.6003 - categorical_accuracy: 0.175 - ETA: 27:09 - loss: 2.3348 - auc: 0.6005 - categorical_accuracy: 0.175 - ETA: 27:07 - loss: 2.3347 - auc: 0.6004 - categorical_accuracy: 0.175 - ETA: 27:05 - loss: 2.3344 - auc: 0.6005 - categorical_accuracy: 0.175 - ETA: 27:03 - loss: 2.3339 - auc: 0.6006 - categorical_accuracy: 0.176 - ETA: 27:01 - loss: 2.3336 - auc: 0.6007 - categorical_accuracy: 0.176 - ETA: 26:59 - loss: 2.3329 - auc: 0.6009 - categorical_accuracy: 0.176 - ETA: 26:57 - loss: 2.3324 - auc: 0.6011 - categorical_accuracy: 0.176 - ETA: 26:55 - loss: 2.3321 - auc: 0.6011 - categorical_accuracy: 0.176 - ETA: 26:53 - loss: 2.3318 - auc: 0.6012 - categorical_accuracy: 0.176 - ETA: 26:51 - loss: 2.3319 - auc: 0.6010 - categorical_accuracy: 0.176 - ETA: 26:49 - loss: 2.3314 - auc: 0.6011 - categorical_accuracy: 0.176 - ETA: 26:47 - loss: 2.3309 - auc: 0.6012 - categorical_accuracy: 0.176 - ETA: 26:45 - loss: 2.3310 - auc: 0.6012 - categorical_accuracy: 0.176 - ETA: 26:43 - loss: 2.3310 - auc: 0.6012 - categorical_accuracy: 0.176 - ETA: 26:41 - loss: 2.3309 - auc: 0.6012 - categorical_accuracy: 0.176 - ETA: 26:39 - loss: 2.3301 - auc: 0.6014 - categorical_accuracy: 0.176 - ETA: 26:37 - loss: 2.3300 - auc: 0.6013 - categorical_accuracy: 0.176 - ETA: 26:35 - loss: 2.3294 - auc: 0.6015 - categorical_accuracy: 0.176 - ETA: 26:33 - loss: 2.3288 - auc: 0.6017 - categorical_accuracy: 0.176 - ETA: 26:31 - loss: 2.3283 - auc: 0.6019 - categorical_accuracy: 0.177 - ETA: 26:29 - loss: 2.3280 - auc: 0.6020 - categorical_accuracy: 0.177 - ETA: 26:27 - loss: 2.3275 - auc: 0.6022 - categorical_accuracy: 0.177 - ETA: 26:25 - loss: 2.3270 - auc: 0.6023 - categorical_accuracy: 0.177 - ETA: 26:23 - loss: 2.3267 - auc: 0.6024 - categorical_accuracy: 0.177 - ETA: 26:21 - loss: 2.3265 - auc: 0.6024 - categorical_accuracy: 0.177 - ETA: 26:19 - loss: 2.3255 - auc: 0.6027 - categorical_accuracy: 0.177 - ETA: 26:17 - loss: 2.3252 - auc: 0.6028 - categorical_accuracy: 0.177 - ETA: 26:15 - loss: 2.3253 - auc: 0.6027 - categorical_accuracy: 0.177 - ETA: 26:13 - loss: 2.3246 - auc: 0.6030 - categorical_accuracy: 0.177 - ETA: 26:11 - loss: 2.3237 - auc: 0.6033 - categorical_accuracy: 0.178 - ETA: 26:09 - loss: 2.3237 - auc: 0.6032 - categorical_accuracy: 0.177 - ETA: 26:07 - loss: 2.3231 - auc: 0.6034 - categorical_accuracy: 0.178 - ETA: 26:05 - loss: 2.3218 - auc: 0.6039 - categorical_accuracy: 0.178 - ETA: 26:03 - loss: 2.3213 - auc: 0.6043 - categorical_accuracy: 0.178 - ETA: 26:01 - loss: 2.3209 - auc: 0.6044 - categorical_accuracy: 0.178 - ETA: 25:59 - loss: 2.3207 - auc: 0.6045 - categorical_accuracy: 0.178 - ETA: 25:57 - loss: 2.3211 - auc: 0.6044 - categorical_accuracy: 0.178 - ETA: 25:55 - loss: 2.3204 - auc: 0.6047 - categorical_accuracy: 0.178 - ETA: 25:53 - loss: 2.3193 - auc: 0.6051 - categorical_accuracy: 0.179 - ETA: 25:51 - loss: 2.3189 - auc: 0.6054 - categorical_accuracy: 0.180 - ETA: 25:49 - loss: 2.3186 - auc: 0.6055 - categorical_accuracy: 0.180 - ETA: 25:47 - loss: 2.3179 - auc: 0.6058 - categorical_accuracy: 0.180 - ETA: 25:45 - loss: 2.3174 - auc: 0.6060 - categorical_accuracy: 0.180 - ETA: 25:43 - loss: 2.3169 - auc: 0.6061 - categorical_accuracy: 0.180 - ETA: 25:41 - loss: 2.3165 - auc: 0.6062 - categorical_accuracy: 0.180 - ETA: 25:39 - loss: 2.3161 - auc: 0.6063 - categorical_accuracy: 0.180 - ETA: 25:36 - loss: 2.3155 - auc: 0.6065 - categorical_accuracy: 0.181 - ETA: 25:34 - loss: 2.3146 - auc: 0.6068 - categorical_accuracy: 0.181 - ETA: 25:32 - loss: 2.3145 - auc: 0.6069 - categorical_accuracy: 0.181 - ETA: 25:30 - loss: 2.3149 - auc: 0.6067 - categorical_accuracy: 0.181 - ETA: 25:28 - loss: 2.3147 - auc: 0.6067 - categorical_accuracy: 0.181 - ETA: 25:26 - loss: 2.3139 - auc: 0.6070 - categorical_accuracy: 0.181 - ETA: 25:24 - loss: 2.3141 - auc: 0.6068 - categorical_accuracy: 0.181 - ETA: 25:22 - loss: 2.3135 - auc: 0.6070 - categorical_accuracy: 0.181 - ETA: 25:21 - loss: 2.3130 - auc: 0.6072 - categorical_accuracy: 0.182 - ETA: 25:19 - loss: 2.3129 - auc: 0.6071 - categorical_accuracy: 0.182 - ETA: 25:17 - loss: 2.3125 - auc: 0.6072 - categorical_accuracy: 0.182 - ETA: 25:15 - loss: 2.3125 - auc: 0.6072 - categorical_accuracy: 0.182 - ETA: 25:12 - loss: 2.3119 - auc: 0.6075 - categorical_accuracy: 0.181 - ETA: 25:10 - loss: 2.3111 - auc: 0.6077 - categorical_accuracy: 0.182 - ETA: 25:08 - loss: 2.3102 - auc: 0.6081 - categorical_accuracy: 0.182 - ETA: 25:06 - loss: 2.3102 - auc: 0.6080 - categorical_accuracy: 0.182 - ETA: 25:04 - loss: 2.3094 - auc: 0.6084 - categorical_accuracy: 0.182 - ETA: 25:02 - loss: 2.3083 - auc: 0.6088 - categorical_accuracy: 0.183 - ETA: 25:00 - loss: 2.3078 - auc: 0.6090 - categorical_accuracy: 0.183 - ETA: 24:58 - loss: 2.3078 - auc: 0.6090 - categorical_accuracy: 0.183 - ETA: 24:56 - loss: 2.3069 - auc: 0.6093 - categorical_accuracy: 0.183 - ETA: 24:54 - loss: 2.3066 - auc: 0.6094 - categorical_accuracy: 0.183 - ETA: 24:52 - loss: 2.3059 - auc: 0.6097 - categorical_accuracy: 0.183 - ETA: 24:50 - loss: 2.3062 - auc: 0.6096 - categorical_accuracy: 0.183 - ETA: 24:48 - loss: 2.3058 - auc: 0.6097 - categorical_accuracy: 0.184 - ETA: 24:46 - loss: 2.3050 - auc: 0.6100 - categorical_accuracy: 0.184 - ETA: 24:44 - loss: 2.3045 - auc: 0.6102 - categorical_accuracy: 0.184 - ETA: 24:42 - loss: 2.3042 - auc: 0.6104 - categorical_accuracy: 0.184 - ETA: 24:40 - loss: 2.3042 - auc: 0.6103 - categorical_accuracy: 0.184 - ETA: 24:38 - loss: 2.3041 - auc: 0.6103 - categorical_accuracy: 0.184 - ETA: 24:36 - loss: 2.3039 - auc: 0.6103 - categorical_accuracy: 0.184 - ETA: 24:34 - loss: 2.3038 - auc: 0.6104 - categorical_accuracy: 0.184 - ETA: 24:32 - loss: 2.3038 - auc: 0.6104 - categorical_accuracy: 0.184 - ETA: 24:30 - loss: 2.3036 - auc: 0.6105 - categorical_accuracy: 0.184 - ETA: 24:28 - loss: 2.3034 - auc: 0.6107 - categorical_accuracy: 0.185 - ETA: 24:26 - loss: 2.3035 - auc: 0.6106 - categorical_accuracy: 0.184 - ETA: 24:24 - loss: 2.3039 - auc: 0.6105 - categorical_accuracy: 0.184 - ETA: 24:22 - loss: 2.3044 - auc: 0.6104 - categorical_accuracy: 0.184 - ETA: 24:20 - loss: 2.3043 - auc: 0.6104 - categorical_accuracy: 0.184 - ETA: 24:18 - loss: 2.3039 - auc: 0.6106 - categorical_accuracy: 0.184 - ETA: 24:16 - loss: 2.3041 - auc: 0.6106 - categorical_accuracy: 0.184 - ETA: 24:14 - loss: 2.3039 - auc: 0.6107 - categorical_accuracy: 0.184 - ETA: 24:12 - loss: 2.3039 - auc: 0.6106 - categorical_accuracy: 0.184 - ETA: 24:10 - loss: 2.3036 - auc: 0.6108 - categorical_accuracy: 0.184 - ETA: 24:08 - loss: 2.3030 - auc: 0.6110 - categorical_accuracy: 0.184 - ETA: 24:06 - loss: 2.3028 - auc: 0.6110 - categorical_accuracy: 0.184 - ETA: 24:03 - loss: 2.3028 - auc: 0.6110 - categorical_accuracy: 0.184 - ETA: 24:01 - loss: 2.3024 - auc: 0.6111 - categorical_accuracy: 0.1850"
     ]
    },
    {
     "name": "stdout",
     "output_type": "stream",
     "text": [
      " 569/1135 [==============>...............] - ETA: 23:59 - loss: 2.3022 - auc: 0.6112 - categorical_accuracy: 0.184 - ETA: 23:57 - loss: 2.3019 - auc: 0.6114 - categorical_accuracy: 0.184 - ETA: 23:55 - loss: 2.3013 - auc: 0.6116 - categorical_accuracy: 0.184 - ETA: 23:53 - loss: 2.3007 - auc: 0.6118 - categorical_accuracy: 0.185 - ETA: 23:51 - loss: 2.3001 - auc: 0.6121 - categorical_accuracy: 0.185 - ETA: 23:49 - loss: 2.3003 - auc: 0.6120 - categorical_accuracy: 0.185 - ETA: 23:47 - loss: 2.3006 - auc: 0.6120 - categorical_accuracy: 0.184 - ETA: 23:45 - loss: 2.3008 - auc: 0.6119 - categorical_accuracy: 0.184 - ETA: 23:43 - loss: 2.3007 - auc: 0.6119 - categorical_accuracy: 0.185 - ETA: 23:41 - loss: 2.3008 - auc: 0.6118 - categorical_accuracy: 0.184 - ETA: 23:39 - loss: 2.3003 - auc: 0.6120 - categorical_accuracy: 0.185 - ETA: 23:37 - loss: 2.2999 - auc: 0.6121 - categorical_accuracy: 0.185 - ETA: 23:35 - loss: 2.2992 - auc: 0.6124 - categorical_accuracy: 0.185 - ETA: 23:32 - loss: 2.2990 - auc: 0.6124 - categorical_accuracy: 0.185 - ETA: 23:30 - loss: 2.2986 - auc: 0.6126 - categorical_accuracy: 0.185 - ETA: 23:28 - loss: 2.2985 - auc: 0.6125 - categorical_accuracy: 0.185 - ETA: 23:26 - loss: 2.2983 - auc: 0.6126 - categorical_accuracy: 0.185 - ETA: 23:24 - loss: 2.2980 - auc: 0.6127 - categorical_accuracy: 0.185 - ETA: 23:22 - loss: 2.2979 - auc: 0.6126 - categorical_accuracy: 0.185 - ETA: 23:20 - loss: 2.2975 - auc: 0.6127 - categorical_accuracy: 0.185 - ETA: 23:18 - loss: 2.2969 - auc: 0.6129 - categorical_accuracy: 0.185 - ETA: 23:16 - loss: 2.2967 - auc: 0.6129 - categorical_accuracy: 0.185 - ETA: 23:14 - loss: 2.2960 - auc: 0.6132 - categorical_accuracy: 0.185 - ETA: 23:12 - loss: 2.2957 - auc: 0.6133 - categorical_accuracy: 0.185 - ETA: 23:10 - loss: 2.2952 - auc: 0.6135 - categorical_accuracy: 0.185 - ETA: 23:08 - loss: 2.2949 - auc: 0.6135 - categorical_accuracy: 0.185 - ETA: 23:05 - loss: 2.2946 - auc: 0.6136 - categorical_accuracy: 0.185 - ETA: 23:03 - loss: 2.2942 - auc: 0.6137 - categorical_accuracy: 0.185 - ETA: 23:01 - loss: 2.2937 - auc: 0.6139 - categorical_accuracy: 0.186 - ETA: 22:59 - loss: 2.2939 - auc: 0.6138 - categorical_accuracy: 0.185 - ETA: 22:57 - loss: 2.2934 - auc: 0.6140 - categorical_accuracy: 0.186 - ETA: 22:55 - loss: 2.2931 - auc: 0.6141 - categorical_accuracy: 0.186 - ETA: 22:53 - loss: 2.2928 - auc: 0.6142 - categorical_accuracy: 0.186 - ETA: 22:51 - loss: 2.2925 - auc: 0.6142 - categorical_accuracy: 0.186 - ETA: 22:49 - loss: 2.2921 - auc: 0.6143 - categorical_accuracy: 0.186 - ETA: 22:47 - loss: 2.2915 - auc: 0.6145 - categorical_accuracy: 0.186 - ETA: 22:45 - loss: 2.2925 - auc: 0.6141 - categorical_accuracy: 0.186 - ETA: 22:43 - loss: 2.2920 - auc: 0.6143 - categorical_accuracy: 0.186 - ETA: 22:41 - loss: 2.2916 - auc: 0.6144 - categorical_accuracy: 0.186 - ETA: 22:38 - loss: 2.2915 - auc: 0.6144 - categorical_accuracy: 0.186 - ETA: 22:36 - loss: 2.2912 - auc: 0.6146 - categorical_accuracy: 0.186 - ETA: 22:34 - loss: 2.2905 - auc: 0.6148 - categorical_accuracy: 0.187 - ETA: 22:32 - loss: 2.2903 - auc: 0.6149 - categorical_accuracy: 0.187 - ETA: 22:30 - loss: 2.2898 - auc: 0.6151 - categorical_accuracy: 0.187 - ETA: 22:28 - loss: 2.2892 - auc: 0.6153 - categorical_accuracy: 0.187 - ETA: 22:26 - loss: 2.2893 - auc: 0.6153 - categorical_accuracy: 0.187 - ETA: 22:24 - loss: 2.2889 - auc: 0.6154 - categorical_accuracy: 0.188 - ETA: 22:22 - loss: 2.2888 - auc: 0.6154 - categorical_accuracy: 0.187 - ETA: 22:20 - loss: 2.2884 - auc: 0.6156 - categorical_accuracy: 0.187 - ETA: 22:18 - loss: 2.2886 - auc: 0.6155 - categorical_accuracy: 0.187 - ETA: 22:16 - loss: 2.2887 - auc: 0.6155 - categorical_accuracy: 0.187 - ETA: 22:13 - loss: 2.2884 - auc: 0.6156 - categorical_accuracy: 0.187 - ETA: 22:11 - loss: 2.2882 - auc: 0.6157 - categorical_accuracy: 0.187 - ETA: 22:09 - loss: 2.2877 - auc: 0.6159 - categorical_accuracy: 0.187 - ETA: 22:07 - loss: 2.2877 - auc: 0.6158 - categorical_accuracy: 0.187 - ETA: 22:05 - loss: 2.2871 - auc: 0.6160 - categorical_accuracy: 0.187 - ETA: 22:03 - loss: 2.2865 - auc: 0.6162 - categorical_accuracy: 0.187 - ETA: 22:01 - loss: 2.2863 - auc: 0.6162 - categorical_accuracy: 0.187 - ETA: 21:59 - loss: 2.2863 - auc: 0.6161 - categorical_accuracy: 0.187 - ETA: 21:57 - loss: 2.2861 - auc: 0.6161 - categorical_accuracy: 0.187 - ETA: 21:55 - loss: 2.2857 - auc: 0.6163 - categorical_accuracy: 0.187 - ETA: 21:53 - loss: 2.2852 - auc: 0.6165 - categorical_accuracy: 0.188 - ETA: 21:50 - loss: 2.2847 - auc: 0.6166 - categorical_accuracy: 0.188 - ETA: 21:48 - loss: 2.2843 - auc: 0.6167 - categorical_accuracy: 0.188 - ETA: 21:46 - loss: 2.2841 - auc: 0.6168 - categorical_accuracy: 0.188 - ETA: 21:44 - loss: 2.2837 - auc: 0.6169 - categorical_accuracy: 0.188 - ETA: 21:42 - loss: 2.2836 - auc: 0.6170 - categorical_accuracy: 0.188 - ETA: 21:40 - loss: 2.2831 - auc: 0.6172 - categorical_accuracy: 0.188 - ETA: 21:38 - loss: 2.2827 - auc: 0.6173 - categorical_accuracy: 0.188 - ETA: 21:36 - loss: 2.2826 - auc: 0.6173 - categorical_accuracy: 0.189 - ETA: 21:34 - loss: 2.2821 - auc: 0.6175 - categorical_accuracy: 0.189 - ETA: 21:32 - loss: 2.2818 - auc: 0.6177 - categorical_accuracy: 0.189 - ETA: 21:30 - loss: 2.2817 - auc: 0.6177 - categorical_accuracy: 0.189 - ETA: 21:27 - loss: 2.2817 - auc: 0.6177 - categorical_accuracy: 0.189 - ETA: 21:25 - loss: 2.2813 - auc: 0.6178 - categorical_accuracy: 0.189 - ETA: 21:23 - loss: 2.2808 - auc: 0.6180 - categorical_accuracy: 0.189 - ETA: 21:21 - loss: 2.2806 - auc: 0.6181 - categorical_accuracy: 0.189 - ETA: 21:19 - loss: 2.2807 - auc: 0.6181 - categorical_accuracy: 0.189 - ETA: 21:17 - loss: 2.2800 - auc: 0.6183 - categorical_accuracy: 0.189 - ETA: 21:15 - loss: 2.2799 - auc: 0.6184 - categorical_accuracy: 0.189 - ETA: 21:13 - loss: 2.2794 - auc: 0.6186 - categorical_accuracy: 0.189 - ETA: 21:11 - loss: 2.2792 - auc: 0.6186 - categorical_accuracy: 0.189 - ETA: 21:09 - loss: 2.2786 - auc: 0.6189 - categorical_accuracy: 0.189 - ETA: 21:07 - loss: 2.2784 - auc: 0.6189 - categorical_accuracy: 0.189 - ETA: 21:04 - loss: 2.2781 - auc: 0.6190 - categorical_accuracy: 0.189 - ETA: 21:02 - loss: 2.2778 - auc: 0.6191 - categorical_accuracy: 0.190 - ETA: 21:00 - loss: 2.2775 - auc: 0.6192 - categorical_accuracy: 0.190 - ETA: 20:58 - loss: 2.2772 - auc: 0.6192 - categorical_accuracy: 0.190 - ETA: 20:56 - loss: 2.2767 - auc: 0.6194 - categorical_accuracy: 0.190 - ETA: 20:54 - loss: 2.2764 - auc: 0.6196 - categorical_accuracy: 0.190 - ETA: 20:52 - loss: 2.2762 - auc: 0.6196 - categorical_accuracy: 0.190 - ETA: 20:50 - loss: 2.2759 - auc: 0.6197 - categorical_accuracy: 0.190 - ETA: 20:48 - loss: 2.2756 - auc: 0.6198 - categorical_accuracy: 0.190 - ETA: 20:46 - loss: 2.2755 - auc: 0.6199 - categorical_accuracy: 0.190 - ETA: 20:44 - loss: 2.2750 - auc: 0.6201 - categorical_accuracy: 0.191 - ETA: 20:41 - loss: 2.2746 - auc: 0.6202 - categorical_accuracy: 0.191 - ETA: 20:39 - loss: 2.2740 - auc: 0.6204 - categorical_accuracy: 0.191 - ETA: 20:37 - loss: 2.2741 - auc: 0.6204 - categorical_accuracy: 0.191 - ETA: 20:35 - loss: 2.2747 - auc: 0.6202 - categorical_accuracy: 0.191 - ETA: 20:33 - loss: 2.2744 - auc: 0.6202 - categorical_accuracy: 0.191 - ETA: 20:31 - loss: 2.2743 - auc: 0.6203 - categorical_accuracy: 0.191 - ETA: 20:29 - loss: 2.2745 - auc: 0.6202 - categorical_accuracy: 0.190 - ETA: 20:27 - loss: 2.2741 - auc: 0.6203 - categorical_accuracy: 0.191 - ETA: 20:25 - loss: 2.2737 - auc: 0.6204 - categorical_accuracy: 0.191 - ETA: 20:23 - loss: 2.2733 - auc: 0.6206 - categorical_accuracy: 0.191 - ETA: 20:21 - loss: 2.2731 - auc: 0.6206 - categorical_accuracy: 0.191 - ETA: 20:19 - loss: 2.2730 - auc: 0.6206 - categorical_accuracy: 0.191 - ETA: 20:17 - loss: 2.2724 - auc: 0.6208 - categorical_accuracy: 0.191 - ETA: 20:14 - loss: 2.2723 - auc: 0.6209 - categorical_accuracy: 0.191 - ETA: 20:12 - loss: 2.2722 - auc: 0.6209 - categorical_accuracy: 0.191 - ETA: 20:10 - loss: 2.2719 - auc: 0.6210 - categorical_accuracy: 0.191 - ETA: 20:08 - loss: 2.2717 - auc: 0.6210 - categorical_accuracy: 0.191 - ETA: 20:06 - loss: 2.2717 - auc: 0.6210 - categorical_accuracy: 0.191 - ETA: 20:04 - loss: 2.2712 - auc: 0.6212 - categorical_accuracy: 0.1920"
     ]
    },
    {
     "name": "stdout",
     "output_type": "stream",
     "text": [
      " 683/1135 [=================>............] - ETA: 20:02 - loss: 2.2712 - auc: 0.6211 - categorical_accuracy: 0.192 - ETA: 20:00 - loss: 2.2710 - auc: 0.6211 - categorical_accuracy: 0.192 - ETA: 19:58 - loss: 2.2704 - auc: 0.6214 - categorical_accuracy: 0.192 - ETA: 19:56 - loss: 2.2700 - auc: 0.6215 - categorical_accuracy: 0.192 - ETA: 19:54 - loss: 2.2700 - auc: 0.6215 - categorical_accuracy: 0.192 - ETA: 19:52 - loss: 2.2698 - auc: 0.6215 - categorical_accuracy: 0.192 - ETA: 19:50 - loss: 2.2694 - auc: 0.6216 - categorical_accuracy: 0.192 - ETA: 19:48 - loss: 2.2693 - auc: 0.6217 - categorical_accuracy: 0.192 - ETA: 19:46 - loss: 2.2688 - auc: 0.6218 - categorical_accuracy: 0.192 - ETA: 19:44 - loss: 2.2681 - auc: 0.6221 - categorical_accuracy: 0.193 - ETA: 19:41 - loss: 2.2674 - auc: 0.6224 - categorical_accuracy: 0.193 - ETA: 19:39 - loss: 2.2674 - auc: 0.6224 - categorical_accuracy: 0.193 - ETA: 19:37 - loss: 2.2671 - auc: 0.6225 - categorical_accuracy: 0.193 - ETA: 19:35 - loss: 2.2673 - auc: 0.6224 - categorical_accuracy: 0.193 - ETA: 19:33 - loss: 2.2670 - auc: 0.6225 - categorical_accuracy: 0.193 - ETA: 19:31 - loss: 2.2664 - auc: 0.6227 - categorical_accuracy: 0.193 - ETA: 19:29 - loss: 2.2663 - auc: 0.6228 - categorical_accuracy: 0.193 - ETA: 19:27 - loss: 2.2662 - auc: 0.6228 - categorical_accuracy: 0.193 - ETA: 19:25 - loss: 2.2658 - auc: 0.6230 - categorical_accuracy: 0.193 - ETA: 19:23 - loss: 2.2651 - auc: 0.6232 - categorical_accuracy: 0.194 - ETA: 19:21 - loss: 2.2647 - auc: 0.6234 - categorical_accuracy: 0.194 - ETA: 19:19 - loss: 2.2642 - auc: 0.6237 - categorical_accuracy: 0.194 - ETA: 19:17 - loss: 2.2641 - auc: 0.6237 - categorical_accuracy: 0.194 - ETA: 19:15 - loss: 2.2637 - auc: 0.6238 - categorical_accuracy: 0.194 - ETA: 19:13 - loss: 2.2637 - auc: 0.6238 - categorical_accuracy: 0.194 - ETA: 19:11 - loss: 2.2636 - auc: 0.6238 - categorical_accuracy: 0.194 - ETA: 19:08 - loss: 2.2639 - auc: 0.6237 - categorical_accuracy: 0.194 - ETA: 19:06 - loss: 2.2634 - auc: 0.6239 - categorical_accuracy: 0.194 - ETA: 19:04 - loss: 2.2633 - auc: 0.6239 - categorical_accuracy: 0.194 - ETA: 19:02 - loss: 2.2631 - auc: 0.6240 - categorical_accuracy: 0.194 - ETA: 19:00 - loss: 2.2624 - auc: 0.6244 - categorical_accuracy: 0.194 - ETA: 18:58 - loss: 2.2626 - auc: 0.6243 - categorical_accuracy: 0.194 - ETA: 18:56 - loss: 2.2623 - auc: 0.6244 - categorical_accuracy: 0.194 - ETA: 18:54 - loss: 2.2621 - auc: 0.6246 - categorical_accuracy: 0.194 - ETA: 18:52 - loss: 2.2617 - auc: 0.6247 - categorical_accuracy: 0.194 - ETA: 18:50 - loss: 2.2615 - auc: 0.6248 - categorical_accuracy: 0.194 - ETA: 18:48 - loss: 2.2613 - auc: 0.6250 - categorical_accuracy: 0.194 - ETA: 18:46 - loss: 2.2606 - auc: 0.6252 - categorical_accuracy: 0.195 - ETA: 18:44 - loss: 2.2601 - auc: 0.6254 - categorical_accuracy: 0.195 - ETA: 18:42 - loss: 2.2598 - auc: 0.6255 - categorical_accuracy: 0.195 - ETA: 18:39 - loss: 2.2597 - auc: 0.6256 - categorical_accuracy: 0.195 - ETA: 18:37 - loss: 2.2599 - auc: 0.6255 - categorical_accuracy: 0.195 - ETA: 18:35 - loss: 2.2601 - auc: 0.6254 - categorical_accuracy: 0.195 - ETA: 18:33 - loss: 2.2600 - auc: 0.6254 - categorical_accuracy: 0.195 - ETA: 18:31 - loss: 2.2598 - auc: 0.6255 - categorical_accuracy: 0.195 - ETA: 18:29 - loss: 2.2601 - auc: 0.6254 - categorical_accuracy: 0.195 - ETA: 18:27 - loss: 2.2601 - auc: 0.6254 - categorical_accuracy: 0.195 - ETA: 18:25 - loss: 2.2600 - auc: 0.6255 - categorical_accuracy: 0.195 - ETA: 18:23 - loss: 2.2597 - auc: 0.6256 - categorical_accuracy: 0.195 - ETA: 18:21 - loss: 2.2598 - auc: 0.6255 - categorical_accuracy: 0.196 - ETA: 18:19 - loss: 2.2594 - auc: 0.6257 - categorical_accuracy: 0.196 - ETA: 18:17 - loss: 2.2593 - auc: 0.6257 - categorical_accuracy: 0.196 - ETA: 18:14 - loss: 2.2591 - auc: 0.6258 - categorical_accuracy: 0.196 - ETA: 18:12 - loss: 2.2589 - auc: 0.6259 - categorical_accuracy: 0.196 - ETA: 18:10 - loss: 2.2586 - auc: 0.6259 - categorical_accuracy: 0.196 - ETA: 18:08 - loss: 2.2590 - auc: 0.6257 - categorical_accuracy: 0.196 - ETA: 18:06 - loss: 2.2587 - auc: 0.6258 - categorical_accuracy: 0.196 - ETA: 18:04 - loss: 2.2585 - auc: 0.6258 - categorical_accuracy: 0.196 - ETA: 18:02 - loss: 2.2583 - auc: 0.6259 - categorical_accuracy: 0.196 - ETA: 18:00 - loss: 2.2582 - auc: 0.6259 - categorical_accuracy: 0.196 - ETA: 17:58 - loss: 2.2580 - auc: 0.6260 - categorical_accuracy: 0.196 - ETA: 17:56 - loss: 2.2580 - auc: 0.6259 - categorical_accuracy: 0.196 - ETA: 17:54 - loss: 2.2577 - auc: 0.6261 - categorical_accuracy: 0.196 - ETA: 17:52 - loss: 2.2574 - auc: 0.6262 - categorical_accuracy: 0.196 - ETA: 17:49 - loss: 2.2572 - auc: 0.6262 - categorical_accuracy: 0.197 - ETA: 17:47 - loss: 2.2570 - auc: 0.6262 - categorical_accuracy: 0.197 - ETA: 17:45 - loss: 2.2567 - auc: 0.6263 - categorical_accuracy: 0.197 - ETA: 17:43 - loss: 2.2564 - auc: 0.6264 - categorical_accuracy: 0.197 - ETA: 17:41 - loss: 2.2556 - auc: 0.6267 - categorical_accuracy: 0.197 - ETA: 17:39 - loss: 2.2553 - auc: 0.6268 - categorical_accuracy: 0.197 - ETA: 17:37 - loss: 2.2553 - auc: 0.6268 - categorical_accuracy: 0.197 - ETA: 17:35 - loss: 2.2552 - auc: 0.6268 - categorical_accuracy: 0.197 - ETA: 17:32 - loss: 2.2552 - auc: 0.6269 - categorical_accuracy: 0.197 - ETA: 17:30 - loss: 2.2565 - auc: 0.6266 - categorical_accuracy: 0.197 - ETA: 17:28 - loss: 2.2570 - auc: 0.6266 - categorical_accuracy: 0.197 - ETA: 17:26 - loss: 2.2571 - auc: 0.6265 - categorical_accuracy: 0.197 - ETA: 17:24 - loss: 2.2573 - auc: 0.6265 - categorical_accuracy: 0.197 - ETA: 17:22 - loss: 2.2577 - auc: 0.6264 - categorical_accuracy: 0.197 - ETA: 17:20 - loss: 2.2572 - auc: 0.6266 - categorical_accuracy: 0.197 - ETA: 17:18 - loss: 2.2568 - auc: 0.6268 - categorical_accuracy: 0.197 - ETA: 17:16 - loss: 2.2568 - auc: 0.6268 - categorical_accuracy: 0.197 - ETA: 17:14 - loss: 2.2564 - auc: 0.6269 - categorical_accuracy: 0.197 - ETA: 17:11 - loss: 2.2562 - auc: 0.6271 - categorical_accuracy: 0.197 - ETA: 17:09 - loss: 2.2563 - auc: 0.6270 - categorical_accuracy: 0.197 - ETA: 17:07 - loss: 2.2560 - auc: 0.6271 - categorical_accuracy: 0.197 - ETA: 17:05 - loss: 2.2562 - auc: 0.6270 - categorical_accuracy: 0.197 - ETA: 17:03 - loss: 2.2561 - auc: 0.6270 - categorical_accuracy: 0.197 - ETA: 17:01 - loss: 2.2565 - auc: 0.6269 - categorical_accuracy: 0.197 - ETA: 16:59 - loss: 2.2571 - auc: 0.6268 - categorical_accuracy: 0.197 - ETA: 16:57 - loss: 2.2573 - auc: 0.6267 - categorical_accuracy: 0.197 - ETA: 16:55 - loss: 2.2567 - auc: 0.6270 - categorical_accuracy: 0.197 - ETA: 16:53 - loss: 2.2564 - auc: 0.6271 - categorical_accuracy: 0.197 - ETA: 16:51 - loss: 2.2572 - auc: 0.6269 - categorical_accuracy: 0.197 - ETA: 16:49 - loss: 2.2576 - auc: 0.6270 - categorical_accuracy: 0.198 - ETA: 16:47 - loss: 2.2585 - auc: 0.6267 - categorical_accuracy: 0.198 - ETA: 16:45 - loss: 2.2599 - auc: 0.6265 - categorical_accuracy: 0.197 - ETA: 16:43 - loss: 2.2607 - auc: 0.6262 - categorical_accuracy: 0.197 - ETA: 16:41 - loss: 2.2615 - auc: 0.6261 - categorical_accuracy: 0.197 - ETA: 16:38 - loss: 2.2619 - auc: 0.6260 - categorical_accuracy: 0.197 - ETA: 16:36 - loss: 2.2618 - auc: 0.6261 - categorical_accuracy: 0.197 - ETA: 16:34 - loss: 2.2617 - auc: 0.6261 - categorical_accuracy: 0.197 - ETA: 16:32 - loss: 2.2617 - auc: 0.6262 - categorical_accuracy: 0.197 - ETA: 16:30 - loss: 2.2614 - auc: 0.6263 - categorical_accuracy: 0.197 - ETA: 16:28 - loss: 2.2610 - auc: 0.6264 - categorical_accuracy: 0.197 - ETA: 16:26 - loss: 2.2610 - auc: 0.6264 - categorical_accuracy: 0.197 - ETA: 16:24 - loss: 2.2608 - auc: 0.6264 - categorical_accuracy: 0.197 - ETA: 16:22 - loss: 2.2609 - auc: 0.6263 - categorical_accuracy: 0.197 - ETA: 16:20 - loss: 2.2607 - auc: 0.6263 - categorical_accuracy: 0.198 - ETA: 16:18 - loss: 2.2607 - auc: 0.6263 - categorical_accuracy: 0.197 - ETA: 16:16 - loss: 2.2603 - auc: 0.6265 - categorical_accuracy: 0.197 - ETA: 16:14 - loss: 2.2600 - auc: 0.6265 - categorical_accuracy: 0.198 - ETA: 16:12 - loss: 2.2598 - auc: 0.6266 - categorical_accuracy: 0.198 - ETA: 16:10 - loss: 2.2596 - auc: 0.6267 - categorical_accuracy: 0.198 - ETA: 16:08 - loss: 2.2596 - auc: 0.6267 - categorical_accuracy: 0.1984"
     ]
    },
    {
     "name": "stdout",
     "output_type": "stream",
     "text": [
      " 797/1135 [====================>.........] - ETA: 16:06 - loss: 2.2595 - auc: 0.6267 - categorical_accuracy: 0.198 - ETA: 16:04 - loss: 2.2594 - auc: 0.6267 - categorical_accuracy: 0.198 - ETA: 16:01 - loss: 2.2592 - auc: 0.6268 - categorical_accuracy: 0.198 - ETA: 15:59 - loss: 2.2589 - auc: 0.6269 - categorical_accuracy: 0.198 - ETA: 15:57 - loss: 2.2585 - auc: 0.6271 - categorical_accuracy: 0.198 - ETA: 15:55 - loss: 2.2583 - auc: 0.6272 - categorical_accuracy: 0.198 - ETA: 15:53 - loss: 2.2580 - auc: 0.6273 - categorical_accuracy: 0.198 - ETA: 15:51 - loss: 2.2584 - auc: 0.6272 - categorical_accuracy: 0.198 - ETA: 15:49 - loss: 2.2587 - auc: 0.6271 - categorical_accuracy: 0.198 - ETA: 15:47 - loss: 2.2585 - auc: 0.6271 - categorical_accuracy: 0.198 - ETA: 15:45 - loss: 2.2586 - auc: 0.6271 - categorical_accuracy: 0.198 - ETA: 15:43 - loss: 2.2583 - auc: 0.6272 - categorical_accuracy: 0.198 - ETA: 15:41 - loss: 2.2582 - auc: 0.6272 - categorical_accuracy: 0.198 - ETA: 15:39 - loss: 2.2579 - auc: 0.6273 - categorical_accuracy: 0.198 - ETA: 15:36 - loss: 2.2581 - auc: 0.6271 - categorical_accuracy: 0.198 - ETA: 15:34 - loss: 2.2579 - auc: 0.6272 - categorical_accuracy: 0.198 - ETA: 15:32 - loss: 2.2576 - auc: 0.6272 - categorical_accuracy: 0.199 - ETA: 15:30 - loss: 2.2576 - auc: 0.6272 - categorical_accuracy: 0.199 - ETA: 15:28 - loss: 2.2573 - auc: 0.6273 - categorical_accuracy: 0.199 - ETA: 15:26 - loss: 2.2570 - auc: 0.6274 - categorical_accuracy: 0.199 - ETA: 15:24 - loss: 2.2567 - auc: 0.6275 - categorical_accuracy: 0.199 - ETA: 15:22 - loss: 2.2564 - auc: 0.6276 - categorical_accuracy: 0.199 - ETA: 15:20 - loss: 2.2562 - auc: 0.6278 - categorical_accuracy: 0.199 - ETA: 15:18 - loss: 2.2563 - auc: 0.6277 - categorical_accuracy: 0.199 - ETA: 15:16 - loss: 2.2557 - auc: 0.6280 - categorical_accuracy: 0.199 - ETA: 15:14 - loss: 2.2554 - auc: 0.6281 - categorical_accuracy: 0.199 - ETA: 15:11 - loss: 2.2553 - auc: 0.6281 - categorical_accuracy: 0.199 - ETA: 15:09 - loss: 2.2549 - auc: 0.6283 - categorical_accuracy: 0.199 - ETA: 15:07 - loss: 2.2543 - auc: 0.6285 - categorical_accuracy: 0.199 - ETA: 15:05 - loss: 2.2541 - auc: 0.6286 - categorical_accuracy: 0.200 - ETA: 15:03 - loss: 2.2545 - auc: 0.6284 - categorical_accuracy: 0.200 - ETA: 15:01 - loss: 2.2540 - auc: 0.6287 - categorical_accuracy: 0.200 - ETA: 14:59 - loss: 2.2537 - auc: 0.6288 - categorical_accuracy: 0.200 - ETA: 14:57 - loss: 2.2536 - auc: 0.6288 - categorical_accuracy: 0.200 - ETA: 14:55 - loss: 2.2538 - auc: 0.6286 - categorical_accuracy: 0.200 - ETA: 14:53 - loss: 2.2535 - auc: 0.6287 - categorical_accuracy: 0.200 - ETA: 14:51 - loss: 2.2532 - auc: 0.6288 - categorical_accuracy: 0.200 - ETA: 14:48 - loss: 2.2527 - auc: 0.6290 - categorical_accuracy: 0.200 - ETA: 14:46 - loss: 2.2530 - auc: 0.6290 - categorical_accuracy: 0.200 - ETA: 14:44 - loss: 2.2529 - auc: 0.6290 - categorical_accuracy: 0.200 - ETA: 14:42 - loss: 2.2528 - auc: 0.6290 - categorical_accuracy: 0.200 - ETA: 14:40 - loss: 2.2524 - auc: 0.6291 - categorical_accuracy: 0.200 - ETA: 14:38 - loss: 2.2529 - auc: 0.6289 - categorical_accuracy: 0.200 - ETA: 14:36 - loss: 2.2527 - auc: 0.6290 - categorical_accuracy: 0.200 - ETA: 14:34 - loss: 2.2525 - auc: 0.6291 - categorical_accuracy: 0.200 - ETA: 14:32 - loss: 2.2528 - auc: 0.6289 - categorical_accuracy: 0.200 - ETA: 14:30 - loss: 2.2526 - auc: 0.6290 - categorical_accuracy: 0.200 - ETA: 14:28 - loss: 2.2524 - auc: 0.6291 - categorical_accuracy: 0.200 - ETA: 14:25 - loss: 2.2520 - auc: 0.6292 - categorical_accuracy: 0.200 - ETA: 14:23 - loss: 2.2518 - auc: 0.6293 - categorical_accuracy: 0.200 - ETA: 14:21 - loss: 2.2516 - auc: 0.6293 - categorical_accuracy: 0.200 - ETA: 14:19 - loss: 2.2513 - auc: 0.6294 - categorical_accuracy: 0.201 - ETA: 14:17 - loss: 2.2511 - auc: 0.6295 - categorical_accuracy: 0.201 - ETA: 14:15 - loss: 2.2511 - auc: 0.6295 - categorical_accuracy: 0.201 - ETA: 14:13 - loss: 2.2510 - auc: 0.6295 - categorical_accuracy: 0.201 - ETA: 14:11 - loss: 2.2511 - auc: 0.6294 - categorical_accuracy: 0.201 - ETA: 14:09 - loss: 2.2511 - auc: 0.6294 - categorical_accuracy: 0.201 - ETA: 14:07 - loss: 2.2506 - auc: 0.6296 - categorical_accuracy: 0.201 - ETA: 14:04 - loss: 2.2503 - auc: 0.6297 - categorical_accuracy: 0.201 - ETA: 14:02 - loss: 2.2501 - auc: 0.6298 - categorical_accuracy: 0.201 - ETA: 14:00 - loss: 2.2498 - auc: 0.6299 - categorical_accuracy: 0.201 - ETA: 13:58 - loss: 2.2494 - auc: 0.6300 - categorical_accuracy: 0.201 - ETA: 13:56 - loss: 2.2491 - auc: 0.6302 - categorical_accuracy: 0.201 - ETA: 13:54 - loss: 2.2489 - auc: 0.6302 - categorical_accuracy: 0.201 - ETA: 13:52 - loss: 2.2488 - auc: 0.6303 - categorical_accuracy: 0.201 - ETA: 13:50 - loss: 2.2485 - auc: 0.6304 - categorical_accuracy: 0.201 - ETA: 13:48 - loss: 2.2483 - auc: 0.6305 - categorical_accuracy: 0.201 - ETA: 13:46 - loss: 2.2481 - auc: 0.6305 - categorical_accuracy: 0.201 - ETA: 13:44 - loss: 2.2478 - auc: 0.6306 - categorical_accuracy: 0.201 - ETA: 13:41 - loss: 2.2478 - auc: 0.6306 - categorical_accuracy: 0.201 - ETA: 13:39 - loss: 2.2477 - auc: 0.6307 - categorical_accuracy: 0.201 - ETA: 13:37 - loss: 2.2474 - auc: 0.6307 - categorical_accuracy: 0.201 - ETA: 13:35 - loss: 2.2472 - auc: 0.6308 - categorical_accuracy: 0.201 - ETA: 13:33 - loss: 2.2468 - auc: 0.6310 - categorical_accuracy: 0.201 - ETA: 13:31 - loss: 2.2466 - auc: 0.6310 - categorical_accuracy: 0.201 - ETA: 13:29 - loss: 2.2459 - auc: 0.6313 - categorical_accuracy: 0.202 - ETA: 13:27 - loss: 2.2455 - auc: 0.6315 - categorical_accuracy: 0.202 - ETA: 13:25 - loss: 2.2454 - auc: 0.6315 - categorical_accuracy: 0.202 - ETA: 13:22 - loss: 2.2452 - auc: 0.6316 - categorical_accuracy: 0.202 - ETA: 13:20 - loss: 2.2454 - auc: 0.6315 - categorical_accuracy: 0.202 - ETA: 13:18 - loss: 2.2452 - auc: 0.6315 - categorical_accuracy: 0.202 - ETA: 13:16 - loss: 2.2450 - auc: 0.6316 - categorical_accuracy: 0.202 - ETA: 13:14 - loss: 2.2445 - auc: 0.6318 - categorical_accuracy: 0.202 - ETA: 13:12 - loss: 2.2441 - auc: 0.6319 - categorical_accuracy: 0.202 - ETA: 13:10 - loss: 2.2437 - auc: 0.6321 - categorical_accuracy: 0.202 - ETA: 13:08 - loss: 2.2435 - auc: 0.6322 - categorical_accuracy: 0.202 - ETA: 13:06 - loss: 2.2430 - auc: 0.6323 - categorical_accuracy: 0.202 - ETA: 13:04 - loss: 2.2430 - auc: 0.6323 - categorical_accuracy: 0.202 - ETA: 13:01 - loss: 2.2427 - auc: 0.6324 - categorical_accuracy: 0.202 - ETA: 12:59 - loss: 2.2424 - auc: 0.6325 - categorical_accuracy: 0.202 - ETA: 12:57 - loss: 2.2423 - auc: 0.6325 - categorical_accuracy: 0.202 - ETA: 12:55 - loss: 2.2420 - auc: 0.6327 - categorical_accuracy: 0.202 - ETA: 12:53 - loss: 2.2419 - auc: 0.6327 - categorical_accuracy: 0.202 - ETA: 12:51 - loss: 2.2416 - auc: 0.6328 - categorical_accuracy: 0.203 - ETA: 12:49 - loss: 2.2414 - auc: 0.6329 - categorical_accuracy: 0.203 - ETA: 12:47 - loss: 2.2413 - auc: 0.6330 - categorical_accuracy: 0.203 - ETA: 12:45 - loss: 2.2412 - auc: 0.6330 - categorical_accuracy: 0.203 - ETA: 12:42 - loss: 2.2410 - auc: 0.6331 - categorical_accuracy: 0.202 - ETA: 12:40 - loss: 2.2409 - auc: 0.6331 - categorical_accuracy: 0.202 - ETA: 12:38 - loss: 2.2407 - auc: 0.6332 - categorical_accuracy: 0.202 - ETA: 12:36 - loss: 2.2406 - auc: 0.6332 - categorical_accuracy: 0.203 - ETA: 12:34 - loss: 2.2404 - auc: 0.6333 - categorical_accuracy: 0.203 - ETA: 12:32 - loss: 2.2405 - auc: 0.6332 - categorical_accuracy: 0.203 - ETA: 12:30 - loss: 2.2403 - auc: 0.6333 - categorical_accuracy: 0.203 - ETA: 12:28 - loss: 2.2402 - auc: 0.6333 - categorical_accuracy: 0.203 - ETA: 12:26 - loss: 2.2398 - auc: 0.6335 - categorical_accuracy: 0.203 - ETA: 12:23 - loss: 2.2399 - auc: 0.6334 - categorical_accuracy: 0.203 - ETA: 12:21 - loss: 2.2395 - auc: 0.6336 - categorical_accuracy: 0.203 - ETA: 12:19 - loss: 2.2391 - auc: 0.6338 - categorical_accuracy: 0.203 - ETA: 12:17 - loss: 2.2389 - auc: 0.6339 - categorical_accuracy: 0.203 - ETA: 12:15 - loss: 2.2390 - auc: 0.6338 - categorical_accuracy: 0.203 - ETA: 12:13 - loss: 2.2389 - auc: 0.6339 - categorical_accuracy: 0.203 - ETA: 12:11 - loss: 2.2389 - auc: 0.6338 - categorical_accuracy: 0.203 - ETA: 12:09 - loss: 2.2389 - auc: 0.6338 - categorical_accuracy: 0.2036"
     ]
    },
    {
     "name": "stdout",
     "output_type": "stream",
     "text": [
      " 912/1135 [=======================>......] - ETA: 12:06 - loss: 2.2388 - auc: 0.6338 - categorical_accuracy: 0.203 - ETA: 12:04 - loss: 2.2386 - auc: 0.6339 - categorical_accuracy: 0.203 - ETA: 12:02 - loss: 2.2387 - auc: 0.6339 - categorical_accuracy: 0.203 - ETA: 12:00 - loss: 2.2382 - auc: 0.6340 - categorical_accuracy: 0.203 - ETA: 11:58 - loss: 2.2380 - auc: 0.6341 - categorical_accuracy: 0.204 - ETA: 11:56 - loss: 2.2378 - auc: 0.6342 - categorical_accuracy: 0.204 - ETA: 11:54 - loss: 2.2375 - auc: 0.6344 - categorical_accuracy: 0.204 - ETA: 11:52 - loss: 2.2372 - auc: 0.6345 - categorical_accuracy: 0.204 - ETA: 11:49 - loss: 2.2371 - auc: 0.6345 - categorical_accuracy: 0.204 - ETA: 11:47 - loss: 2.2369 - auc: 0.6345 - categorical_accuracy: 0.204 - ETA: 11:45 - loss: 2.2367 - auc: 0.6346 - categorical_accuracy: 0.204 - ETA: 11:43 - loss: 2.2366 - auc: 0.6347 - categorical_accuracy: 0.204 - ETA: 11:41 - loss: 2.2365 - auc: 0.6347 - categorical_accuracy: 0.204 - ETA: 11:39 - loss: 2.2363 - auc: 0.6348 - categorical_accuracy: 0.204 - ETA: 11:37 - loss: 2.2358 - auc: 0.6350 - categorical_accuracy: 0.204 - ETA: 11:35 - loss: 2.2355 - auc: 0.6351 - categorical_accuracy: 0.204 - ETA: 11:32 - loss: 2.2357 - auc: 0.6351 - categorical_accuracy: 0.204 - ETA: 11:30 - loss: 2.2356 - auc: 0.6351 - categorical_accuracy: 0.204 - ETA: 11:28 - loss: 2.2352 - auc: 0.6353 - categorical_accuracy: 0.204 - ETA: 11:26 - loss: 2.2350 - auc: 0.6354 - categorical_accuracy: 0.204 - ETA: 11:24 - loss: 2.2349 - auc: 0.6354 - categorical_accuracy: 0.204 - ETA: 11:22 - loss: 2.2347 - auc: 0.6355 - categorical_accuracy: 0.204 - ETA: 11:20 - loss: 2.2344 - auc: 0.6357 - categorical_accuracy: 0.205 - ETA: 11:18 - loss: 2.2343 - auc: 0.6357 - categorical_accuracy: 0.205 - ETA: 11:15 - loss: 2.2341 - auc: 0.6358 - categorical_accuracy: 0.205 - ETA: 11:13 - loss: 2.2340 - auc: 0.6358 - categorical_accuracy: 0.205 - ETA: 11:11 - loss: 2.2339 - auc: 0.6358 - categorical_accuracy: 0.205 - ETA: 11:09 - loss: 2.2337 - auc: 0.6359 - categorical_accuracy: 0.205 - ETA: 11:07 - loss: 2.2336 - auc: 0.6359 - categorical_accuracy: 0.205 - ETA: 11:05 - loss: 2.2332 - auc: 0.6361 - categorical_accuracy: 0.205 - ETA: 11:03 - loss: 2.2332 - auc: 0.6361 - categorical_accuracy: 0.205 - ETA: 11:01 - loss: 2.2330 - auc: 0.6361 - categorical_accuracy: 0.206 - ETA: 10:58 - loss: 2.2327 - auc: 0.6363 - categorical_accuracy: 0.206 - ETA: 10:56 - loss: 2.2325 - auc: 0.6364 - categorical_accuracy: 0.206 - ETA: 10:54 - loss: 2.2328 - auc: 0.6363 - categorical_accuracy: 0.206 - ETA: 10:52 - loss: 2.2328 - auc: 0.6363 - categorical_accuracy: 0.206 - ETA: 10:50 - loss: 2.2327 - auc: 0.6364 - categorical_accuracy: 0.206 - ETA: 10:48 - loss: 2.2327 - auc: 0.6364 - categorical_accuracy: 0.206 - ETA: 10:46 - loss: 2.2321 - auc: 0.6366 - categorical_accuracy: 0.206 - ETA: 10:44 - loss: 2.2321 - auc: 0.6366 - categorical_accuracy: 0.206 - ETA: 10:41 - loss: 2.2318 - auc: 0.6367 - categorical_accuracy: 0.206 - ETA: 10:39 - loss: 2.2319 - auc: 0.6367 - categorical_accuracy: 0.206 - ETA: 10:37 - loss: 2.2314 - auc: 0.6369 - categorical_accuracy: 0.206 - ETA: 10:35 - loss: 2.2313 - auc: 0.6370 - categorical_accuracy: 0.206 - ETA: 10:33 - loss: 2.2310 - auc: 0.6371 - categorical_accuracy: 0.206 - ETA: 10:31 - loss: 2.2312 - auc: 0.6370 - categorical_accuracy: 0.206 - ETA: 10:29 - loss: 2.2312 - auc: 0.6370 - categorical_accuracy: 0.206 - ETA: 10:26 - loss: 2.2310 - auc: 0.6370 - categorical_accuracy: 0.206 - ETA: 10:24 - loss: 2.2310 - auc: 0.6370 - categorical_accuracy: 0.206 - ETA: 10:22 - loss: 2.2311 - auc: 0.6370 - categorical_accuracy: 0.206 - ETA: 10:20 - loss: 2.2308 - auc: 0.6371 - categorical_accuracy: 0.206 - ETA: 10:18 - loss: 2.2305 - auc: 0.6372 - categorical_accuracy: 0.206 - ETA: 10:16 - loss: 2.2303 - auc: 0.6373 - categorical_accuracy: 0.206 - ETA: 10:14 - loss: 2.2302 - auc: 0.6374 - categorical_accuracy: 0.206 - ETA: 10:12 - loss: 2.2299 - auc: 0.6375 - categorical_accuracy: 0.207 - ETA: 10:09 - loss: 2.2298 - auc: 0.6376 - categorical_accuracy: 0.207 - ETA: 10:07 - loss: 2.2295 - auc: 0.6377 - categorical_accuracy: 0.207 - ETA: 10:05 - loss: 2.2291 - auc: 0.6379 - categorical_accuracy: 0.207 - ETA: 10:03 - loss: 2.2289 - auc: 0.6380 - categorical_accuracy: 0.207 - ETA: 10:01 - loss: 2.2286 - auc: 0.6381 - categorical_accuracy: 0.207 - ETA: 9:59 - loss: 2.2282 - auc: 0.6383 - categorical_accuracy: 0.207 - ETA: 9:57 - loss: 2.2279 - auc: 0.6384 - categorical_accuracy: 0.20 - ETA: 9:54 - loss: 2.2273 - auc: 0.6387 - categorical_accuracy: 0.20 - ETA: 9:52 - loss: 2.2271 - auc: 0.6387 - categorical_accuracy: 0.20 - ETA: 9:50 - loss: 2.2270 - auc: 0.6387 - categorical_accuracy: 0.20 - ETA: 9:48 - loss: 2.2271 - auc: 0.6387 - categorical_accuracy: 0.20 - ETA: 9:46 - loss: 2.2267 - auc: 0.6388 - categorical_accuracy: 0.20 - ETA: 9:44 - loss: 2.2268 - auc: 0.6388 - categorical_accuracy: 0.20 - ETA: 9:42 - loss: 2.2268 - auc: 0.6388 - categorical_accuracy: 0.20 - ETA: 9:39 - loss: 2.2264 - auc: 0.6390 - categorical_accuracy: 0.20 - ETA: 9:37 - loss: 2.2261 - auc: 0.6391 - categorical_accuracy: 0.20 - ETA: 9:35 - loss: 2.2258 - auc: 0.6392 - categorical_accuracy: 0.20 - ETA: 9:33 - loss: 2.2255 - auc: 0.6393 - categorical_accuracy: 0.20 - ETA: 9:31 - loss: 2.2256 - auc: 0.6393 - categorical_accuracy: 0.20 - ETA: 9:29 - loss: 2.2255 - auc: 0.6393 - categorical_accuracy: 0.20 - ETA: 9:27 - loss: 2.2252 - auc: 0.6394 - categorical_accuracy: 0.20 - ETA: 9:24 - loss: 2.2251 - auc: 0.6395 - categorical_accuracy: 0.20 - ETA: 9:22 - loss: 2.2248 - auc: 0.6396 - categorical_accuracy: 0.20 - ETA: 9:20 - loss: 2.2245 - auc: 0.6398 - categorical_accuracy: 0.20 - ETA: 9:18 - loss: 2.2239 - auc: 0.6400 - categorical_accuracy: 0.20 - ETA: 9:16 - loss: 2.2238 - auc: 0.6401 - categorical_accuracy: 0.20 - ETA: 9:14 - loss: 2.2235 - auc: 0.6401 - categorical_accuracy: 0.20 - ETA: 9:12 - loss: 2.2235 - auc: 0.6402 - categorical_accuracy: 0.20 - ETA: 9:09 - loss: 2.2236 - auc: 0.6401 - categorical_accuracy: 0.20 - ETA: 9:07 - loss: 2.2236 - auc: 0.6401 - categorical_accuracy: 0.20 - ETA: 9:05 - loss: 2.2236 - auc: 0.6401 - categorical_accuracy: 0.20 - ETA: 9:03 - loss: 2.2234 - auc: 0.6402 - categorical_accuracy: 0.20 - ETA: 9:01 - loss: 2.2233 - auc: 0.6402 - categorical_accuracy: 0.20 - ETA: 8:59 - loss: 2.2231 - auc: 0.6402 - categorical_accuracy: 0.20 - ETA: 8:57 - loss: 2.2228 - auc: 0.6404 - categorical_accuracy: 0.20 - ETA: 8:54 - loss: 2.2226 - auc: 0.6404 - categorical_accuracy: 0.20 - ETA: 8:52 - loss: 2.2222 - auc: 0.6406 - categorical_accuracy: 0.21 - ETA: 8:50 - loss: 2.2219 - auc: 0.6407 - categorical_accuracy: 0.21 - ETA: 8:48 - loss: 2.2216 - auc: 0.6408 - categorical_accuracy: 0.21 - ETA: 8:46 - loss: 2.2215 - auc: 0.6409 - categorical_accuracy: 0.21 - ETA: 8:44 - loss: 2.2214 - auc: 0.6410 - categorical_accuracy: 0.21 - ETA: 8:42 - loss: 2.2215 - auc: 0.6409 - categorical_accuracy: 0.21 - ETA: 8:39 - loss: 2.2214 - auc: 0.6409 - categorical_accuracy: 0.21 - ETA: 8:37 - loss: 2.2212 - auc: 0.6410 - categorical_accuracy: 0.21 - ETA: 8:35 - loss: 2.2211 - auc: 0.6410 - categorical_accuracy: 0.21 - ETA: 8:33 - loss: 2.2211 - auc: 0.6410 - categorical_accuracy: 0.21 - ETA: 8:31 - loss: 2.2208 - auc: 0.6411 - categorical_accuracy: 0.21 - ETA: 8:29 - loss: 2.2207 - auc: 0.6411 - categorical_accuracy: 0.21 - ETA: 8:27 - loss: 2.2205 - auc: 0.6412 - categorical_accuracy: 0.21 - ETA: 8:24 - loss: 2.2201 - auc: 0.6414 - categorical_accuracy: 0.21 - ETA: 8:22 - loss: 2.2198 - auc: 0.6415 - categorical_accuracy: 0.21 - ETA: 8:20 - loss: 2.2194 - auc: 0.6417 - categorical_accuracy: 0.21 - ETA: 8:18 - loss: 2.2191 - auc: 0.6418 - categorical_accuracy: 0.21 - ETA: 8:16 - loss: 2.2189 - auc: 0.6420 - categorical_accuracy: 0.21 - ETA: 8:14 - loss: 2.2187 - auc: 0.6421 - categorical_accuracy: 0.21 - ETA: 8:11 - loss: 2.2183 - auc: 0.6422 - categorical_accuracy: 0.21 - ETA: 8:09 - loss: 2.2182 - auc: 0.6423 - categorical_accuracy: 0.21 - ETA: 8:07 - loss: 2.2181 - auc: 0.6424 - categorical_accuracy: 0.21 - ETA: 8:05 - loss: 2.2181 - auc: 0.6424 - categorical_accuracy: 0.21 - ETA: 8:03 - loss: 2.2181 - auc: 0.6423 - categorical_accuracy: 0.2111"
     ]
    },
    {
     "name": "stdout",
     "output_type": "stream",
     "text": [
      "1029/1135 [==========================>...] - ETA: 8:01 - loss: 2.2178 - auc: 0.6425 - categorical_accuracy: 0.21 - ETA: 7:59 - loss: 2.2176 - auc: 0.6425 - categorical_accuracy: 0.21 - ETA: 7:56 - loss: 2.2173 - auc: 0.6426 - categorical_accuracy: 0.21 - ETA: 7:54 - loss: 2.2172 - auc: 0.6426 - categorical_accuracy: 0.21 - ETA: 7:52 - loss: 2.2169 - auc: 0.6428 - categorical_accuracy: 0.21 - ETA: 7:50 - loss: 2.2167 - auc: 0.6428 - categorical_accuracy: 0.21 - ETA: 7:48 - loss: 2.2166 - auc: 0.6429 - categorical_accuracy: 0.21 - ETA: 7:46 - loss: 2.2161 - auc: 0.6431 - categorical_accuracy: 0.21 - ETA: 7:44 - loss: 2.2160 - auc: 0.6432 - categorical_accuracy: 0.21 - ETA: 7:41 - loss: 2.2156 - auc: 0.6433 - categorical_accuracy: 0.21 - ETA: 7:39 - loss: 2.2154 - auc: 0.6434 - categorical_accuracy: 0.21 - ETA: 7:37 - loss: 2.2154 - auc: 0.6433 - categorical_accuracy: 0.21 - ETA: 7:35 - loss: 2.2150 - auc: 0.6435 - categorical_accuracy: 0.21 - ETA: 7:33 - loss: 2.2148 - auc: 0.6436 - categorical_accuracy: 0.21 - ETA: 7:31 - loss: 2.2145 - auc: 0.6437 - categorical_accuracy: 0.21 - ETA: 7:28 - loss: 2.2144 - auc: 0.6437 - categorical_accuracy: 0.21 - ETA: 7:26 - loss: 2.2141 - auc: 0.6438 - categorical_accuracy: 0.21 - ETA: 7:24 - loss: 2.2140 - auc: 0.6439 - categorical_accuracy: 0.21 - ETA: 7:22 - loss: 2.2135 - auc: 0.6441 - categorical_accuracy: 0.21 - ETA: 7:20 - loss: 2.2132 - auc: 0.6443 - categorical_accuracy: 0.21 - ETA: 7:18 - loss: 2.2131 - auc: 0.6444 - categorical_accuracy: 0.21 - ETA: 7:16 - loss: 2.2132 - auc: 0.6444 - categorical_accuracy: 0.21 - ETA: 7:13 - loss: 2.2130 - auc: 0.6445 - categorical_accuracy: 0.21 - ETA: 7:11 - loss: 2.2127 - auc: 0.6446 - categorical_accuracy: 0.21 - ETA: 7:09 - loss: 2.2125 - auc: 0.6447 - categorical_accuracy: 0.21 - ETA: 7:07 - loss: 2.2121 - auc: 0.6448 - categorical_accuracy: 0.21 - ETA: 7:05 - loss: 2.2120 - auc: 0.6449 - categorical_accuracy: 0.21 - ETA: 7:03 - loss: 2.2121 - auc: 0.6449 - categorical_accuracy: 0.21 - ETA: 7:01 - loss: 2.2121 - auc: 0.6449 - categorical_accuracy: 0.21 - ETA: 6:58 - loss: 2.2119 - auc: 0.6450 - categorical_accuracy: 0.21 - ETA: 6:56 - loss: 2.2118 - auc: 0.6450 - categorical_accuracy: 0.21 - ETA: 6:54 - loss: 2.2115 - auc: 0.6452 - categorical_accuracy: 0.21 - ETA: 6:52 - loss: 2.2111 - auc: 0.6453 - categorical_accuracy: 0.21 - ETA: 6:50 - loss: 2.2109 - auc: 0.6454 - categorical_accuracy: 0.21 - ETA: 6:48 - loss: 2.2108 - auc: 0.6455 - categorical_accuracy: 0.21 - ETA: 6:45 - loss: 2.2106 - auc: 0.6455 - categorical_accuracy: 0.21 - ETA: 6:43 - loss: 2.2103 - auc: 0.6456 - categorical_accuracy: 0.21 - ETA: 6:41 - loss: 2.2099 - auc: 0.6458 - categorical_accuracy: 0.21 - ETA: 6:39 - loss: 2.2099 - auc: 0.6457 - categorical_accuracy: 0.21 - ETA: 6:37 - loss: 2.2097 - auc: 0.6458 - categorical_accuracy: 0.21 - ETA: 6:35 - loss: 2.2100 - auc: 0.6458 - categorical_accuracy: 0.21 - ETA: 6:32 - loss: 2.2098 - auc: 0.6458 - categorical_accuracy: 0.21 - ETA: 6:30 - loss: 2.2097 - auc: 0.6458 - categorical_accuracy: 0.21 - ETA: 6:28 - loss: 2.2095 - auc: 0.6459 - categorical_accuracy: 0.21 - ETA: 6:26 - loss: 2.2094 - auc: 0.6460 - categorical_accuracy: 0.21 - ETA: 6:24 - loss: 2.2094 - auc: 0.6460 - categorical_accuracy: 0.21 - ETA: 6:22 - loss: 2.2089 - auc: 0.6461 - categorical_accuracy: 0.21 - ETA: 6:20 - loss: 2.2087 - auc: 0.6463 - categorical_accuracy: 0.21 - ETA: 6:17 - loss: 2.2084 - auc: 0.6464 - categorical_accuracy: 0.21 - ETA: 6:15 - loss: 2.2082 - auc: 0.6465 - categorical_accuracy: 0.21 - ETA: 6:13 - loss: 2.2082 - auc: 0.6465 - categorical_accuracy: 0.21 - ETA: 6:11 - loss: 2.2081 - auc: 0.6466 - categorical_accuracy: 0.21 - ETA: 6:09 - loss: 2.2080 - auc: 0.6466 - categorical_accuracy: 0.21 - ETA: 6:07 - loss: 2.2078 - auc: 0.6467 - categorical_accuracy: 0.21 - ETA: 6:04 - loss: 2.2076 - auc: 0.6467 - categorical_accuracy: 0.21 - ETA: 6:02 - loss: 2.2079 - auc: 0.6466 - categorical_accuracy: 0.21 - ETA: 6:00 - loss: 2.2076 - auc: 0.6468 - categorical_accuracy: 0.21 - ETA: 5:58 - loss: 2.2077 - auc: 0.6468 - categorical_accuracy: 0.21 - ETA: 5:56 - loss: 2.2074 - auc: 0.6469 - categorical_accuracy: 0.21 - ETA: 5:54 - loss: 2.2070 - auc: 0.6471 - categorical_accuracy: 0.21 - ETA: 5:51 - loss: 2.2068 - auc: 0.6472 - categorical_accuracy: 0.21 - ETA: 5:49 - loss: 2.2064 - auc: 0.6473 - categorical_accuracy: 0.21 - ETA: 5:47 - loss: 2.2064 - auc: 0.6473 - categorical_accuracy: 0.21 - ETA: 5:45 - loss: 2.2062 - auc: 0.6474 - categorical_accuracy: 0.21 - ETA: 5:43 - loss: 2.2060 - auc: 0.6475 - categorical_accuracy: 0.21 - ETA: 5:41 - loss: 2.2056 - auc: 0.6476 - categorical_accuracy: 0.21 - ETA: 5:38 - loss: 2.2057 - auc: 0.6476 - categorical_accuracy: 0.21 - ETA: 5:36 - loss: 2.2055 - auc: 0.6477 - categorical_accuracy: 0.21 - ETA: 5:34 - loss: 2.2051 - auc: 0.6478 - categorical_accuracy: 0.21 - ETA: 5:32 - loss: 2.2049 - auc: 0.6479 - categorical_accuracy: 0.21 - ETA: 5:30 - loss: 2.2046 - auc: 0.6480 - categorical_accuracy: 0.21 - ETA: 5:28 - loss: 2.2046 - auc: 0.6481 - categorical_accuracy: 0.21 - ETA: 5:25 - loss: 2.2047 - auc: 0.6481 - categorical_accuracy: 0.21 - ETA: 5:23 - loss: 2.2043 - auc: 0.6482 - categorical_accuracy: 0.21 - ETA: 5:21 - loss: 2.2045 - auc: 0.6481 - categorical_accuracy: 0.21 - ETA: 5:19 - loss: 2.2045 - auc: 0.6481 - categorical_accuracy: 0.21 - ETA: 5:17 - loss: 2.2044 - auc: 0.6481 - categorical_accuracy: 0.21 - ETA: 5:15 - loss: 2.2043 - auc: 0.6482 - categorical_accuracy: 0.21 - ETA: 5:12 - loss: 2.2039 - auc: 0.6483 - categorical_accuracy: 0.21 - ETA: 5:10 - loss: 2.2039 - auc: 0.6483 - categorical_accuracy: 0.21 - ETA: 5:08 - loss: 2.2038 - auc: 0.6483 - categorical_accuracy: 0.21 - ETA: 5:06 - loss: 2.2036 - auc: 0.6484 - categorical_accuracy: 0.21 - ETA: 5:04 - loss: 2.2034 - auc: 0.6484 - categorical_accuracy: 0.21 - ETA: 5:02 - loss: 2.2032 - auc: 0.6485 - categorical_accuracy: 0.21 - ETA: 4:59 - loss: 2.2029 - auc: 0.6486 - categorical_accuracy: 0.21 - ETA: 4:57 - loss: 2.2027 - auc: 0.6486 - categorical_accuracy: 0.21 - ETA: 4:55 - loss: 2.2027 - auc: 0.6487 - categorical_accuracy: 0.21 - ETA: 4:53 - loss: 2.2022 - auc: 0.6488 - categorical_accuracy: 0.21 - ETA: 4:51 - loss: 2.2019 - auc: 0.6489 - categorical_accuracy: 0.21 - ETA: 4:49 - loss: 2.2017 - auc: 0.6490 - categorical_accuracy: 0.21 - ETA: 4:46 - loss: 2.2015 - auc: 0.6491 - categorical_accuracy: 0.21 - ETA: 4:44 - loss: 2.2012 - auc: 0.6492 - categorical_accuracy: 0.21 - ETA: 4:42 - loss: 2.2009 - auc: 0.6493 - categorical_accuracy: 0.21 - ETA: 4:40 - loss: 2.2006 - auc: 0.6494 - categorical_accuracy: 0.21 - ETA: 4:38 - loss: 2.2003 - auc: 0.6495 - categorical_accuracy: 0.21 - ETA: 4:36 - loss: 2.2001 - auc: 0.6497 - categorical_accuracy: 0.21 - ETA: 4:33 - loss: 2.2000 - auc: 0.6497 - categorical_accuracy: 0.21 - ETA: 4:31 - loss: 2.1998 - auc: 0.6498 - categorical_accuracy: 0.21 - ETA: 4:29 - loss: 2.1997 - auc: 0.6498 - categorical_accuracy: 0.21 - ETA: 4:27 - loss: 2.1998 - auc: 0.6498 - categorical_accuracy: 0.21 - ETA: 4:25 - loss: 2.1998 - auc: 0.6498 - categorical_accuracy: 0.21 - ETA: 4:23 - loss: 2.1996 - auc: 0.6499 - categorical_accuracy: 0.21 - ETA: 4:20 - loss: 2.1994 - auc: 0.6499 - categorical_accuracy: 0.21 - ETA: 4:18 - loss: 2.1992 - auc: 0.6500 - categorical_accuracy: 0.21 - ETA: 4:16 - loss: 2.1989 - auc: 0.6501 - categorical_accuracy: 0.21 - ETA: 4:14 - loss: 2.1988 - auc: 0.6501 - categorical_accuracy: 0.21 - ETA: 4:12 - loss: 2.1987 - auc: 0.6502 - categorical_accuracy: 0.21 - ETA: 4:10 - loss: 2.1985 - auc: 0.6503 - categorical_accuracy: 0.21 - ETA: 4:07 - loss: 2.1982 - auc: 0.6504 - categorical_accuracy: 0.21 - ETA: 4:05 - loss: 2.1979 - auc: 0.6505 - categorical_accuracy: 0.21 - ETA: 4:03 - loss: 2.1980 - auc: 0.6505 - categorical_accuracy: 0.21 - ETA: 4:01 - loss: 2.1979 - auc: 0.6505 - categorical_accuracy: 0.21 - ETA: 3:59 - loss: 2.1976 - auc: 0.6506 - categorical_accuracy: 0.21 - ETA: 3:57 - loss: 2.1977 - auc: 0.6506 - categorical_accuracy: 0.21 - ETA: 3:54 - loss: 2.1975 - auc: 0.6507 - categorical_accuracy: 0.21 - ETA: 3:52 - loss: 2.1973 - auc: 0.6507 - categorical_accuracy: 0.21 - ETA: 3:50 - loss: 2.1971 - auc: 0.6508 - categorical_accuracy: 0.2186"
     ]
    },
    {
     "name": "stdout",
     "output_type": "stream",
     "text": [
      "1099/1135 [============================>.] - ETA: 3:48 - loss: 2.1970 - auc: 0.6508 - categorical_accuracy: 0.21 - ETA: 3:46 - loss: 2.1968 - auc: 0.6509 - categorical_accuracy: 0.21 - ETA: 3:44 - loss: 2.1965 - auc: 0.6510 - categorical_accuracy: 0.21 - ETA: 3:41 - loss: 2.1961 - auc: 0.6512 - categorical_accuracy: 0.21 - ETA: 3:39 - loss: 2.1959 - auc: 0.6513 - categorical_accuracy: 0.21 - ETA: 3:37 - loss: 2.1959 - auc: 0.6513 - categorical_accuracy: 0.21 - ETA: 3:35 - loss: 2.1958 - auc: 0.6513 - categorical_accuracy: 0.21 - ETA: 3:33 - loss: 2.1957 - auc: 0.6514 - categorical_accuracy: 0.21 - ETA: 3:31 - loss: 2.1955 - auc: 0.6515 - categorical_accuracy: 0.21 - ETA: 3:28 - loss: 2.1952 - auc: 0.6516 - categorical_accuracy: 0.21 - ETA: 3:26 - loss: 2.1948 - auc: 0.6518 - categorical_accuracy: 0.21 - ETA: 3:24 - loss: 2.1948 - auc: 0.6518 - categorical_accuracy: 0.21 - ETA: 3:22 - loss: 2.1945 - auc: 0.6518 - categorical_accuracy: 0.21 - ETA: 3:20 - loss: 2.1944 - auc: 0.6519 - categorical_accuracy: 0.21 - ETA: 3:18 - loss: 2.1945 - auc: 0.6519 - categorical_accuracy: 0.21 - ETA: 3:15 - loss: 2.1945 - auc: 0.6519 - categorical_accuracy: 0.21 - ETA: 3:13 - loss: 2.1944 - auc: 0.6519 - categorical_accuracy: 0.21 - ETA: 3:11 - loss: 2.1943 - auc: 0.6519 - categorical_accuracy: 0.21 - ETA: 3:09 - loss: 2.1939 - auc: 0.6521 - categorical_accuracy: 0.21 - ETA: 3:07 - loss: 2.1935 - auc: 0.6523 - categorical_accuracy: 0.22 - ETA: 3:05 - loss: 2.1936 - auc: 0.6522 - categorical_accuracy: 0.22 - ETA: 3:02 - loss: 2.1934 - auc: 0.6523 - categorical_accuracy: 0.22 - ETA: 3:00 - loss: 2.1933 - auc: 0.6523 - categorical_accuracy: 0.22 - ETA: 2:58 - loss: 2.1932 - auc: 0.6524 - categorical_accuracy: 0.22 - ETA: 2:56 - loss: 2.1932 - auc: 0.6524 - categorical_accuracy: 0.22 - ETA: 2:54 - loss: 2.1930 - auc: 0.6525 - categorical_accuracy: 0.22 - ETA: 2:51 - loss: 2.1927 - auc: 0.6526 - categorical_accuracy: 0.22 - ETA: 2:49 - loss: 2.1925 - auc: 0.6527 - categorical_accuracy: 0.22 - ETA: 2:47 - loss: 2.1924 - auc: 0.6527 - categorical_accuracy: 0.22 - ETA: 2:45 - loss: 2.1922 - auc: 0.6528 - categorical_accuracy: 0.22 - ETA: 2:43 - loss: 2.1920 - auc: 0.6528 - categorical_accuracy: 0.22 - ETA: 2:41 - loss: 2.1917 - auc: 0.6530 - categorical_accuracy: 0.22 - ETA: 2:38 - loss: 2.1916 - auc: 0.6530 - categorical_accuracy: 0.22 - ETA: 2:36 - loss: 2.1914 - auc: 0.6531 - categorical_accuracy: 0.22 - ETA: 2:34 - loss: 2.1910 - auc: 0.6532 - categorical_accuracy: 0.22 - ETA: 2:32 - loss: 2.1906 - auc: 0.6534 - categorical_accuracy: 0.22 - ETA: 2:30 - loss: 2.1903 - auc: 0.6535 - categorical_accuracy: 0.22 - ETA: 2:28 - loss: 2.1900 - auc: 0.6537 - categorical_accuracy: 0.22 - ETA: 2:25 - loss: 2.1900 - auc: 0.6537 - categorical_accuracy: 0.22 - ETA: 2:23 - loss: 2.1899 - auc: 0.6537 - categorical_accuracy: 0.22 - ETA: 2:21 - loss: 2.1897 - auc: 0.6538 - categorical_accuracy: 0.22 - ETA: 2:19 - loss: 2.1894 - auc: 0.6539 - categorical_accuracy: 0.22 - ETA: 2:17 - loss: 2.1893 - auc: 0.6539 - categorical_accuracy: 0.22 - ETA: 2:15 - loss: 2.1891 - auc: 0.6540 - categorical_accuracy: 0.22 - ETA: 2:12 - loss: 2.1889 - auc: 0.6541 - categorical_accuracy: 0.22 - ETA: 2:10 - loss: 2.1888 - auc: 0.6541 - categorical_accuracy: 0.22 - ETA: 2:08 - loss: 2.1885 - auc: 0.6542 - categorical_accuracy: 0.22 - ETA: 2:06 - loss: 2.1883 - auc: 0.6543 - categorical_accuracy: 0.22 - ETA: 2:04 - loss: 2.1879 - auc: 0.6545 - categorical_accuracy: 0.22 - ETA: 2:01 - loss: 2.1877 - auc: 0.6545 - categorical_accuracy: 0.22 - ETA: 1:59 - loss: 2.1874 - auc: 0.6546 - categorical_accuracy: 0.22 - ETA: 1:57 - loss: 2.1872 - auc: 0.6547 - categorical_accuracy: 0.22 - ETA: 1:55 - loss: 2.1872 - auc: 0.6547 - categorical_accuracy: 0.22 - ETA: 1:53 - loss: 2.1869 - auc: 0.6548 - categorical_accuracy: 0.22 - ETA: 1:51 - loss: 2.1869 - auc: 0.6548 - categorical_accuracy: 0.22 - ETA: 1:48 - loss: 2.1865 - auc: 0.6550 - categorical_accuracy: 0.22 - ETA: 1:46 - loss: 2.1864 - auc: 0.6550 - categorical_accuracy: 0.22 - ETA: 1:44 - loss: 2.1861 - auc: 0.6551 - categorical_accuracy: 0.22 - ETA: 1:42 - loss: 2.1859 - auc: 0.6552 - categorical_accuracy: 0.22 - ETA: 1:40 - loss: 2.1857 - auc: 0.6553 - categorical_accuracy: 0.22 - ETA: 1:38 - loss: 2.1859 - auc: 0.6553 - categorical_accuracy: 0.22 - ETA: 1:35 - loss: 2.1856 - auc: 0.6554 - categorical_accuracy: 0.22 - ETA: 1:33 - loss: 2.1853 - auc: 0.6555 - categorical_accuracy: 0.22 - ETA: 1:31 - loss: 2.1851 - auc: 0.6556 - categorical_accuracy: 0.22 - ETA: 1:29 - loss: 2.1851 - auc: 0.6556 - categorical_accuracy: 0.22 - ETA: 1:27 - loss: 2.1849 - auc: 0.6556 - categorical_accuracy: 0.22 - ETA: 1:24 - loss: 2.1850 - auc: 0.6556 - categorical_accuracy: 0.22 - ETA: 1:22 - loss: 2.1847 - auc: 0.6557 - categorical_accuracy: 0.22 - ETA: 1:20 - loss: 2.1848 - auc: 0.6556 - categorical_accuracy: 0.22 - ETA: 1:18 - loss: 2.1846 - auc: 0.6557 - categorical_accuracy: 0.2231"
     ]
    },
    {
     "ename": "KeyboardInterrupt",
     "evalue": "",
     "output_type": "error",
     "traceback": [
      "\u001b[1;31m---------------------------------------------------------------------------\u001b[0m",
      "\u001b[1;31mKeyboardInterrupt\u001b[0m                         Traceback (most recent call last)",
      "\u001b[1;32m<ipython-input-51-b1bf3964f95c>\u001b[0m in \u001b[0;36m<module>\u001b[1;34m\u001b[0m\n\u001b[0;32m      3\u001b[0m                     \u001b[0mvalidation_data\u001b[0m\u001b[1;33m=\u001b[0m\u001b[0mvalid_generator\u001b[0m\u001b[1;33m,\u001b[0m\u001b[1;33m\u001b[0m\u001b[0m\n\u001b[0;32m      4\u001b[0m                     \u001b[0mvalidation_steps\u001b[0m\u001b[1;33m=\u001b[0m\u001b[0mSTEP_SIZE_VALID\u001b[0m\u001b[1;33m,\u001b[0m\u001b[1;33m\u001b[0m\u001b[0m\n\u001b[1;32m----> 5\u001b[1;33m                     epochs=2)\n\u001b[0m",
      "\u001b[1;32mc:\\users\\ketan\\appdata\\local\\programs\\python\\python37\\lib\\site-packages\\keras\\engine\\training.py\u001b[0m in \u001b[0;36mfit_generator\u001b[1;34m(self, generator, steps_per_epoch, epochs, verbose, callbacks, validation_data, validation_steps, validation_freq, class_weight, max_queue_size, workers, use_multiprocessing, shuffle, initial_epoch)\u001b[0m\n\u001b[0;32m   1987\u001b[0m         \u001b[0muse_multiprocessing\u001b[0m\u001b[1;33m=\u001b[0m\u001b[0muse_multiprocessing\u001b[0m\u001b[1;33m,\u001b[0m\u001b[1;33m\u001b[0m\u001b[0m\n\u001b[0;32m   1988\u001b[0m         \u001b[0mshuffle\u001b[0m\u001b[1;33m=\u001b[0m\u001b[0mshuffle\u001b[0m\u001b[1;33m,\u001b[0m\u001b[1;33m\u001b[0m\u001b[0m\n\u001b[1;32m-> 1989\u001b[1;33m         initial_epoch=initial_epoch)\n\u001b[0m\u001b[0;32m   1990\u001b[0m \u001b[1;33m\u001b[0m\u001b[0m\n\u001b[0;32m   1991\u001b[0m   \u001b[1;33m@\u001b[0m\u001b[0mdoc_controls\u001b[0m\u001b[1;33m.\u001b[0m\u001b[0mdo_not_generate_docs\u001b[0m\u001b[1;33m\u001b[0m\u001b[0m\n",
      "\u001b[1;32mc:\\users\\ketan\\appdata\\local\\programs\\python\\python37\\lib\\site-packages\\keras\\engine\\training.py\u001b[0m in \u001b[0;36mfit\u001b[1;34m(self, x, y, batch_size, epochs, verbose, callbacks, validation_split, validation_data, shuffle, class_weight, sample_weight, initial_epoch, steps_per_epoch, validation_steps, validation_batch_size, validation_freq, max_queue_size, workers, use_multiprocessing)\u001b[0m\n\u001b[0;32m   1182\u001b[0m                 _r=1):\n\u001b[0;32m   1183\u001b[0m               \u001b[0mcallbacks\u001b[0m\u001b[1;33m.\u001b[0m\u001b[0mon_train_batch_begin\u001b[0m\u001b[1;33m(\u001b[0m\u001b[0mstep\u001b[0m\u001b[1;33m)\u001b[0m\u001b[1;33m\u001b[0m\u001b[0m\n\u001b[1;32m-> 1184\u001b[1;33m               \u001b[0mtmp_logs\u001b[0m \u001b[1;33m=\u001b[0m \u001b[0mself\u001b[0m\u001b[1;33m.\u001b[0m\u001b[0mtrain_function\u001b[0m\u001b[1;33m(\u001b[0m\u001b[0miterator\u001b[0m\u001b[1;33m)\u001b[0m\u001b[1;33m\u001b[0m\u001b[0m\n\u001b[0m\u001b[0;32m   1185\u001b[0m               \u001b[1;32mif\u001b[0m \u001b[0mdata_handler\u001b[0m\u001b[1;33m.\u001b[0m\u001b[0mshould_sync\u001b[0m\u001b[1;33m:\u001b[0m\u001b[1;33m\u001b[0m\u001b[0m\n\u001b[0;32m   1186\u001b[0m                 \u001b[0mcontext\u001b[0m\u001b[1;33m.\u001b[0m\u001b[0masync_wait\u001b[0m\u001b[1;33m(\u001b[0m\u001b[1;33m)\u001b[0m\u001b[1;33m\u001b[0m\u001b[0m\n",
      "\u001b[1;32mc:\\users\\ketan\\appdata\\local\\programs\\python\\python37\\lib\\site-packages\\tensorflow\\python\\eager\\def_function.py\u001b[0m in \u001b[0;36m__call__\u001b[1;34m(self, *args, **kwds)\u001b[0m\n\u001b[0;32m    883\u001b[0m \u001b[1;33m\u001b[0m\u001b[0m\n\u001b[0;32m    884\u001b[0m       \u001b[1;32mwith\u001b[0m \u001b[0mOptionalXlaContext\u001b[0m\u001b[1;33m(\u001b[0m\u001b[0mself\u001b[0m\u001b[1;33m.\u001b[0m\u001b[0m_jit_compile\u001b[0m\u001b[1;33m)\u001b[0m\u001b[1;33m:\u001b[0m\u001b[1;33m\u001b[0m\u001b[0m\n\u001b[1;32m--> 885\u001b[1;33m         \u001b[0mresult\u001b[0m \u001b[1;33m=\u001b[0m \u001b[0mself\u001b[0m\u001b[1;33m.\u001b[0m\u001b[0m_call\u001b[0m\u001b[1;33m(\u001b[0m\u001b[1;33m*\u001b[0m\u001b[0margs\u001b[0m\u001b[1;33m,\u001b[0m \u001b[1;33m**\u001b[0m\u001b[0mkwds\u001b[0m\u001b[1;33m)\u001b[0m\u001b[1;33m\u001b[0m\u001b[0m\n\u001b[0m\u001b[0;32m    886\u001b[0m \u001b[1;33m\u001b[0m\u001b[0m\n\u001b[0;32m    887\u001b[0m       \u001b[0mnew_tracing_count\u001b[0m \u001b[1;33m=\u001b[0m \u001b[0mself\u001b[0m\u001b[1;33m.\u001b[0m\u001b[0mexperimental_get_tracing_count\u001b[0m\u001b[1;33m(\u001b[0m\u001b[1;33m)\u001b[0m\u001b[1;33m\u001b[0m\u001b[0m\n",
      "\u001b[1;32mc:\\users\\ketan\\appdata\\local\\programs\\python\\python37\\lib\\site-packages\\tensorflow\\python\\eager\\def_function.py\u001b[0m in \u001b[0;36m_call\u001b[1;34m(self, *args, **kwds)\u001b[0m\n\u001b[0;32m    915\u001b[0m       \u001b[1;31m# In this case we have created variables on the first call, so we run the\u001b[0m\u001b[1;33m\u001b[0m\u001b[1;33m\u001b[0m\u001b[0m\n\u001b[0;32m    916\u001b[0m       \u001b[1;31m# defunned version which is guaranteed to never create variables.\u001b[0m\u001b[1;33m\u001b[0m\u001b[1;33m\u001b[0m\u001b[0m\n\u001b[1;32m--> 917\u001b[1;33m       \u001b[1;32mreturn\u001b[0m \u001b[0mself\u001b[0m\u001b[1;33m.\u001b[0m\u001b[0m_stateless_fn\u001b[0m\u001b[1;33m(\u001b[0m\u001b[1;33m*\u001b[0m\u001b[0margs\u001b[0m\u001b[1;33m,\u001b[0m \u001b[1;33m**\u001b[0m\u001b[0mkwds\u001b[0m\u001b[1;33m)\u001b[0m  \u001b[1;31m# pylint: disable=not-callable\u001b[0m\u001b[1;33m\u001b[0m\u001b[0m\n\u001b[0m\u001b[0;32m    918\u001b[0m     \u001b[1;32melif\u001b[0m \u001b[0mself\u001b[0m\u001b[1;33m.\u001b[0m\u001b[0m_stateful_fn\u001b[0m \u001b[1;32mis\u001b[0m \u001b[1;32mnot\u001b[0m \u001b[1;32mNone\u001b[0m\u001b[1;33m:\u001b[0m\u001b[1;33m\u001b[0m\u001b[0m\n\u001b[0;32m    919\u001b[0m       \u001b[1;31m# Release the lock early so that multiple threads can perform the call\u001b[0m\u001b[1;33m\u001b[0m\u001b[1;33m\u001b[0m\u001b[0m\n",
      "\u001b[1;32mc:\\users\\ketan\\appdata\\local\\programs\\python\\python37\\lib\\site-packages\\tensorflow\\python\\eager\\function.py\u001b[0m in \u001b[0;36m__call__\u001b[1;34m(self, *args, **kwargs)\u001b[0m\n\u001b[0;32m   3038\u001b[0m        filtered_flat_args) = self._maybe_define_function(args, kwargs)\n\u001b[0;32m   3039\u001b[0m     return graph_function._call_flat(\n\u001b[1;32m-> 3040\u001b[1;33m         filtered_flat_args, captured_inputs=graph_function.captured_inputs)  # pylint: disable=protected-access\n\u001b[0m\u001b[0;32m   3041\u001b[0m \u001b[1;33m\u001b[0m\u001b[0m\n\u001b[0;32m   3042\u001b[0m   \u001b[1;33m@\u001b[0m\u001b[0mproperty\u001b[0m\u001b[1;33m\u001b[0m\u001b[0m\n",
      "\u001b[1;32mc:\\users\\ketan\\appdata\\local\\programs\\python\\python37\\lib\\site-packages\\tensorflow\\python\\eager\\function.py\u001b[0m in \u001b[0;36m_call_flat\u001b[1;34m(self, args, captured_inputs, cancellation_manager)\u001b[0m\n\u001b[0;32m   1962\u001b[0m       \u001b[1;31m# No tape is watching; skip to running the function.\u001b[0m\u001b[1;33m\u001b[0m\u001b[1;33m\u001b[0m\u001b[0m\n\u001b[0;32m   1963\u001b[0m       return self._build_call_outputs(self._inference_function.call(\n\u001b[1;32m-> 1964\u001b[1;33m           ctx, args, cancellation_manager=cancellation_manager))\n\u001b[0m\u001b[0;32m   1965\u001b[0m     forward_backward = self._select_forward_and_backward_functions(\n\u001b[0;32m   1966\u001b[0m         \u001b[0margs\u001b[0m\u001b[1;33m,\u001b[0m\u001b[1;33m\u001b[0m\u001b[0m\n",
      "\u001b[1;32mc:\\users\\ketan\\appdata\\local\\programs\\python\\python37\\lib\\site-packages\\tensorflow\\python\\eager\\function.py\u001b[0m in \u001b[0;36mcall\u001b[1;34m(self, ctx, args, cancellation_manager)\u001b[0m\n\u001b[0;32m    594\u001b[0m               \u001b[0minputs\u001b[0m\u001b[1;33m=\u001b[0m\u001b[0margs\u001b[0m\u001b[1;33m,\u001b[0m\u001b[1;33m\u001b[0m\u001b[0m\n\u001b[0;32m    595\u001b[0m               \u001b[0mattrs\u001b[0m\u001b[1;33m=\u001b[0m\u001b[0mattrs\u001b[0m\u001b[1;33m,\u001b[0m\u001b[1;33m\u001b[0m\u001b[0m\n\u001b[1;32m--> 596\u001b[1;33m               ctx=ctx)\n\u001b[0m\u001b[0;32m    597\u001b[0m         \u001b[1;32melse\u001b[0m\u001b[1;33m:\u001b[0m\u001b[1;33m\u001b[0m\u001b[0m\n\u001b[0;32m    598\u001b[0m           outputs = execute.execute_with_cancellation(\n",
      "\u001b[1;32mc:\\users\\ketan\\appdata\\local\\programs\\python\\python37\\lib\\site-packages\\tensorflow\\python\\eager\\execute.py\u001b[0m in \u001b[0;36mquick_execute\u001b[1;34m(op_name, num_outputs, inputs, attrs, ctx, name)\u001b[0m\n\u001b[0;32m     58\u001b[0m     \u001b[0mctx\u001b[0m\u001b[1;33m.\u001b[0m\u001b[0mensure_initialized\u001b[0m\u001b[1;33m(\u001b[0m\u001b[1;33m)\u001b[0m\u001b[1;33m\u001b[0m\u001b[0m\n\u001b[0;32m     59\u001b[0m     tensors = pywrap_tfe.TFE_Py_Execute(ctx._handle, device_name, op_name,\n\u001b[1;32m---> 60\u001b[1;33m                                         inputs, attrs, num_outputs)\n\u001b[0m\u001b[0;32m     61\u001b[0m   \u001b[1;32mexcept\u001b[0m \u001b[0mcore\u001b[0m\u001b[1;33m.\u001b[0m\u001b[0m_NotOkStatusException\u001b[0m \u001b[1;32mas\u001b[0m \u001b[0me\u001b[0m\u001b[1;33m:\u001b[0m\u001b[1;33m\u001b[0m\u001b[0m\n\u001b[0;32m     62\u001b[0m     \u001b[1;32mif\u001b[0m \u001b[0mname\u001b[0m \u001b[1;32mis\u001b[0m \u001b[1;32mnot\u001b[0m \u001b[1;32mNone\u001b[0m\u001b[1;33m:\u001b[0m\u001b[1;33m\u001b[0m\u001b[0m\n",
      "\u001b[1;31mKeyboardInterrupt\u001b[0m: "
     ]
    }
   ],
   "source": [
    "model.fit_generator(generator=train_generator,\n",
    "                    steps_per_epoch=STEP_SIZE_TRAIN,\n",
    "                    validation_data=valid_generator,\n",
    "                    validation_steps=STEP_SIZE_VALID,\n",
    "                    epochs=2)"
   ]
  },
  {
   "cell_type": "code",
   "execution_count": 1,
   "metadata": {},
   "outputs": [
    {
     "ename": "SyntaxError",
     "evalue": "invalid syntax (<ipython-input-1-0b69cd9bf01e>, line 1)",
     "output_type": "error",
     "traceback": [
      "\u001b[1;36m  File \u001b[1;32m\"<ipython-input-1-0b69cd9bf01e>\"\u001b[1;36m, line \u001b[1;32m1\u001b[0m\n\u001b[1;33m    source activate myenv\u001b[0m\n\u001b[1;37m                  ^\u001b[0m\n\u001b[1;31mSyntaxError\u001b[0m\u001b[1;31m:\u001b[0m invalid syntax\n"
     ]
    }
   ],
   "source": []
  },
  {
   "cell_type": "code",
   "execution_count": null,
   "metadata": {},
   "outputs": [],
   "source": []
  },
  {
   "cell_type": "code",
   "execution_count": null,
   "metadata": {},
   "outputs": [],
   "source": [
    "# backend.clear_session()"
   ]
  },
  {
   "cell_type": "code",
   "execution_count": null,
   "metadata": {},
   "outputs": [],
   "source": []
  },
  {
   "cell_type": "code",
   "execution_count": null,
   "metadata": {},
   "outputs": [],
   "source": []
  },
  {
   "cell_type": "code",
   "execution_count": null,
   "metadata": {},
   "outputs": [],
   "source": []
  },
  {
   "cell_type": "code",
   "execution_count": null,
   "metadata": {},
   "outputs": [],
   "source": []
  },
  {
   "cell_type": "code",
   "execution_count": null,
   "metadata": {},
   "outputs": [],
   "source": []
  },
  {
   "cell_type": "code",
   "execution_count": null,
   "metadata": {},
   "outputs": [],
   "source": []
  },
  {
   "cell_type": "code",
   "execution_count": null,
   "metadata": {},
   "outputs": [],
   "source": []
  },
  {
   "cell_type": "code",
   "execution_count": null,
   "metadata": {},
   "outputs": [],
   "source": []
  },
  {
   "cell_type": "code",
   "execution_count": null,
   "metadata": {},
   "outputs": [],
   "source": []
  },
  {
   "cell_type": "code",
   "execution_count": null,
   "metadata": {},
   "outputs": [],
   "source": []
  },
  {
   "cell_type": "code",
   "execution_count": null,
   "metadata": {},
   "outputs": [],
   "source": [
    "# Cameras we will use\n",
    "# cameras = ['left', 'center', 'right']\n",
    "# cameras_steering_correction = [.25, 0., -.25]\n",
    "\n",
    "def preprocess(image, top_offset=.1, bottom_offset=.1):\n",
    "    \"\"\"\n",
    "    Applies preprocessing pipeline to an image: crops `top_offset` and `bottom_offset`\n",
    "    portions of image, resizes to 32x128 px (from 160×320 in original repo) and scales pixel values to [0, 1].\n",
    "    \"\"\"\n",
    "    top = int(top_offset * image.shape[0])\n",
    "    bottom = int(bottom_offset * image.shape[0])\n",
    "    image = skimage.transform.resize(image[top:-bottom, :], (455, 256, 3), mode='constant')\n",
    "    return image\n",
    "\n",
    "def generate(data, root_path, augment=True):\n",
    "    \"\"\"\n",
    "    Keras generator yielding batches of training/validation data.\n",
    "    Applies data augmentation pipeline if `augment` is True.\n",
    "    \"\"\"\n",
    "    #print('hello')\n",
    "    while True:\n",
    "        # Generate random batch of indices\n",
    "        indices = np.random.permutation(data.count()[0])\n",
    "        batch_size = 128\n",
    "        for batch in range(0, len(indices), batch_size):\n",
    "            batch_indices = indices[batch:(batch + batch_size)]\n",
    "            # Output arrays\n",
    "            x = np.empty([0, 455, 256, 3], dtype=np.float32)\n",
    "            y = np.empty([0], dtype=np.float32)\n",
    "            # Read in and preprocess a batch of images\n",
    "            for i in batch_indices:\n",
    "                # Randomly select camera\n",
    "                #camera = np.random.randint(len(cameras)) if augment else 1\n",
    "                # Read frame image and work out steering angle\n",
    "                \n",
    "                #print(data.values[1])\n",
    "                image = Image.open(root_path + data.values[i][0])#.clip(' '))\n",
    "                image = np.array(image)\n",
    "                #print(image)\n",
    "                angle = data.angle.values[i]\n",
    "                if augment:\n",
    "                    # Add random shadow as a vertical slice of image\n",
    "                    #print( image.shape[0])\n",
    "                    h, w = image.shape[0], image.shape[1]\n",
    "                    [x1, x2] = np.random.choice(w, 2, replace=False)\n",
    "                    k = h / (x2 - x1)\n",
    "                    b = - k * x1\n",
    "                    for i in range(h):\n",
    "                        c = int((i - b) / k)\n",
    "                        image[i, :c, :] = (image[i, :c, :] * .5).astype(np.int32)\n",
    "                # Randomly shift up and down while preprocessing\n",
    "                v_delta = .05 if augment else 0\n",
    "                image = preprocess(\n",
    "                    image,\n",
    "                    top_offset=random.uniform(.375 - v_delta, .375 + v_delta),\n",
    "                    bottom_offset=random.uniform(.125 - v_delta, .125 + v_delta)\n",
    "                )\n",
    "                # Append to batch\n",
    "                x = np.append(x, [image], axis=0)\n",
    "                y = np.append(y, [angle])\n",
    "            # Randomly flip half of images in the batch\n",
    "            flip_indices = random.sample(range(x.shape[0]), int(x.shape[0] / 2))\n",
    "            x[flip_indices] = x[flip_indices, :, ::-1, :]\n",
    "            y[flip_indices] = -y[flip_indices]\n",
    "            yield (x, y)"
   ]
  },
  {
   "cell_type": "code",
   "execution_count": null,
   "metadata": {},
   "outputs": [],
   "source": [
    "#generate(df_train, local_project_path)"
   ]
  },
  {
   "cell_type": "code",
   "execution_count": null,
   "metadata": {
    "scrolled": true
   },
   "outputs": [],
   "source": [
    "history = model.fit_generator(\n",
    "    generate(df_train, local_project_path), steps_per_epoch=df_train.shape[0], epochs=1, \n",
    "    validation_data=generate(df_valid, local_project_path, augment=False), validation_steps=df_valid.shape[0],\n",
    ")"
   ]
  },
  {
   "cell_type": "code",
   "execution_count": null,
   "metadata": {},
   "outputs": [],
   "source": []
  },
  {
   "cell_type": "code",
   "execution_count": null,
   "metadata": {},
   "outputs": [],
   "source": [
    "model.fit(\n",
    "    x=generate(df_train, local_project_path), y=None, batch_size=None, epochs=1, verbose='auto',\n",
    "    callbacks=None, validation_split=0.0, validation_data=None, shuffle=True,\n",
    "    class_weight=None, sample_weight=None, initial_epoch=0, steps_per_epoch=None,\n",
    "    validation_steps=None, validation_batch_size=None, validation_freq=1,\n",
    "    max_queue_size=10, workers=1, use_multiprocessing=False\n",
    ")"
   ]
  }
 ],
 "metadata": {
  "kernelspec": {
   "display_name": "Python 3 (ipykernel)",
   "language": "python",
   "name": "python3"
  },
  "language_info": {
   "codemirror_mode": {
    "name": "ipython",
    "version": 3
   },
   "file_extension": ".py",
   "mimetype": "text/x-python",
   "name": "python",
   "nbconvert_exporter": "python",
   "pygments_lexer": "ipython3",
   "version": "3.9.6"
  }
 },
 "nbformat": 4,
 "nbformat_minor": 2
}
